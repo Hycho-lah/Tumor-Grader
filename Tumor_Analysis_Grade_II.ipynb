{
 "cells": [
  {
   "cell_type": "code",
   "execution_count": 63,
   "metadata": {
    "collapsed": true
   },
   "outputs": [],
   "source": [
    "import SimpleITK as sitk\n",
    "\n",
    "import itk\n",
    "import guiPoint\n",
    "\n",
    "%matplotlib inline\n",
    "import matplotlib.pyplot as plt\n",
    "\n",
    "import numpy as np\n",
    "from scipy import linalg\n",
    "\n",
    "from ipywidgets import interact, fixed\n",
    "from __future__ import print_function\n",
    "\n",
    "import sys\n",
    "from myshow import myshow, myshow3d\n",
    "\n",
    "import numpy as np\n",
    "from scipy import linalg\n",
    "from importlib import reload\n",
    "\n",
    "from ipywidgets import interact, fixed\n",
    "from IPython.display import clear_output"
   ]
  },
  {
   "cell_type": "markdown",
   "metadata": {},
   "source": [
    "Please enter name of images to import."
   ]
  },
  {
   "cell_type": "code",
   "execution_count": 64,
   "metadata": {
    "scrolled": true
   },
   "outputs": [],
   "source": [
    "threeD_image = sitk.ReadImage(\"1961_3D_6_22969.mha\")\n",
    "threeD_image_r = sitk.ReadImage(\"1961_3D_6_22969_resampled.mha\")\n",
    "T1_image = sitk.ReadImage(\"1961_T1_3_09108.mha\")\n",
    "T2_image = sitk.ReadImage(\"1961_T2_6_79637_resampled.mha\")\n",
    "Flair_image = sitk.ReadImage(\"1961_Flair_5_12296_resampled.mha\")"
   ]
  },
  {
   "cell_type": "code",
   "execution_count": 65,
   "metadata": {},
   "outputs": [
    {
     "name": "stdout",
     "output_type": "stream",
     "text": [
      "16-bit signed integer\n",
      "16-bit signed integer\n",
      "64-bit float\n",
      "64-bit float\n",
      "(512, 512, 60)\n",
      "(256, 256, 20)\n",
      "(256, 256, 20)\n",
      "(256, 256, 20)\n"
     ]
    }
   ],
   "source": [
    "print(threeD_image.GetPixelIDTypeAsString() )\n",
    "print(T1_image.GetPixelIDTypeAsString() )\n",
    "print(T2_image.GetPixelIDTypeAsString() )\n",
    "print(Flair_image.GetPixelIDTypeAsString() )\n",
    "print(threeD_image.GetSize())\n",
    "print(T1_image.GetSize())\n",
    "print(T2_image.GetSize())\n",
    "print(Flair_image.GetSize())"
   ]
  },
  {
   "cell_type": "markdown",
   "metadata": {},
   "source": [
    "Convert all images from int to float for convenience. "
   ]
  },
  {
   "cell_type": "code",
   "execution_count": 66,
   "metadata": {
    "collapsed": true
   },
   "outputs": [],
   "source": [
    "castFilter = sitk.CastImageFilter()\n",
    "castFilter.SetOutputPixelType(sitk.sitkFloat64 )\n",
    "threeD_image = castFilter.Execute(threeD_image)\n",
    "T1_image = castFilter.Execute(T1_image)\n",
    "T2_image = castFilter.Execute(T2_image)\n",
    "Flair_image = castFilter.Execute(Flair_image)"
   ]
  },
  {
   "cell_type": "markdown",
   "metadata": {},
   "source": [
    "## Seed definition"
   ]
  },
  {
   "cell_type": "markdown",
   "metadata": {},
   "source": [
    "Please define seeds in the cell below based on output in seed_selection.ipynb"
   ]
  },
  {
   "cell_type": "code",
   "execution_count": 67,
   "metadata": {
    "collapsed": true,
    "scrolled": true
   },
   "outputs": [],
   "source": [
    "seed_3D = [(207, 277, 30)]\n",
    "#seeds = [(325, 314, 29), (345, 275, 22), (305, 350, 22)]\n",
    "seed_T1 = [(87, 131, 11)]\n",
    "seed_T2 = [(90, 125, 10)]\n",
    "seed_Flair = [(96, 122, 11)]\n",
    "seed_ventricles = [(276, 256, 32)]"
   ]
  },
  {
   "cell_type": "markdown",
   "metadata": {},
   "source": [
    "## Visualization"
   ]
  },
  {
   "cell_type": "code",
   "execution_count": 68,
   "metadata": {
    "scrolled": false
   },
   "outputs": [
    {
     "data": {
      "application/vnd.jupyter.widget-view+json": {
       "model_id": "98d8b64cd5f34f22bee761b2b72ab21c",
       "version_major": 2,
       "version_minor": 0
      },
      "text/plain": [
       "A Jupyter Widget"
      ]
     },
     "metadata": {},
     "output_type": "display_data"
    },
    {
     "data": {
      "application/vnd.jupyter.widget-view+json": {
       "model_id": "36e1d4706b3040109d5cb6285161ed68",
       "version_major": 2,
       "version_minor": 0
      },
      "text/plain": [
       "A Jupyter Widget"
      ]
     },
     "metadata": {},
     "output_type": "display_data"
    },
    {
     "data": {
      "application/vnd.jupyter.widget-view+json": {
       "model_id": "da604584f905455d883467c683e69f4b",
       "version_major": 2,
       "version_minor": 0
      },
      "text/plain": [
       "A Jupyter Widget"
      ]
     },
     "metadata": {},
     "output_type": "display_data"
    },
    {
     "data": {
      "application/vnd.jupyter.widget-view+json": {
       "model_id": "c1276287d0a34ab881965e0335f45e57",
       "version_major": 2,
       "version_minor": 0
      },
      "text/plain": [
       "A Jupyter Widget"
      ]
     },
     "metadata": {},
     "output_type": "display_data"
    }
   ],
   "source": [
    "myshow(T1_image)\n",
    "myshow(T2_image)\n",
    "myshow(Flair_image)\n",
    "myshow3d(threeD_image)"
   ]
  },
  {
   "cell_type": "markdown",
   "metadata": {},
   "source": [
    "## Registration"
   ]
  },
  {
   "cell_type": "markdown",
   "metadata": {},
   "source": [
    "Note: function below taken from simpleITK notebook sample \"60_Registration_Introduction.ipynb\""
   ]
  },
  {
   "cell_type": "code",
   "execution_count": 69,
   "metadata": {
    "collapsed": true
   },
   "outputs": [],
   "source": [
    "# Callback invoked by the interact IPython method for scrolling through the image stacks of\n",
    "# the two images (moving and fixed).\n",
    "def display_images(fixed_image_z, moving_image_z, fixed_npa, moving_npa):\n",
    "    # Create a figure with two subplots and the specified size.\n",
    "    plt.subplots(1,2,figsize=(10,8))\n",
    "    \n",
    "    # Draw the fixed image in the first subplot.\n",
    "    plt.subplot(1,2,1)\n",
    "    plt.imshow(fixed_npa[fixed_image_z,:,:],cmap=plt.cm.Greys_r);\n",
    "    plt.title('fixed image')\n",
    "    plt.axis('off')\n",
    "    \n",
    "    # Draw the moving image in the second subplot.\n",
    "    plt.subplot(1,2,2)\n",
    "    plt.imshow(moving_npa[moving_image_z,:,:],cmap=plt.cm.Greys_r);\n",
    "    plt.title('moving image')\n",
    "    plt.axis('off')\n",
    "    \n",
    "    plt.show()\n",
    "\n",
    "# Callback invoked by the IPython interact method for scrolling and modifying the alpha blending\n",
    "# of an image stack of two images that occupy the same physical space. \n",
    "def display_images_with_alpha(image_z, alpha, fixed, moving):\n",
    "    img = (1.0 - alpha)*fixed[:,:,image_z] + alpha*moving[:,:,image_z] \n",
    "    plt.imshow(sitk.GetArrayViewFromImage(img),cmap=plt.cm.Greys_r);\n",
    "    plt.axis('off')\n",
    "    plt.show()\n",
    "    \n",
    "# Callback invoked when the StartEvent happens, sets up our new data.\n",
    "def start_plot():\n",
    "    global metric_values, multires_iterations\n",
    "    \n",
    "    metric_values = []\n",
    "    multires_iterations = []\n",
    "\n",
    "# Callback invoked when the EndEvent happens, do cleanup of data and figure.\n",
    "def end_plot():\n",
    "    global metric_values, multires_iterations\n",
    "    \n",
    "    del metric_values\n",
    "    del multires_iterations\n",
    "    # Close figure, we don't want to get a duplicate of the plot latter on.\n",
    "    plt.close()\n",
    "\n",
    "# Callback invoked when the IterationEvent happens, update our data and display new figure.    \n",
    "def plot_values(registration_method):\n",
    "    global metric_values, multires_iterations\n",
    "    \n",
    "    metric_values.append(registration_method.GetMetricValue())                                       \n",
    "    # Clear the output area (wait=True, to reduce flickering), and plot current data\n",
    "    clear_output(wait=True)\n",
    "    # Plot the similarity metric values\n",
    "    plt.plot(metric_values, 'r')\n",
    "    plt.plot(multires_iterations, [metric_values[index] for index in multires_iterations], 'b*')\n",
    "    plt.xlabel('Iteration Number',fontsize=12)\n",
    "    plt.ylabel('Metric Value',fontsize=12)\n",
    "    plt.show()\n",
    "    \n",
    "# Callback invoked when the sitkMultiResolutionIterationEvent happens, update the index into the \n",
    "# metric_values list. \n",
    "def update_multires_iterations():\n",
    "    global metric_values, multires_iterations\n",
    "    multires_iterations.append(len(metric_values))        "
   ]
  },
  {
   "cell_type": "markdown",
   "metadata": {},
   "source": [
    "Registration for threeD_image to move to T1_image"
   ]
  },
  {
   "cell_type": "code",
   "execution_count": 70,
   "metadata": {
    "scrolled": true
   },
   "outputs": [
    {
     "data": {
      "application/vnd.jupyter.widget-view+json": {
       "model_id": "e8b4d924fd89495085d88645ffa934bd",
       "version_major": 2,
       "version_minor": 0
      },
      "text/plain": [
       "A Jupyter Widget"
      ]
     },
     "metadata": {},
     "output_type": "display_data"
    }
   ],
   "source": [
    "fixed_image =  T1_image\n",
    "moving_image = threeD_image\n",
    "\n",
    "interact(display_images, fixed_image_z=(0,fixed_image.GetSize()[2]-1), moving_image_z=(0,moving_image.GetSize()[2]-1), fixed_npa = fixed(sitk.GetArrayViewFromImage(fixed_image)), moving_npa=fixed(sitk.GetArrayViewFromImage(moving_image)));"
   ]
  },
  {
   "cell_type": "code",
   "execution_count": 71,
   "metadata": {},
   "outputs": [
    {
     "data": {
      "application/vnd.jupyter.widget-view+json": {
       "model_id": "a1e17ad8b1014510b51051c1cf7c7352",
       "version_major": 2,
       "version_minor": 0
      },
      "text/plain": [
       "A Jupyter Widget"
      ]
     },
     "metadata": {},
     "output_type": "display_data"
    }
   ],
   "source": [
    "initial_transform = sitk.CenteredTransformInitializer(fixed_image, \n",
    "                                                      moving_image, \n",
    "                                                      sitk.Euler3DTransform(), \n",
    "                                                      sitk.CenteredTransformInitializerFilter.GEOMETRY)\n",
    "\n",
    "moving_resampled = sitk.Resample(moving_image, fixed_image, initial_transform, sitk.sitkLinear, 0.0, moving_image.GetPixelID())\n",
    "\n",
    "interact(display_images_with_alpha, image_z=(0,fixed_image.GetSize()[2]), alpha=(0.0,2.0,0.05), fixed = fixed(fixed_image), moving=fixed(moving_resampled));"
   ]
  },
  {
   "cell_type": "code",
   "execution_count": 72,
   "metadata": {},
   "outputs": [
    {
     "data": {
      "application/vnd.jupyter.widget-view+json": {
       "model_id": "cf3adcf6f341417f82b6a1fcc43f6cad",
       "version_major": 2,
       "version_minor": 0
      },
      "text/plain": [
       "A Jupyter Widget"
      ]
     },
     "metadata": {},
     "output_type": "display_data"
    }
   ],
   "source": [
    "interact(display_images, fixed_image_z=(0,fixed_image.GetSize()[2]-1), moving_image_z=(0,moving_resampled.GetSize()[2]-1), fixed_npa = fixed(sitk.GetArrayViewFromImage(fixed_image)), moving_npa=fixed(sitk.GetArrayViewFromImage(moving_resampled)));"
   ]
  },
  {
   "cell_type": "code",
   "execution_count": 73,
   "metadata": {},
   "outputs": [
    {
     "data": {
      "image/png": "[encoded data removed]",
      "text/plain": [
       "<matplotlib.figure.Figure at 0x10e3e2588>"
      ]
     },
     "metadata": {},
     "output_type": "display_data"
    }
   ],
   "source": [
    "registration_method = sitk.ImageRegistrationMethod()\n",
    "\n",
    "# Similarity metric settings.\n",
    "registration_method.SetMetricAsMattesMutualInformation(numberOfHistogramBins=50)\n",
    "registration_method.SetMetricSamplingStrategy(registration_method.RANDOM)\n",
    "registration_method.SetMetricSamplingPercentage(0.01)\n",
    "\n",
    "registration_method.SetInterpolator(sitk.sitkLinear)\n",
    "\n",
    "# Optimizer settings.\n",
    "registration_method.SetOptimizerAsGradientDescent(learningRate=1.0, numberOfIterations=100, convergenceMinimumValue=1e-6, convergenceWindowSize=10)\n",
    "registration_method.SetOptimizerScalesFromPhysicalShift()\n",
    "\n",
    "# Setup for the multi-resolution framework.            \n",
    "registration_method.SetShrinkFactorsPerLevel(shrinkFactors = [4,2,1])\n",
    "registration_method.SetSmoothingSigmasPerLevel(smoothingSigmas=[2,1,0])\n",
    "registration_method.SmoothingSigmasAreSpecifiedInPhysicalUnitsOn()\n",
    "\n",
    "# Don't optimize in-place, we would possibly like to run this cell multiple times.\n",
    "registration_method.SetInitialTransform(initial_transform, inPlace=False)\n",
    "\n",
    "# Connect all of the observers so that we can perform plotting during registration.\n",
    "registration_method.AddCommand(sitk.sitkStartEvent, start_plot)\n",
    "registration_method.AddCommand(sitk.sitkEndEvent, end_plot)\n",
    "registration_method.AddCommand(sitk.sitkMultiResolutionIterationEvent, update_multires_iterations) \n",
    "registration_method.AddCommand(sitk.sitkIterationEvent, lambda: plot_values(registration_method))\n",
    "\n",
    "final_transform_3D = registration_method.Execute(sitk.Cast(fixed_image, sitk.sitkFloat32), \n",
    "                                              sitk.Cast(moving_image, sitk.sitkFloat32))"
   ]
  },
  {
   "cell_type": "code",
   "execution_count": 74,
   "metadata": {},
   "outputs": [
    {
     "name": "stdout",
     "output_type": "stream",
     "text": [
      "Final metric value: -0.6301003308925001\n",
      "Optimizer's stopping condition, GradientDescentOptimizerv4Template: Convergence checker passed at iteration 9.\n"
     ]
    }
   ],
   "source": [
    "print('Final metric value: {0}'.format(registration_method.GetMetricValue()))\n",
    "print('Optimizer\\'s stopping condition, {0}'.format(registration_method.GetOptimizerStopConditionDescription()))"
   ]
  },
  {
   "cell_type": "code",
   "execution_count": 75,
   "metadata": {
    "scrolled": true
   },
   "outputs": [
    {
     "data": {
      "application/vnd.jupyter.widget-view+json": {
       "model_id": "e23119b87cc444f8bac72338ccc3528b",
       "version_major": 2,
       "version_minor": 0
      },
      "text/plain": [
       "A Jupyter Widget"
      ]
     },
     "metadata": {},
     "output_type": "display_data"
    }
   ],
   "source": [
    "moving_resampled = sitk.Resample(moving_image, fixed_image, final_transform_3D, sitk.sitkLinear, 0.0, moving_image.GetPixelID())\n",
    "\n",
    "interact(display_images_with_alpha, image_z=(0,fixed_image.GetSize()[2]), alpha=(0.0,2.0,0.05), fixed = fixed(fixed_image), moving=fixed(moving_resampled));"
   ]
  },
  {
   "cell_type": "code",
   "execution_count": 76,
   "metadata": {
    "scrolled": true
   },
   "outputs": [
    {
     "data": {
      "application/vnd.jupyter.widget-view+json": {
       "model_id": "bc9212ef41454768ab1af191dca8edeb",
       "version_major": 2,
       "version_minor": 0
      },
      "text/plain": [
       "A Jupyter Widget"
      ]
     },
     "metadata": {},
     "output_type": "display_data"
    }
   ],
   "source": [
    "interact(display_images, fixed_image_z=(0,fixed_image.GetSize()[2]-1), moving_image_z=(0,moving_resampled.GetSize()[2]-1), fixed_npa = fixed(sitk.GetArrayViewFromImage(fixed_image)), moving_npa=fixed(sitk.GetArrayViewFromImage(moving_resampled)));"
   ]
  },
  {
   "cell_type": "code",
   "execution_count": 77,
   "metadata": {
    "collapsed": true
   },
   "outputs": [],
   "source": [
    "threeD_image_r = moving_resampled "
   ]
  },
  {
   "cell_type": "code",
   "execution_count": 78,
   "metadata": {},
   "outputs": [],
   "source": [
    "#final_transform_3D_inverse = final_transform_3D.GetInverse()\n",
    "#final_transform_T2_inverse = final_transform_T2.GetInverse()\n",
    "#final_transform_Flair_inverse = final_transform_Flair.GetInverse()"
   ]
  },
  {
   "cell_type": "markdown",
   "metadata": {},
   "source": [
    "## Get Anatomical Structure"
   ]
  },
  {
   "cell_type": "code",
   "execution_count": 79,
   "metadata": {
    "scrolled": true
   },
   "outputs": [
    {
     "data": {
      "application/vnd.jupyter.widget-view+json": {
       "model_id": "43853371cf49480bb9f4533acc5a8367",
       "version_major": 2,
       "version_minor": 0
      },
      "text/plain": [
       "A Jupyter Widget"
      ]
     },
     "metadata": {},
     "output_type": "display_data"
    }
   ],
   "source": [
    "blurFilter = sitk.CurvatureFlowImageFilter()\n",
    "blurFilter.SetNumberOfIterations( 3 )\n",
    "blurFilter.SetTimeStep( 0.15 )\n",
    "threeD_image_smooth = blurFilter.Execute(threeD_image_r)\n",
    "\n",
    "myshow(threeD_image_smooth)"
   ]
  },
  {
   "cell_type": "markdown",
   "metadata": {},
   "source": [
    "Segment CSF-filled ventricular system using 3D image. "
   ]
  },
  {
   "cell_type": "code",
   "execution_count": 80,
   "metadata": {
    "scrolled": true
   },
   "outputs": [
    {
     "data": {
      "application/vnd.jupyter.widget-view+json": {
       "model_id": "59c5fc1f673a4f3eaa093b6ca4edbacd",
       "version_major": 2,
       "version_minor": 0
      },
      "text/plain": [
       "A Jupyter Widget"
      ]
     },
     "metadata": {},
     "output_type": "display_data"
    }
   ],
   "source": [
    "binaryFilter = sitk.BinaryThresholdImageFilter()\n",
    "binaryFilter.SetLowerThreshold(-100)\n",
    "binaryFilter.SetUpperThreshold(50)\n",
    "threeD_image_water_segment = binaryFilter.Execute(threeD_image_smooth)\n",
    "myshow(threeD_image_water_segment)"
   ]
  },
  {
   "cell_type": "code",
   "execution_count": 81,
   "metadata": {},
   "outputs": [
    {
     "data": {
      "application/vnd.jupyter.widget-view+json": {
       "model_id": "a357f26d7eab4a388900c29aba155269",
       "version_major": 2,
       "version_minor": 0
      },
      "text/plain": [
       "A Jupyter Widget"
      ]
     },
     "metadata": {},
     "output_type": "display_data"
    }
   ],
   "source": [
    "ThresholdFilter = sitk.ConnectedThresholdImageFilter()\n",
    "ThresholdFilter.SetSeedList(seed_ventricles)\n",
    "ThresholdFilter.SetLower(1)\n",
    "ThresholdFilter.SetUpper(1)\n",
    "threeD_image_water_segment = ThresholdFilter.Execute(threeD_image_water_segment)\n",
    "myshow(threeD_image_water_segment)"
   ]
  },
  {
   "cell_type": "code",
   "execution_count": 82,
   "metadata": {
    "scrolled": true
   },
   "outputs": [
    {
     "data": {
      "application/vnd.jupyter.widget-view+json": {
       "model_id": "42b17692b5334fee9d746c71d951da72",
       "version_major": 2,
       "version_minor": 0
      },
      "text/plain": [
       "A Jupyter Widget"
      ]
     },
     "metadata": {},
     "output_type": "display_data"
    }
   ],
   "source": [
    "closingFilter = sitk.BinaryMorphologicalClosingImageFilter()\n",
    "closingFilter.SetKernelRadius(3)\n",
    "threeD_image_water_segment = closingFilter.Execute(threeD_image_water_segment)\n",
    "myshow(threeD_image_water_segment)"
   ]
  },
  {
   "cell_type": "code",
   "execution_count": 83,
   "metadata": {},
   "outputs": [
    {
     "data": {
      "application/vnd.jupyter.widget-view+json": {
       "model_id": "faea6d3690ed4c5c9595c6f092bfb9a8",
       "version_major": 2,
       "version_minor": 0
      },
      "text/plain": [
       "A Jupyter Widget"
      ]
     },
     "metadata": {},
     "output_type": "display_data"
    }
   ],
   "source": [
    "ThresholdFilter = sitk.ConnectedThresholdImageFilter()\n",
    "ThresholdFilter.SetSeedList(seed_ventricles)\n",
    "ThresholdFilter.SetLower(1)\n",
    "ThresholdFilter.SetUpper(1)\n",
    "threeD_image_water_segment = ThresholdFilter.Execute(threeD_image_water_segment)\n",
    "myshow(threeD_image_water_segment)"
   ]
  },
  {
   "cell_type": "code",
   "execution_count": 84,
   "metadata": {},
   "outputs": [
    {
     "data": {
      "application/vnd.jupyter.widget-view+json": {
       "model_id": "b96ae4da019e4ada99f570ddf0f9e9b0",
       "version_major": 2,
       "version_minor": 0
      },
      "text/plain": [
       "A Jupyter Widget"
      ]
     },
     "metadata": {},
     "output_type": "display_data"
    }
   ],
   "source": [
    "dilateFilter= sitk.BinaryDilateImageFilter()\n",
    "threeD_image_water_segment = dilateFilter.Execute(threeD_image_water_segment)\n",
    "myshow(threeD_image_water_segment)"
   ]
  },
  {
   "cell_type": "markdown",
   "metadata": {},
   "source": [
    "Segment bone using Flair image. "
   ]
  },
  {
   "cell_type": "code",
   "execution_count": 85,
   "metadata": {
    "scrolled": true
   },
   "outputs": [
    {
     "data": {
      "application/vnd.jupyter.widget-view+json": {
       "model_id": "3ac29ae9ec494d9fbf6e3465b4d65348",
       "version_major": 2,
       "version_minor": 0
      },
      "text/plain": [
       "A Jupyter Widget"
      ]
     },
     "metadata": {},
     "output_type": "display_data"
    }
   ],
   "source": [
    "binaryFilter = sitk.BinaryThresholdImageFilter()\n",
    "binaryFilter.SetLowerThreshold(1200)\n",
    "binaryFilter.SetUpperThreshold(1700)\n",
    "Flair_image_skull_segment = binaryFilter.Execute(Flair_image)\n",
    "myshow(Flair_image_skull_segment)"
   ]
  },
  {
   "cell_type": "code",
   "execution_count": 86,
   "metadata": {},
   "outputs": [
    {
     "data": {
      "application/vnd.jupyter.widget-view+json": {
       "model_id": "9c43384445c4472895bddb9ee944d9aa",
       "version_major": 2,
       "version_minor": 0
      },
      "text/plain": [
       "A Jupyter Widget"
      ]
     },
     "metadata": {},
     "output_type": "display_data"
    }
   ],
   "source": [
    "closingFilter = sitk.BinaryMorphologicalClosingImageFilter()\n",
    "Flair_image_skull_segment = closingFilter.Execute(Flair_image_skull_segment)\n",
    "myshow(Flair_image_skull_segment)"
   ]
  },
  {
   "cell_type": "code",
   "execution_count": 87,
   "metadata": {
    "scrolled": true
   },
   "outputs": [
    {
     "data": {
      "application/vnd.jupyter.widget-view+json": {
       "model_id": "d0b7e86f1ea64cf49aa9101c5db7fd7d",
       "version_major": 2,
       "version_minor": 0
      },
      "text/plain": [
       "A Jupyter Widget"
      ]
     },
     "metadata": {},
     "output_type": "display_data"
    }
   ],
   "source": [
    "dilateFilter= sitk.BinaryDilateImageFilter()\n",
    "Flair_image_skull_segment = dilateFilter.Execute(Flair_image_skull_segment)\n",
    "myshow(Flair_image_skull_segment)"
   ]
  },
  {
   "cell_type": "code",
   "execution_count": 88,
   "metadata": {
    "scrolled": true
   },
   "outputs": [
    {
     "data": {
      "application/vnd.jupyter.widget-view+json": {
       "model_id": "c067a0f1eb224d97aaefaa008388ab4c",
       "version_major": 2,
       "version_minor": 0
      },
      "text/plain": [
       "A Jupyter Widget"
      ]
     },
     "metadata": {},
     "output_type": "display_data"
    }
   ],
   "source": [
    "openingFilter = sitk.BinaryMorphologicalOpeningImageFilter()\n",
    "openingFilter.SetKernelRadius(2)\n",
    "Flair_image_skull_segment = openingFilter.Execute(Flair_image_skull_segment)\n",
    "myshow(Flair_image_skull_segment)"
   ]
  },
  {
   "cell_type": "markdown",
   "metadata": {},
   "source": [
    "## Remove Anatomical structures"
   ]
  },
  {
   "cell_type": "code",
   "execution_count": 89,
   "metadata": {},
   "outputs": [
    {
     "data": {
      "application/vnd.jupyter.widget-view+json": {
       "model_id": "976a259c43bb4358b8ecb15824db50a4",
       "version_major": 2,
       "version_minor": 0
      },
      "text/plain": [
       "A Jupyter Widget"
      ]
     },
     "metadata": {},
     "output_type": "display_data"
    },
    {
     "data": {
      "application/vnd.jupyter.widget-view+json": {
       "model_id": "2030ae6f68fd4bb7811f6ef76804edba",
       "version_major": 2,
       "version_minor": 0
      },
      "text/plain": [
       "A Jupyter Widget"
      ]
     },
     "metadata": {},
     "output_type": "display_data"
    }
   ],
   "source": [
    "#Obtain mask\n",
    "binaryFilter = sitk.BinaryThresholdImageFilter()\n",
    "binaryFilter.SetLowerThreshold(0)\n",
    "binaryFilter.SetUpperThreshold(0)\n",
    "\n",
    "threeD_image_water_mask = binaryFilter.Execute(threeD_image_water_segment)\n",
    "myshow(threeD_image_water_mask)\n",
    "Flair_image_skull_mask = binaryFilter.Execute(Flair_image_skull_segment)\n",
    "myshow(Flair_image_skull_mask )\n"
   ]
  },
  {
   "cell_type": "code",
   "execution_count": 90,
   "metadata": {},
   "outputs": [
    {
     "data": {
      "application/vnd.jupyter.widget-view+json": {
       "model_id": "1556b756dc9843938055833010a72c03",
       "version_major": 2,
       "version_minor": 0
      },
      "text/plain": [
       "A Jupyter Widget"
      ]
     },
     "metadata": {},
     "output_type": "display_data"
    },
    {
     "data": {
      "application/vnd.jupyter.widget-view+json": {
       "model_id": "408e561402454b55b689026b6f3f0170",
       "version_major": 2,
       "version_minor": 0
      },
      "text/plain": [
       "A Jupyter Widget"
      ]
     },
     "metadata": {},
     "output_type": "display_data"
    },
    {
     "data": {
      "application/vnd.jupyter.widget-view+json": {
       "model_id": "32aa47fb46124b27ac99c9459de5ad54",
       "version_major": 2,
       "version_minor": 0
      },
      "text/plain": [
       "A Jupyter Widget"
      ]
     },
     "metadata": {},
     "output_type": "display_data"
    }
   ],
   "source": [
    "#Apply mask filter to all images\n",
    "maskFilter = sitk.MaskImageFilter()\n",
    "\n",
    "#T1_image = maskFilter.Execute(T1_image,threeD_image_water_mask)\n",
    "T2_image = maskFilter.Execute(T2_image,threeD_image_water_mask)\n",
    "#Flair_image = maskFilter.Execute(Flair_image,threeD_image_water_mask)\n",
    "\n",
    "T1_image = maskFilter.Execute(T1_image,Flair_image_skull_mask)\n",
    "T2_image = maskFilter.Execute(T2_image,Flair_image_skull_mask)\n",
    "Flair_image = maskFilter.Execute(Flair_image,Flair_image_skull_mask)\n",
    "\n",
    "myshow(T1_image)\n",
    "myshow(T2_image)\n",
    "myshow(Flair_image)"
   ]
  },
  {
   "cell_type": "markdown",
   "metadata": {},
   "source": [
    "## Segmentation T1"
   ]
  },
  {
   "cell_type": "code",
   "execution_count": 91,
   "metadata": {},
   "outputs": [
    {
     "data": {
      "application/vnd.jupyter.widget-view+json": {
       "model_id": "67fa8bfbdc314fc0af9ed24f7a682bbf",
       "version_major": 2,
       "version_minor": 0
      },
      "text/plain": [
       "A Jupyter Widget"
      ]
     },
     "metadata": {},
     "output_type": "display_data"
    }
   ],
   "source": [
    "blurFilter = sitk.CurvatureFlowImageFilter()\n",
    "blurFilter.SetNumberOfIterations( 3 )\n",
    "blurFilter.SetTimeStep( 0.15 )\n",
    "T1_image_s = blurFilter.Execute(T1_image)\n",
    "myshow(T1_image_s) "
   ]
  },
  {
   "cell_type": "code",
   "execution_count": 92,
   "metadata": {},
   "outputs": [
    {
     "data": {
      "application/vnd.jupyter.widget-view+json": {
       "model_id": "35ab791512764f648cbed60a89a5fe62",
       "version_major": 2,
       "version_minor": 0
      },
      "text/plain": [
       "A Jupyter Widget"
      ]
     },
     "metadata": {},
     "output_type": "display_data"
    }
   ],
   "source": [
    "adaptiveFilter = sitk.AdaptiveHistogramEqualizationImageFilter()\n",
    "adaptiveFilter.SetAlpha(0.5)\n",
    "adaptiveFilter.SetBeta(1)\n",
    "T1_image1 = adaptiveFilter.Execute(T1_image_s)\n",
    "myshow(T1_image1)"
   ]
  },
  {
   "cell_type": "code",
   "execution_count": 93,
   "metadata": {
    "scrolled": true
   },
   "outputs": [
    {
     "data": {
      "application/vnd.jupyter.widget-view+json": {
       "model_id": "7a2dbf1ee9c5459ea83699f280f815b1",
       "version_major": 2,
       "version_minor": 0
      },
      "text/plain": [
       "A Jupyter Widget"
      ]
     },
     "metadata": {},
     "output_type": "display_data"
    }
   ],
   "source": [
    "gradientFilter = sitk.GradientMagnitudeRecursiveGaussianImageFilter()\n",
    "#sigma = sys.argv[3]\n",
    "#sigma = sigma[1:len(sigma)-1]\n",
    "gradientFilter.SetSigma(0.8)\n",
    "T1_image2 = gradientFilter.Execute(T1_image1)\n",
    "myshow(T1_image2)"
   ]
  },
  {
   "cell_type": "code",
   "execution_count": 121,
   "metadata": {
    "scrolled": true
   },
   "outputs": [
    {
     "data": {
      "application/vnd.jupyter.widget-view+json": {
       "model_id": "e60f98db6e1243ada2c9cbfe3cea338c",
       "version_major": 2,
       "version_minor": 0
      },
      "text/plain": [
       "A Jupyter Widget"
      ]
     },
     "metadata": {},
     "output_type": "display_data"
    }
   ],
   "source": [
    "sigmoidFilter = sitk.SigmoidImageFilter()\n",
    "sigmoidFilter.SetAlpha(-70.0)\n",
    "sigmoidFilter.SetBeta(60.0)\n",
    "T1_image3= sigmoidFilter.Execute(T1_image2)\n",
    "myshow(T1_image3)"
   ]
  },
  {
   "cell_type": "code",
   "execution_count": 122,
   "metadata": {},
   "outputs": [
    {
     "data": {
      "application/vnd.jupyter.widget-view+json": {
       "model_id": "2a71c78ecedd473f8663b38cc2978860",
       "version_major": 2,
       "version_minor": 0
      },
      "text/plain": [
       "A Jupyter Widget"
      ]
     },
     "metadata": {},
     "output_type": "display_data"
    }
   ],
   "source": [
    "fastFilter = sitk.FastMarchingImageFilter()\n",
    "fastFilter.SetTrialPoints(seed_T1)\n",
    "#fastFilter.SetTrialPoints([(171, 153, 8), (187, 130, 7)])\n",
    "#fastFilter.SetTrialPoints([(186, 131, 7), (170, 154, 8), (168, 154, 9)])\n",
    "fastFilter.SetStoppingValue(0.15)\n",
    "T1_image4 = fastFilter.Execute(T1_image3)\n",
    "myshow(T1_image4)"
   ]
  },
  {
   "cell_type": "code",
   "execution_count": 123,
   "metadata": {},
   "outputs": [
    {
     "data": {
      "application/vnd.jupyter.widget-view+json": {
       "model_id": "93ab894e9dc04bd19b7b7bf43209e11d",
       "version_major": 2,
       "version_minor": 0
      },
      "text/plain": [
       "A Jupyter Widget"
      ]
     },
     "metadata": {},
     "output_type": "display_data"
    }
   ],
   "source": [
    "binaryFilter = sitk.BinaryThresholdImageFilter()\n",
    "binaryFilter.SetLowerThreshold(0)\n",
    "binaryFilter.SetUpperThreshold(10)\n",
    "T1_image5 = binaryFilter.Execute(T1_image4)\n",
    "myshow(T1_image5)"
   ]
  },
  {
   "cell_type": "code",
   "execution_count": 124,
   "metadata": {},
   "outputs": [
    {
     "data": {
      "application/vnd.jupyter.widget-view+json": {
       "model_id": "f370a1addbd24b089a8fc79726e43f39",
       "version_major": 2,
       "version_minor": 0
      },
      "text/plain": [
       "A Jupyter Widget"
      ]
     },
     "metadata": {},
     "output_type": "display_data"
    },
    {
     "data": {
      "application/vnd.jupyter.widget-view+json": {
       "model_id": "5947b8e270044a0a90a6833cffe54f00",
       "version_major": 2,
       "version_minor": 0
      },
      "text/plain": [
       "A Jupyter Widget"
      ]
     },
     "metadata": {},
     "output_type": "display_data"
    }
   ],
   "source": [
    "closingFilter = sitk.BinaryMorphologicalClosingImageFilter()\n",
    "T1_segment = closingFilter.Execute(T1_image5)\n",
    "myshow(T1_segment)\n",
    "myshow(T1_image)"
   ]
  },
  {
   "cell_type": "markdown",
   "metadata": {},
   "source": [
    "## Segmentation T2"
   ]
  },
  {
   "cell_type": "code",
   "execution_count": 125,
   "metadata": {
    "scrolled": true
   },
   "outputs": [
    {
     "data": {
      "application/vnd.jupyter.widget-view+json": {
       "model_id": "8d4fb28490d64e6f99aa152500769442",
       "version_major": 2,
       "version_minor": 0
      },
      "text/plain": [
       "A Jupyter Widget"
      ]
     },
     "metadata": {},
     "output_type": "display_data"
    }
   ],
   "source": [
    "myshow(T2_image)"
   ]
  },
  {
   "cell_type": "code",
   "execution_count": 126,
   "metadata": {},
   "outputs": [
    {
     "data": {
      "application/vnd.jupyter.widget-view+json": {
       "model_id": "dd97319d9d5e45a8a3b5bfa49d506772",
       "version_major": 2,
       "version_minor": 0
      },
      "text/plain": [
       "A Jupyter Widget"
      ]
     },
     "metadata": {},
     "output_type": "display_data"
    }
   ],
   "source": [
    "blurFilter = sitk.CurvatureFlowImageFilter()\n",
    "blurFilter.SetNumberOfIterations( 3 )\n",
    "blurFilter.SetTimeStep( 0.15 )\n",
    "T2_image_s = blurFilter.Execute(T2_image)\n",
    "myshow(T2_image_s) "
   ]
  },
  {
   "cell_type": "code",
   "execution_count": 127,
   "metadata": {
    "scrolled": false
   },
   "outputs": [
    {
     "data": {
      "application/vnd.jupyter.widget-view+json": {
       "model_id": "0cf7184b415246a3ac1d6cf0135d1264",
       "version_major": 2,
       "version_minor": 0
      },
      "text/plain": [
       "A Jupyter Widget"
      ]
     },
     "metadata": {},
     "output_type": "display_data"
    }
   ],
   "source": [
    "Threshold2Filter = sitk.ConfidenceConnectedImageFilter()\n",
    "Threshold2Filter.SetInitialNeighborhoodRadius(20)\n",
    "Threshold2Filter.SetMultiplier(1.1)\n",
    "Threshold2Filter.SetNumberOfIterations(50)\n",
    "Threshold2Filter.SetSeedList (seed_T2)\n",
    "T2_image2= Threshold2Filter.Execute(T2_image)\n",
    "myshow(T2_image2)"
   ]
  },
  {
   "cell_type": "code",
   "execution_count": 128,
   "metadata": {},
   "outputs": [
    {
     "data": {
      "application/vnd.jupyter.widget-view+json": {
       "model_id": "0017c55cbb224549a55775db65b1205f",
       "version_major": 2,
       "version_minor": 0
      },
      "text/plain": [
       "A Jupyter Widget"
      ]
     },
     "metadata": {},
     "output_type": "display_data"
    }
   ],
   "source": [
    "binaryFilter = sitk.BinaryThresholdImageFilter()\n",
    "binaryFilter.SetLowerThreshold(0)\n",
    "binaryFilter.SetUpperThreshold(0)\n",
    "T2_image3 = binaryFilter.Execute(T2_image2)\n",
    "myshow(T2_image3 )"
   ]
  },
  {
   "cell_type": "code",
   "execution_count": 129,
   "metadata": {},
   "outputs": [
    {
     "data": {
      "application/vnd.jupyter.widget-view+json": {
       "model_id": "109114c5684d4b3ebde71c153c3400c4",
       "version_major": 2,
       "version_minor": 0
      },
      "text/plain": [
       "A Jupyter Widget"
      ]
     },
     "metadata": {},
     "output_type": "display_data"
    }
   ],
   "source": [
    "ThresholdFilter = sitk.ConnectedThresholdImageFilter()\n",
    "ThresholdFilter.SetSeedList(seed_T2)\n",
    "ThresholdFilter.SetLower(1)\n",
    "ThresholdFilter.SetUpper(1)\n",
    "T2_image4 = ThresholdFilter.Execute(T2_image3)\n",
    "myshow(T2_image4)"
   ]
  },
  {
   "cell_type": "code",
   "execution_count": 130,
   "metadata": {},
   "outputs": [
    {
     "data": {
      "application/vnd.jupyter.widget-view+json": {
       "model_id": "a59d0803ae5c424a8509ddd7392d1d55",
       "version_major": 2,
       "version_minor": 0
      },
      "text/plain": [
       "A Jupyter Widget"
      ]
     },
     "metadata": {},
     "output_type": "display_data"
    }
   ],
   "source": [
    "closingFilter = sitk.BinaryMorphologicalClosingImageFilter()\n",
    "T2_image5 = closingFilter.Execute(T2_image4)\n",
    "myshow(T2_image5)"
   ]
  },
  {
   "cell_type": "code",
   "execution_count": 131,
   "metadata": {
    "scrolled": false
   },
   "outputs": [
    {
     "data": {
      "application/vnd.jupyter.widget-view+json": {
       "model_id": "f3898bcadbd241769f280ba133b3311e",
       "version_major": 2,
       "version_minor": 0
      },
      "text/plain": [
       "A Jupyter Widget"
      ]
     },
     "metadata": {},
     "output_type": "display_data"
    },
    {
     "data": {
      "application/vnd.jupyter.widget-view+json": {
       "model_id": "6d9441e421b14c25a7525cb2789e7058",
       "version_major": 2,
       "version_minor": 0
      },
      "text/plain": [
       "A Jupyter Widget"
      ]
     },
     "metadata": {},
     "output_type": "display_data"
    }
   ],
   "source": [
    "T2_segment = T2_image5\n",
    "myshow(T2_segment)\n",
    "myshow(T2_image)"
   ]
  },
  {
   "cell_type": "markdown",
   "metadata": {},
   "source": [
    "## Flair segmentation"
   ]
  },
  {
   "cell_type": "code",
   "execution_count": 132,
   "metadata": {},
   "outputs": [
    {
     "data": {
      "application/vnd.jupyter.widget-view+json": {
       "model_id": "205141914ca2472b8b51b39dca54e980",
       "version_major": 2,
       "version_minor": 0
      },
      "text/plain": [
       "A Jupyter Widget"
      ]
     },
     "metadata": {},
     "output_type": "display_data"
    }
   ],
   "source": [
    "myshow(T1_segment)"
   ]
  },
  {
   "cell_type": "code",
   "execution_count": 133,
   "metadata": {
    "collapsed": true
   },
   "outputs": [],
   "source": [
    "castFilter = sitk.CastImageFilter()\n",
    "castFilter.SetOutputPixelType(sitk.sitkInt16)\n",
    "T1_segment_int = castFilter.Execute(T1_segment)"
   ]
  },
  {
   "cell_type": "code",
   "execution_count": 134,
   "metadata": {},
   "outputs": [
    {
     "data": {
      "application/vnd.jupyter.widget-view+json": {
       "model_id": "ca699bf3d03e4540accd141537616867",
       "version_major": 2,
       "version_minor": 0
      },
      "text/plain": [
       "A Jupyter Widget"
      ]
     },
     "metadata": {},
     "output_type": "display_data"
    }
   ],
   "source": [
    "dilateFilter= sitk.BinaryDilateImageFilter()\n",
    "closingFilter.SetKernelRadius(6)\n",
    "Flair_mask = dilateFilter.Execute(T1_segment_int)\n",
    "myshow(Flair_mask)"
   ]
  },
  {
   "cell_type": "code",
   "execution_count": 135,
   "metadata": {},
   "outputs": [
    {
     "data": {
      "application/vnd.jupyter.widget-view+json": {
       "model_id": "75c34bf76713475b9951d84622c70f1e",
       "version_major": 2,
       "version_minor": 0
      },
      "text/plain": [
       "A Jupyter Widget"
      ]
     },
     "metadata": {},
     "output_type": "display_data"
    }
   ],
   "source": [
    "maskFilter = sitk.MaskImageFilter()\n",
    "Flair_image1 = maskFilter.Execute(Flair_image, Flair_mask)\n",
    "myshow(Flair_image1)"
   ]
  },
  {
   "cell_type": "code",
   "execution_count": 136,
   "metadata": {
    "scrolled": true
   },
   "outputs": [
    {
     "data": {
      "application/vnd.jupyter.widget-view+json": {
       "model_id": "a8bf57f361f04643be72771af326767f",
       "version_major": 2,
       "version_minor": 0
      },
      "text/plain": [
       "A Jupyter Widget"
      ]
     },
     "metadata": {},
     "output_type": "display_data"
    }
   ],
   "source": [
    "castFilter = sitk.CastImageFilter()\n",
    "castFilter.SetOutputPixelType(sitk.sitkFloat64 )\n",
    "Flair_image1 = castFilter.Execute(Flair_image1)\n",
    "myshow(Flair_image1)"
   ]
  },
  {
   "cell_type": "code",
   "execution_count": 137,
   "metadata": {
    "collapsed": true,
    "scrolled": true
   },
   "outputs": [],
   "source": [
    "#neighborFilter = sitk.NeighborhoodConnectedImageFilter()\n",
    "#neighborFilter.SetSeed((154, 170, 9)) \n",
    "#Flair_image2 = neighborFilter.Execute(Flair_image1)\n",
    "#neighborFilter.SetSeed((154, 170, 9)) \n",
    "#myshow(Flair_image2)"
   ]
  },
  {
   "cell_type": "code",
   "execution_count": 138,
   "metadata": {
    "collapsed": true
   },
   "outputs": [],
   "source": [
    "#cannyFilter = sitk.CannyEdgeDetectionImageFilter()\n",
    "#cannyFilter.SetLowerThreshold(0)\n",
    "#cannyFilter.SetUpperThreshold(500)\n",
    "#cannyFilter.SetVariance([5,5,5])\n",
    "#cannyFilter.SetMaximumError(0.1)\n",
    "#Flair_image2 = cannyFilter.Execute(Flair_image1)\n",
    "#myshow(Flair_image2)"
   ]
  },
  {
   "cell_type": "code",
   "execution_count": 139,
   "metadata": {
    "collapsed": true
   },
   "outputs": [],
   "source": [
    "#Threshold2Filter = sitk.ConfidenceConnectedImageFilter()\n",
    "#Threshold2Filter.SetInitialNeighborhoodRadius(5)\n",
    "#Threshold2Filter.SetMultiplier(2)\n",
    "#Threshold2Filter.SetNumberOfIterations(15)\n",
    "#Threshold2Filter.SetSeedList(seed_Flair)\n",
    "#Flair_image1 = Threshold2Filter.Execute(Flair_image1)\n",
    "#myshow(Flair_image1)"
   ]
  },
  {
   "cell_type": "code",
   "execution_count": 140,
   "metadata": {
    "collapsed": true
   },
   "outputs": [],
   "source": [
    "#otsu_filter = sitk.OtsuThresholdImageFilter()\n",
    "#otsu_filter.SetInsideValue(0)\n",
    "#otsu_filter.SetOutsideValue(1)\n",
    "#Flair_image2 = otsu_filter.Execute(Flair_image1,Flair_mask)\n",
    "#myshow(Flair_image2)"
   ]
  },
  {
   "cell_type": "markdown",
   "metadata": {},
   "source": [
    "## Obtain Masks"
   ]
  },
  {
   "cell_type": "code",
   "execution_count": 141,
   "metadata": {
    "collapsed": true
   },
   "outputs": [],
   "source": [
    "castFilter = sitk.CastImageFilter()\n",
    "castFilter.SetOutputPixelType(sitk.sitkInt64 )\n",
    "T1_segment = castFilter.Execute(T1_segment)\n",
    "T2_segment = castFilter.Execute(T2_segment)\n"
   ]
  },
  {
   "cell_type": "code",
   "execution_count": 142,
   "metadata": {
    "scrolled": false
   },
   "outputs": [
    {
     "data": {
      "application/vnd.jupyter.widget-view+json": {
       "model_id": "b17ae8a5cd714cce9b3a644fe95eb7a8",
       "version_major": 2,
       "version_minor": 0
      },
      "text/plain": [
       "A Jupyter Widget"
      ]
     },
     "metadata": {},
     "output_type": "display_data"
    },
    {
     "data": {
      "application/vnd.jupyter.widget-view+json": {
       "model_id": "45d46df3a4df4d728e2369064fc6bbf1",
       "version_major": 2,
       "version_minor": 0
      },
      "text/plain": [
       "A Jupyter Widget"
      ]
     },
     "metadata": {},
     "output_type": "display_data"
    },
    {
     "data": {
      "application/vnd.jupyter.widget-view+json": {
       "model_id": "9aadcd1a50a342499e74d2a4b0ed5c29",
       "version_major": 2,
       "version_minor": 0
      },
      "text/plain": [
       "A Jupyter Widget"
      ]
     },
     "metadata": {},
     "output_type": "display_data"
    }
   ],
   "source": [
    "\n",
    "maskFilter = sitk.MaskImageFilter()\n",
    "#threeD_tumor = maskFilter.Execute(threeD_image,threeD_segment)\n",
    "#myshow(threeD_tumor)\n",
    "T1_tumor = maskFilter.Execute(T1_image,T1_segment)\n",
    "myshow(T1_tumor)\n",
    "T2_tumor = maskFilter.Execute(T2_image,T2_segment)\n",
    "myshow(T2_tumor)\n",
    "Flair_tumor = maskFilter.Execute(Flair_image,T1_segment)\n",
    "myshow(Flair_tumor)"
   ]
  },
  {
   "cell_type": "markdown",
   "metadata": {},
   "source": [
    "## Shape Analysis "
   ]
  },
  {
   "cell_type": "code",
   "execution_count": 143,
   "metadata": {
    "collapsed": true
   },
   "outputs": [],
   "source": [
    "#binaryFilter = sitk.BinaryImageToLabelMapFilter()\n",
    "#T1_segment_label = binaryFilter.Execute(T1_segment)\n",
    "#T2_segment_label = binaryFilter.Execute(T2_segment)"
   ]
  },
  {
   "cell_type": "code",
   "execution_count": 144,
   "metadata": {},
   "outputs": [
    {
     "name": "stdout",
     "output_type": "stream",
     "text": [
      "itk::simple::LabelShapeStatisticsImageFilter\n",
      "  BackgroundValue: 0\n",
      "  ComputeFeretDiameter: 0\n",
      "  ComputePerimeter: 1\n",
      "  Labels: [ 1 ]\n",
      "  Debug: 0\n",
      "  NumberOfThreads: 4\n",
      "  Commands: (none)\n",
      "  ProgressMeasurement: 0\n",
      "  ActiveProcess:\n",
      "    LabelImageToShapeLabelMapFilter (0x7fcded27ba50)\n",
      "      RTTI typeinfo:   itk::LabelImageToShapeLabelMapFilter<itk::Image<long long, 3u>, itk::LabelMap<itk::ShapeLabelObject<long long, 3u> > >\n",
      "      Reference Count: 1\n",
      "      Modified Time: 148548\n",
      "      Debug: Off\n",
      "      Object Name: \n",
      "      Observers: \n",
      "        DeleteEvent(SimpleMemberCommand)\n",
      "      Inputs: \n",
      "        Primary: (0x7fcded50e580) *\n",
      "      Indexed Inputs: \n",
      "        0: Primary (0x7fcded50e580)\n",
      "      Required Input Names: Primary\n",
      "      NumberOfRequiredInputs: 1\n",
      "      Outputs: \n",
      "        Primary: (0x7fcded276ac0)\n",
      "      Indexed Outputs: \n",
      "        0: Primary (0x7fcded276ac0)\n",
      "      NumberOfRequiredOutputs: 1\n",
      "      Number Of Threads: 4\n",
      "      ReleaseDataFlag: Off\n",
      "      ReleaseDataBeforeUpdateFlag: Off\n",
      "      AbortGenerateData: Off\n",
      "      Progress: 1\n",
      "      Multithreader: \n",
      "        RTTI typeinfo:   itk::MultiThreader\n",
      "        Reference Count: 1\n",
      "        Modified Time: 148537\n",
      "        Debug: Off\n",
      "        Object Name: \n",
      "        Observers: \n",
      "          none\n",
      "        Thread Count: 4\n",
      "        Global Maximum Number Of Threads: 128\n",
      "        Global Default Number Of Threads: 4\n",
      "      CoordinateTolerance: 1e-06\n",
      "      DirectionTolerance: 1e-06\n",
      "      BackgroundValue: 0\n",
      "      ComputeFeretDiameter: 0\n",
      "      ComputePerimeter: 1\n",
      "\n"
     ]
    }
   ],
   "source": [
    "shapeFilter= sitk.LabelShapeStatisticsImageFilter()\n",
    "shapeFilter.Execute(T1_segment)\n",
    "print(shapeFilter)"
   ]
  },
  {
   "cell_type": "code",
   "execution_count": 145,
   "metadata": {},
   "outputs": [
    {
     "name": "stdout",
     "output_type": "stream",
     "text": [
      "1.2326839276032295\n",
      "7289.228899659929\n",
      "24.08440170223432\n",
      "0.0\n",
      "1.1493387670511526\n",
      "10565\n",
      "0\n",
      "6881.02747354027\n",
      "0.0\n",
      "0.0\n",
      "58518.90563964844\n",
      "1.0593227432515453\n"
     ]
    }
   ],
   "source": [
    "print(shapeFilter.GetElongation(1))\n",
    "print(shapeFilter.GetEquivalentSphericalPerimeter(1))\n",
    "print(shapeFilter.GetEquivalentSphericalRadius(1))\n",
    "print(shapeFilter.GetFeretDiameter (1))\n",
    "print(shapeFilter.GetFlatness(1))\n",
    "print(shapeFilter.GetNumberOfPixels(1))\n",
    "print(shapeFilter.GetNumberOfPixelsOnBorder(1))\n",
    "print(shapeFilter.GetPerimeter(1))\n",
    "print(shapeFilter.GetPerimeterOnBorder(1))\n",
    "print(shapeFilter.GetPerimeterOnBorderRatio(1))\n",
    "print(shapeFilter.GetPhysicalSize(1))\n",
    "print(shapeFilter.GetRoundness(1))"
   ]
  },
  {
   "cell_type": "code",
   "execution_count": 146,
   "metadata": {},
   "outputs": [
    {
     "name": "stdout",
     "output_type": "stream",
     "text": [
      "itk::simple::LabelShapeStatisticsImageFilter\n",
      "  BackgroundValue: 0\n",
      "  ComputeFeretDiameter: 0\n",
      "  ComputePerimeter: 1\n",
      "  Labels: [ ]\n",
      "  Debug: 0\n",
      "  NumberOfThreads: 4\n",
      "  Commands: (none)\n",
      "  ProgressMeasurement: 0\n",
      "  ActiveProcess:\n",
      "    LabelImageToShapeLabelMapFilter (0x7fcded27ba50)\n",
      "      RTTI typeinfo:   itk::LabelImageToShapeLabelMapFilter<itk::Image<long long, 3u>, itk::LabelMap<itk::ShapeLabelObject<long long, 3u> > >\n",
      "      Reference Count: 1\n",
      "      Modified Time: 148976\n",
      "      Debug: Off\n",
      "      Object Name: \n",
      "      Observers: \n",
      "        DeleteEvent(SimpleMemberCommand)\n",
      "      Inputs: \n",
      "        Primary: (0x7fcded50eb10) *\n",
      "      Indexed Inputs: \n",
      "        0: Primary (0x7fcded50eb10)\n",
      "      Required Input Names: Primary\n",
      "      NumberOfRequiredInputs: 1\n",
      "      Outputs: \n",
      "        Primary: (0x7fcded276ac0)\n",
      "      Indexed Outputs: \n",
      "        0: Primary (0x7fcded276ac0)\n",
      "      NumberOfRequiredOutputs: 1\n",
      "      Number Of Threads: 4\n",
      "      ReleaseDataFlag: Off\n",
      "      ReleaseDataBeforeUpdateFlag: Off\n",
      "      AbortGenerateData: Off\n",
      "      Progress: 1\n",
      "      Multithreader: \n",
      "        RTTI typeinfo:   itk::MultiThreader\n",
      "        Reference Count: 1\n",
      "        Modified Time: 148965\n",
      "        Debug: Off\n",
      "        Object Name: \n",
      "        Observers: \n",
      "          none\n",
      "        Thread Count: 4\n",
      "        Global Maximum Number Of Threads: 128\n",
      "        Global Default Number Of Threads: 4\n",
      "      CoordinateTolerance: 1e-06\n",
      "      DirectionTolerance: 1e-06\n",
      "      BackgroundValue: 0\n",
      "      ComputeFeretDiameter: 0\n",
      "      ComputePerimeter: 1\n",
      "\n"
     ]
    }
   ],
   "source": [
    "shapeFilter= sitk.LabelShapeStatisticsImageFilter()\n",
    "shapeFilter.Execute(T2_segment)\n",
    "print(shapeFilter)"
   ]
  },
  {
   "cell_type": "code",
   "execution_count": 147,
   "metadata": {},
   "outputs": [
    {
     "ename": "RuntimeError",
     "evalue": "Exception thrown in SimpleITK LabelShapeStatisticsImageFilter_GetElongation: /Users/blowekamp/miniconda2/conda-bld/simpleitk_1502125589355/work/build/ITK-prefix/include/ITK-4.11/itkLabelMap.hxx:164:\nitk::ERROR: LabelMap(0x7fcded276ac0): No label object with label 1.",
     "output_type": "error",
     "traceback": [
      "\u001b[0;31m---------------------------------------------------------------------------\u001b[0m",
      "\u001b[0;31mRuntimeError\u001b[0m                              Traceback (most recent call last)",
      "\u001b[0;32m<ipython-input-147-1fcfafc953c2>\u001b[0m in \u001b[0;36m<module>\u001b[0;34m()\u001b[0m\n\u001b[0;32m----> 1\u001b[0;31m \u001b[0mprint\u001b[0m\u001b[0;34m(\u001b[0m\u001b[0mshapeFilter\u001b[0m\u001b[0;34m.\u001b[0m\u001b[0mGetElongation\u001b[0m\u001b[0;34m(\u001b[0m\u001b[0;36m1\u001b[0m\u001b[0;34m)\u001b[0m\u001b[0;34m)\u001b[0m\u001b[0;34m\u001b[0m\u001b[0m\n\u001b[0m\u001b[1;32m      2\u001b[0m \u001b[0mprint\u001b[0m\u001b[0;34m(\u001b[0m\u001b[0mshapeFilter\u001b[0m\u001b[0;34m.\u001b[0m\u001b[0mGetEquivalentSphericalPerimeter\u001b[0m\u001b[0;34m(\u001b[0m\u001b[0;36m1\u001b[0m\u001b[0;34m)\u001b[0m\u001b[0;34m)\u001b[0m\u001b[0;34m\u001b[0m\u001b[0m\n\u001b[1;32m      3\u001b[0m \u001b[0mprint\u001b[0m\u001b[0;34m(\u001b[0m\u001b[0mshapeFilter\u001b[0m\u001b[0;34m.\u001b[0m\u001b[0mGetEquivalentSphericalRadius\u001b[0m\u001b[0;34m(\u001b[0m\u001b[0;36m1\u001b[0m\u001b[0;34m)\u001b[0m\u001b[0;34m)\u001b[0m\u001b[0;34m\u001b[0m\u001b[0m\n\u001b[1;32m      4\u001b[0m \u001b[0mprint\u001b[0m\u001b[0;34m(\u001b[0m\u001b[0mshapeFilter\u001b[0m\u001b[0;34m.\u001b[0m\u001b[0mGetFeretDiameter\u001b[0m \u001b[0;34m(\u001b[0m\u001b[0;36m1\u001b[0m\u001b[0;34m)\u001b[0m\u001b[0;34m)\u001b[0m\u001b[0;34m\u001b[0m\u001b[0m\n\u001b[1;32m      5\u001b[0m \u001b[0mprint\u001b[0m\u001b[0;34m(\u001b[0m\u001b[0mshapeFilter\u001b[0m\u001b[0;34m.\u001b[0m\u001b[0mGetFlatness\u001b[0m\u001b[0;34m(\u001b[0m\u001b[0;36m1\u001b[0m\u001b[0;34m)\u001b[0m\u001b[0;34m)\u001b[0m\u001b[0;34m\u001b[0m\u001b[0m\n",
      "\u001b[0;32m/anaconda3/lib/python3.6/site-packages/SimpleITK/SimpleITK.py\u001b[0m in \u001b[0;36mGetElongation\u001b[0;34m(self, label)\u001b[0m\n\u001b[1;32m  42180\u001b[0m \u001b[0;34m\u001b[0m\u001b[0m\n\u001b[1;32m  42181\u001b[0m         \"\"\"\n\u001b[0;32m> 42182\u001b[0;31m         \u001b[0;32mreturn\u001b[0m \u001b[0m_SimpleITK\u001b[0m\u001b[0;34m.\u001b[0m\u001b[0mLabelShapeStatisticsImageFilter_GetElongation\u001b[0m\u001b[0;34m(\u001b[0m\u001b[0mself\u001b[0m\u001b[0;34m,\u001b[0m \u001b[0mlabel\u001b[0m\u001b[0;34m)\u001b[0m\u001b[0;34m\u001b[0m\u001b[0m\n\u001b[0m\u001b[1;32m  42183\u001b[0m \u001b[0;34m\u001b[0m\u001b[0m\n\u001b[1;32m  42184\u001b[0m \u001b[0;34m\u001b[0m\u001b[0m\n",
      "\u001b[0;31mRuntimeError\u001b[0m: Exception thrown in SimpleITK LabelShapeStatisticsImageFilter_GetElongation: /Users/blowekamp/miniconda2/conda-bld/simpleitk_1502125589355/work/build/ITK-prefix/include/ITK-4.11/itkLabelMap.hxx:164:\nitk::ERROR: LabelMap(0x7fcded276ac0): No label object with label 1."
     ]
    }
   ],
   "source": [
    "print(shapeFilter.GetElongation(1))\n",
    "print(shapeFilter.GetEquivalentSphericalPerimeter(1))\n",
    "print(shapeFilter.GetEquivalentSphericalRadius(1))\n",
    "print(shapeFilter.GetFeretDiameter (1))\n",
    "print(shapeFilter.GetFlatness(1))\n",
    "print(shapeFilter.GetNumberOfPixels(1))\n",
    "print(shapeFilter.GetNumberOfPixelsOnBorder(1))\n",
    "print(shapeFilter.GetPerimeter(1))\n",
    "print(shapeFilter.GetPerimeterOnBorder(1))\n",
    "print(shapeFilter.GetPerimeterOnBorderRatio(1))\n",
    "print(shapeFilter.GetPhysicalSize(1))\n",
    "print(shapeFilter.GetRoundness(1))"
   ]
  },
  {
   "cell_type": "markdown",
   "metadata": {},
   "source": [
    "## Intensity Analysis "
   ]
  },
  {
   "cell_type": "code",
   "execution_count": 148,
   "metadata": {},
   "outputs": [
    {
     "name": "stdout",
     "output_type": "stream",
     "text": [
      "itk::simple::LabelIntensityStatisticsImageFilter\n",
      "  BackgroundValue: 0\n",
      "  ComputeFeretDiameter: 0\n",
      "  ComputePerimeter: 1\n",
      "  NumberOfBins: 128\n",
      "  Labels: [ 1 ]\n",
      "  Debug: 0\n",
      "  NumberOfThreads: 4\n",
      "  Commands: (none)\n",
      "  ProgressMeasurement: 0\n",
      "  ActiveProcess:\n",
      "    LabelImageToStatisticsLabelMapFilter (0x7fcded1ea9d0)\n",
      "      RTTI typeinfo:   itk::LabelImageToStatisticsLabelMapFilter<itk::Image<long long, 3u>, itk::Image<double, 3u>, itk::LabelMap<itk::StatisticsLabelObject<long long, 3u> > >\n",
      "      Reference Count: 1\n",
      "      Modified Time: 149051\n",
      "      Debug: Off\n",
      "      Object Name: \n",
      "      Observers: \n",
      "        DeleteEvent(SimpleMemberCommand)\n",
      "      Inputs: \n",
      "        Primary: (0x7fcded50e580) *\n",
      "        _1: (0x7fcded2223a0)\n",
      "      Indexed Inputs: \n",
      "        0: Primary (0x7fcded50e580)\n",
      "        1: _1 (0x7fcded2223a0)\n",
      "      Required Input Names: Primary\n",
      "      NumberOfRequiredInputs: 2\n",
      "      Outputs: \n",
      "        Primary: (0x7fcded1e1f40)\n",
      "      Indexed Outputs: \n",
      "        0: Primary (0x7fcded1e1f40)\n",
      "      NumberOfRequiredOutputs: 1\n",
      "      Number Of Threads: 4\n",
      "      ReleaseDataFlag: Off\n",
      "      ReleaseDataBeforeUpdateFlag: Off\n",
      "      AbortGenerateData: Off\n",
      "      Progress: 1\n",
      "      Multithreader: \n",
      "        RTTI typeinfo:   itk::MultiThreader\n",
      "        Reference Count: 1\n",
      "        Modified Time: 149037\n",
      "        Debug: Off\n",
      "        Object Name: \n",
      "        Observers: \n",
      "          none\n",
      "        Thread Count: 4\n",
      "        Global Maximum Number Of Threads: 128\n",
      "        Global Default Number Of Threads: 4\n",
      "      CoordinateTolerance: 1e-06\n",
      "      DirectionTolerance: 1e-06\n",
      "      BackgroundValue: 0\n",
      "      ComputeFeretDiameter: 0\n",
      "      ComputePerimeter: 1\n",
      "      ComputeHistogram: 1\n",
      "      NumberOfBins: 128\n",
      "\n"
     ]
    }
   ],
   "source": [
    "intensityFilter = sitk.LabelIntensityStatisticsImageFilter()\n",
    "intensityFilter.Execute(T1_segment,T1_image)\n",
    "print(intensityFilter)"
   ]
  },
  {
   "cell_type": "code",
   "execution_count": 149,
   "metadata": {},
   "outputs": [
    {
     "name": "stdout",
     "output_type": "stream",
     "text": [
      "0.0\n",
      "1.2326839276032295\n",
      "7289.228899659929\n",
      "24.08440170223432\n",
      "0.0\n",
      "1.1493387670511526\n",
      "-1.410764742328197\n",
      "594.0\n",
      "418.3691433980123\n",
      "410.234375\n",
      "179.0\n",
      "10565\n",
      "0\n",
      "6881.02747354027\n",
      "0.0\n",
      "0.0\n",
      "58518.90563964844\n",
      "1.0593227432515453\n",
      "0.0786951705277938\n",
      "83.99670163821203\n",
      "4420070.0\n",
      "7055.445886098811\n",
      "1.3051176884089573\n",
      "1.1000871096115892\n"
     ]
    }
   ],
   "source": [
    "print(intensityFilter.GetBackgroundValue())\n",
    "print(intensityFilter.GetElongation(1))\n",
    "#print(intensityFilter.GetEquivalentEllipsoidDiameter(1))\n",
    "print(intensityFilter.GetEquivalentSphericalPerimeter(1))\n",
    "print(intensityFilter.GetEquivalentSphericalRadius(1))\n",
    "print(intensityFilter.GetFeretDiameter(1))\n",
    "print(intensityFilter.GetFlatness(1))\n",
    "print(intensityFilter.GetKurtosis(1))\n",
    "print(intensityFilter.GetMaximum(1))\n",
    "print(intensityFilter.GetMean(1))\n",
    "print(intensityFilter.GetMedian(1))\n",
    "print(intensityFilter.GetMinimum(1))\n",
    "print(intensityFilter.GetNumberOfPixels(1))\n",
    "print(intensityFilter.GetNumberOfPixelsOnBorder(1))\n",
    "print(intensityFilter.GetPerimeter(1))\n",
    "print(intensityFilter.GetPerimeterOnBorder(1))\n",
    "print(intensityFilter.GetPerimeterOnBorderRatio(1))\n",
    "print(intensityFilter.GetPhysicalSize(1))\n",
    "print(intensityFilter.GetRoundness(1) )\n",
    "print(intensityFilter.GetSkewness(1))\n",
    "print(intensityFilter.GetStandardDeviation(1))\n",
    "print(intensityFilter.GetSum(1))\n",
    "print(intensityFilter.GetVariance(1))\n",
    "print(intensityFilter.GetWeightedElongation(1))\n",
    "print(intensityFilter.GetWeightedFlatness(1))\n"
   ]
  },
  {
   "cell_type": "code",
   "execution_count": 150,
   "metadata": {},
   "outputs": [
    {
     "name": "stdout",
     "output_type": "stream",
     "text": [
      "itk::simple::LabelIntensityStatisticsImageFilter\n",
      "  BackgroundValue: 0\n",
      "  ComputeFeretDiameter: 0\n",
      "  ComputePerimeter: 1\n",
      "  NumberOfBins: 128\n",
      "  Labels: [ ]\n",
      "  Debug: 0\n",
      "  NumberOfThreads: 4\n",
      "  Commands: (none)\n",
      "  ProgressMeasurement: 0\n",
      "  ActiveProcess:\n",
      "    LabelImageToStatisticsLabelMapFilter (0x7fcded279980)\n",
      "      RTTI typeinfo:   itk::LabelImageToStatisticsLabelMapFilter<itk::Image<long long, 3u>, itk::Image<double, 3u>, itk::LabelMap<itk::StatisticsLabelObject<long long, 3u> > >\n",
      "      Reference Count: 1\n",
      "      Modified Time: 149494\n",
      "      Debug: Off\n",
      "      Object Name: \n",
      "      Observers: \n",
      "        DeleteEvent(SimpleMemberCommand)\n",
      "      Inputs: \n",
      "        Primary: (0x7fcded50eb10) *\n",
      "        _1: (0x7fcdecfb85b0)\n",
      "      Indexed Inputs: \n",
      "        0: Primary (0x7fcded50eb10)\n",
      "        1: _1 (0x7fcdecfb85b0)\n",
      "      Required Input Names: Primary\n",
      "      NumberOfRequiredInputs: 2\n",
      "      Outputs: \n",
      "        Primary: (0x7fcdecbfaeb0)\n",
      "      Indexed Outputs: \n",
      "        0: Primary (0x7fcdecbfaeb0)\n",
      "      NumberOfRequiredOutputs: 1\n",
      "      Number Of Threads: 4\n",
      "      ReleaseDataFlag: Off\n",
      "      ReleaseDataBeforeUpdateFlag: Off\n",
      "      AbortGenerateData: Off\n",
      "      Progress: 1\n",
      "      Multithreader: \n",
      "        RTTI typeinfo:   itk::MultiThreader\n",
      "        Reference Count: 1\n",
      "        Modified Time: 149480\n",
      "        Debug: Off\n",
      "        Object Name: \n",
      "        Observers: \n",
      "          none\n",
      "        Thread Count: 4\n",
      "        Global Maximum Number Of Threads: 128\n",
      "        Global Default Number Of Threads: 4\n",
      "      CoordinateTolerance: 1e-06\n",
      "      DirectionTolerance: 1e-06\n",
      "      BackgroundValue: 0\n",
      "      ComputeFeretDiameter: 0\n",
      "      ComputePerimeter: 1\n",
      "      ComputeHistogram: 1\n",
      "      NumberOfBins: 128\n",
      "\n"
     ]
    }
   ],
   "source": [
    "#LabelIntensityStatisticsImageFilter \n",
    "intensityFilter = sitk.LabelIntensityStatisticsImageFilter()\n",
    "intensityFilter.Execute(T2_segment,T2_image)\n",
    "print(intensityFilter)"
   ]
  },
  {
   "cell_type": "code",
   "execution_count": 151,
   "metadata": {},
   "outputs": [
    {
     "name": "stdout",
     "output_type": "stream",
     "text": [
      "0.0\n"
     ]
    },
    {
     "ename": "RuntimeError",
     "evalue": "Exception thrown in SimpleITK LabelIntensityStatisticsImageFilter_GetElongation: /Users/blowekamp/miniconda2/conda-bld/simpleitk_1502125589355/work/build/ITK-prefix/include/ITK-4.11/itkLabelMap.hxx:164:\nitk::ERROR: LabelMap(0x7fcdecbfaeb0): No label object with label 1.",
     "output_type": "error",
     "traceback": [
      "\u001b[0;31m---------------------------------------------------------------------------\u001b[0m",
      "\u001b[0;31mRuntimeError\u001b[0m                              Traceback (most recent call last)",
      "\u001b[0;32m<ipython-input-151-5a0e09480768>\u001b[0m in \u001b[0;36m<module>\u001b[0;34m()\u001b[0m\n\u001b[1;32m      1\u001b[0m \u001b[0mprint\u001b[0m\u001b[0;34m(\u001b[0m\u001b[0mintensityFilter\u001b[0m\u001b[0;34m.\u001b[0m\u001b[0mGetBackgroundValue\u001b[0m\u001b[0;34m(\u001b[0m\u001b[0;34m)\u001b[0m\u001b[0;34m)\u001b[0m\u001b[0;34m\u001b[0m\u001b[0m\n\u001b[0;32m----> 2\u001b[0;31m \u001b[0mprint\u001b[0m\u001b[0;34m(\u001b[0m\u001b[0mintensityFilter\u001b[0m\u001b[0;34m.\u001b[0m\u001b[0mGetElongation\u001b[0m\u001b[0;34m(\u001b[0m\u001b[0;36m1\u001b[0m\u001b[0;34m)\u001b[0m\u001b[0;34m)\u001b[0m\u001b[0;34m\u001b[0m\u001b[0m\n\u001b[0m\u001b[1;32m      3\u001b[0m \u001b[0;31m#print(intensityFilter.GetEquivalentEllipsoidDiameter(1))\u001b[0m\u001b[0;34m\u001b[0m\u001b[0;34m\u001b[0m\u001b[0m\n\u001b[1;32m      4\u001b[0m \u001b[0mprint\u001b[0m\u001b[0;34m(\u001b[0m\u001b[0mintensityFilter\u001b[0m\u001b[0;34m.\u001b[0m\u001b[0mGetEquivalentSphericalPerimeter\u001b[0m\u001b[0;34m(\u001b[0m\u001b[0;36m1\u001b[0m\u001b[0;34m)\u001b[0m\u001b[0;34m)\u001b[0m\u001b[0;34m\u001b[0m\u001b[0m\n\u001b[1;32m      5\u001b[0m \u001b[0mprint\u001b[0m\u001b[0;34m(\u001b[0m\u001b[0mintensityFilter\u001b[0m\u001b[0;34m.\u001b[0m\u001b[0mGetEquivalentSphericalRadius\u001b[0m\u001b[0;34m(\u001b[0m\u001b[0;36m1\u001b[0m\u001b[0;34m)\u001b[0m\u001b[0;34m)\u001b[0m\u001b[0;34m\u001b[0m\u001b[0m\n",
      "\u001b[0;32m/anaconda3/lib/python3.6/site-packages/SimpleITK/SimpleITK.py\u001b[0m in \u001b[0;36mGetElongation\u001b[0;34m(self, label)\u001b[0m\n\u001b[1;32m  39755\u001b[0m \u001b[0;34m\u001b[0m\u001b[0m\n\u001b[1;32m  39756\u001b[0m         \"\"\"\n\u001b[0;32m> 39757\u001b[0;31m         \u001b[0;32mreturn\u001b[0m \u001b[0m_SimpleITK\u001b[0m\u001b[0;34m.\u001b[0m\u001b[0mLabelIntensityStatisticsImageFilter_GetElongation\u001b[0m\u001b[0;34m(\u001b[0m\u001b[0mself\u001b[0m\u001b[0;34m,\u001b[0m \u001b[0mlabel\u001b[0m\u001b[0;34m)\u001b[0m\u001b[0;34m\u001b[0m\u001b[0m\n\u001b[0m\u001b[1;32m  39758\u001b[0m \u001b[0;34m\u001b[0m\u001b[0m\n\u001b[1;32m  39759\u001b[0m \u001b[0;34m\u001b[0m\u001b[0m\n",
      "\u001b[0;31mRuntimeError\u001b[0m: Exception thrown in SimpleITK LabelIntensityStatisticsImageFilter_GetElongation: /Users/blowekamp/miniconda2/conda-bld/simpleitk_1502125589355/work/build/ITK-prefix/include/ITK-4.11/itkLabelMap.hxx:164:\nitk::ERROR: LabelMap(0x7fcdecbfaeb0): No label object with label 1."
     ]
    }
   ],
   "source": [
    "print(intensityFilter.GetBackgroundValue())\n",
    "print(intensityFilter.GetElongation(1))\n",
    "#print(intensityFilter.GetEquivalentEllipsoidDiameter(1))\n",
    "print(intensityFilter.GetEquivalentSphericalPerimeter(1))\n",
    "print(intensityFilter.GetEquivalentSphericalRadius(1))\n",
    "print(intensityFilter.GetFeretDiameter(1))\n",
    "print(intensityFilter.GetFlatness(1))\n",
    "print(intensityFilter.GetKurtosis(1))\n",
    "print(intensityFilter.GetMaximum(1))\n",
    "print(intensityFilter.GetMean(1))\n",
    "print(intensityFilter.GetMedian(1))\n",
    "print(intensityFilter.GetMinimum(1))\n",
    "print(intensityFilter.GetNumberOfPixels(1))\n",
    "print(intensityFilter.GetNumberOfPixelsOnBorder(1))\n",
    "print(intensityFilter.GetPerimeter(1))\n",
    "print(intensityFilter.GetPerimeterOnBorder(1))\n",
    "print(intensityFilter.GetPerimeterOnBorderRatio(1))\n",
    "print(intensityFilter.GetPhysicalSize(1))\n",
    "print(intensityFilter.GetRoundness(1) )\n",
    "print(intensityFilter.GetSkewness(1))\n",
    "print(intensityFilter.GetStandardDeviation(1))\n",
    "print(intensityFilter.GetSum(1))\n",
    "print(intensityFilter.GetVariance(1))\n",
    "print(intensityFilter.GetWeightedElongation(1))\n",
    "print(intensityFilter.GetWeightedFlatness(1))\n"
   ]
  },
  {
   "cell_type": "code",
   "execution_count": 152,
   "metadata": {},
   "outputs": [
    {
     "name": "stdout",
     "output_type": "stream",
     "text": [
      "itk::simple::LabelIntensityStatisticsImageFilter\n",
      "  BackgroundValue: 0\n",
      "  ComputeFeretDiameter: 0\n",
      "  ComputePerimeter: 1\n",
      "  NumberOfBins: 128\n",
      "  Labels: [ 1 ]\n",
      "  Debug: 0\n",
      "  NumberOfThreads: 4\n",
      "  Commands: (none)\n",
      "  ProgressMeasurement: 0\n",
      "  ActiveProcess:\n",
      "    LabelImageToStatisticsLabelMapFilter (0x7fcded1ea9d0)\n",
      "      RTTI typeinfo:   itk::LabelImageToStatisticsLabelMapFilter<itk::Image<long long, 3u>, itk::Image<double, 3u>, itk::LabelMap<itk::StatisticsLabelObject<long long, 3u> > >\n",
      "      Reference Count: 1\n",
      "      Modified Time: 149576\n",
      "      Debug: Off\n",
      "      Object Name: \n",
      "      Observers: \n",
      "        DeleteEvent(SimpleMemberCommand)\n",
      "      Inputs: \n",
      "        Primary: (0x7fcded50e580) *\n",
      "        _1: (0x7fcded541e50)\n",
      "      Indexed Inputs: \n",
      "        0: Primary (0x7fcded50e580)\n",
      "        1: _1 (0x7fcded541e50)\n",
      "      Required Input Names: Primary\n",
      "      NumberOfRequiredInputs: 2\n",
      "      Outputs: \n",
      "        Primary: (0x7fcded32d220)\n",
      "      Indexed Outputs: \n",
      "        0: Primary (0x7fcded32d220)\n",
      "      NumberOfRequiredOutputs: 1\n",
      "      Number Of Threads: 4\n",
      "      ReleaseDataFlag: Off\n",
      "      ReleaseDataBeforeUpdateFlag: Off\n",
      "      AbortGenerateData: Off\n",
      "      Progress: 1\n",
      "      Multithreader: \n",
      "        RTTI typeinfo:   itk::MultiThreader\n",
      "        Reference Count: 1\n",
      "        Modified Time: 149562\n",
      "        Debug: Off\n",
      "        Object Name: \n",
      "        Observers: \n",
      "          none\n",
      "        Thread Count: 4\n",
      "        Global Maximum Number Of Threads: 128\n",
      "        Global Default Number Of Threads: 4\n",
      "      CoordinateTolerance: 1e-06\n",
      "      DirectionTolerance: 1e-06\n",
      "      BackgroundValue: 0\n",
      "      ComputeFeretDiameter: 0\n",
      "      ComputePerimeter: 1\n",
      "      ComputeHistogram: 1\n",
      "      NumberOfBins: 128\n",
      "\n"
     ]
    }
   ],
   "source": [
    "intensityFilter = sitk.LabelIntensityStatisticsImageFilter()\n",
    "intensityFilter.Execute(T1_segment,Flair_tumor)\n",
    "print(intensityFilter)"
   ]
  },
  {
   "cell_type": "code",
   "execution_count": 153,
   "metadata": {},
   "outputs": [
    {
     "name": "stdout",
     "output_type": "stream",
     "text": [
      "0.0\n",
      "1.2326839276032295\n",
      "7289.228899659929\n",
      "24.08440170223432\n",
      "0.0\n",
      "1.1493387670511526\n",
      "0.08081490196478258\n",
      "1035.6781750911323\n",
      "526.3285041044202\n",
      "505.70225524902344\n",
      "300.445386853017\n",
      "10565\n",
      "0\n",
      "6881.02747354027\n",
      "0.0\n",
      "0.0\n",
      "58518.90563964844\n",
      "1.0593227432515453\n",
      "0.7141040818597786\n",
      "116.2902184392524\n",
      "5560660.6458632\n",
      "13523.414904649038\n",
      "1.246137556074243\n",
      "1.1278174256341194\n"
     ]
    }
   ],
   "source": [
    "print(intensityFilter.GetBackgroundValue())\n",
    "print(intensityFilter.GetElongation(1))\n",
    "#print(intensityFilter.GetEquivalentEllipsoidDiameter(1))\n",
    "print(intensityFilter.GetEquivalentSphericalPerimeter(1))\n",
    "print(intensityFilter.GetEquivalentSphericalRadius(1))\n",
    "print(intensityFilter.GetFeretDiameter(1))\n",
    "print(intensityFilter.GetFlatness(1))\n",
    "print(intensityFilter.GetKurtosis(1))\n",
    "print(intensityFilter.GetMaximum(1))\n",
    "print(intensityFilter.GetMean(1))\n",
    "print(intensityFilter.GetMedian(1))\n",
    "print(intensityFilter.GetMinimum(1))\n",
    "print(intensityFilter.GetNumberOfPixels(1))\n",
    "print(intensityFilter.GetNumberOfPixelsOnBorder(1))\n",
    "print(intensityFilter.GetPerimeter(1))\n",
    "print(intensityFilter.GetPerimeterOnBorder(1))\n",
    "print(intensityFilter.GetPerimeterOnBorderRatio(1))\n",
    "print(intensityFilter.GetPhysicalSize(1))\n",
    "print(intensityFilter.GetRoundness(1) )\n",
    "print(intensityFilter.GetSkewness(1))\n",
    "print(intensityFilter.GetStandardDeviation(1))\n",
    "print(intensityFilter.GetSum(1))\n",
    "print(intensityFilter.GetVariance(1))\n",
    "print(intensityFilter.GetWeightedElongation(1))\n",
    "print(intensityFilter.GetWeightedFlatness(1))"
   ]
  },
  {
   "cell_type": "markdown",
   "metadata": {},
   "source": [
    "## Texture Analysis "
   ]
  },
  {
   "cell_type": "code",
   "execution_count": null,
   "metadata": {
    "scrolled": true
   },
   "outputs": [],
   "source": [
    "#Issues encountered for texture analysis in python \n",
    "print(threeD_image.GetPixelIDTypeAsString() )\n",
    "print(T1_image.GetPixelIDTypeAsString() )\n",
    "print(T2_image.GetPixelIDTypeAsString() )\n",
    "print(Flair_image.GetPixelIDTypeAsString() )\n",
    "print(threeD_image.GetSize())\n",
    "print(T1_image.GetSize())\n",
    "print(T2_image.GetSize())\n",
    "print(Flair_image.GetSize())"
   ]
  },
  {
   "cell_type": "code",
   "execution_count": null,
   "metadata": {
    "collapsed": true
   },
   "outputs": [],
   "source": [
    "#InputType = type(T2_image)\n",
    "#castFilter = itk.CastImageFilter[InputType, itk.Image.SS2].New()\n",
    "##castFilter.SetOutputPixelType(itk.Image.SS2)\n",
    "#castFilter.SetInput(T2_image)\n",
    "\n",
    "#T1_segment1 = castFilter.Execute(T1_segment)\n",
    "#T2_segment1 = castFilter.Execute(T2_segment)"
   ]
  },
  {
   "cell_type": "code",
   "execution_count": null,
   "metadata": {
    "collapsed": true,
    "scrolled": false
   },
   "outputs": [],
   "source": [
    "#InputImageType  = itk.Image.SS2 \n",
    "#reader = itk.ImageFileReader[InputImageType].New()  \n",
    "#print(reader.GetOutput())\n",
    "#textureFilter = itk.ScalarImageToTextureFeaturesFilter.New()\n",
    "#textureFilter.SetInput() \n",
    "#print(textureFilter)\n",
    "#textureFilter.SetMaskImage(T1_segment_label) \n",
    "#textureFilter.SetInput(T2_segment) \n",
    "#textureFilter.SetMaskImage(T1_segment_label) \n"
   ]
  }
 ],
 "metadata": {
  "kernelspec": {
   "display_name": "Python 3",
   "language": "python",
   "name": "python3"
  },
  "language_info": {
   "codemirror_mode": {
    "name": "ipython",
    "version": 3
   },
   "file_extension": ".py",
   "mimetype": "text/x-python",
   "name": "python",
   "nbconvert_exporter": "python",
   "pygments_lexer": "ipython3",
   "version": "3.6.3"
  }
 },
 "nbformat": 4,
 "nbformat_minor": 2
}
