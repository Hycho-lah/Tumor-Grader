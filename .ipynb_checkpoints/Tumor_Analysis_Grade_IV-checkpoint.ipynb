{
 "cells": [
  {
   "cell_type": "code",
   "execution_count": 702,
   "metadata": {
    "collapsed": true
   },
   "outputs": [],
   "source": [
    "import SimpleITK as sitk\n",
    "\n",
    "import itk\n",
    "import guiPoint\n",
    "\n",
    "%matplotlib inline\n",
    "import matplotlib.pyplot as plt\n",
    "\n",
    "import numpy as np\n",
    "from scipy import linalg\n",
    "\n",
    "from ipywidgets import interact, fixed\n",
    "from __future__ import print_function\n",
    "\n",
    "import sys\n",
    "from myshow import myshow, myshow3d\n",
    "\n",
    "import numpy as np\n",
    "from scipy import linalg\n",
    "from importlib import reload\n",
    "\n",
    "from ipywidgets import interact, fixed\n",
    "from IPython.display import clear_output"
   ]
  },
  {
   "cell_type": "markdown",
   "metadata": {},
   "source": [
    "Please enter name of images to import."
   ]
  },
  {
   "cell_type": "code",
   "execution_count": 703,
   "metadata": {
    "collapsed": true,
    "scrolled": true
   },
   "outputs": [],
   "source": [
    "threeD_image = sitk.ReadImage(\"5342_3D_8_51519.mha\")\n",
    "#threeD_image_r = sitk.ReadImage(\"5342_3D_8_51519_resampled.mha\")\n",
    "T1_image = sitk.ReadImage(\"5342_T1_9_68083.mha\")\n",
    "T2_image = sitk.ReadImage(\"5342_T2_5_16889_resampled.mha\")\n",
    "Flair_image = sitk.ReadImage(\"5342_Flair_4_19844_resampled.mha\")"
   ]
  },
  {
   "cell_type": "code",
   "execution_count": 704,
   "metadata": {},
   "outputs": [
    {
     "name": "stdout",
     "output_type": "stream",
     "text": [
      "16-bit signed integer\n",
      "16-bit signed integer\n",
      "64-bit float\n",
      "64-bit float\n",
      "(512, 512, 60)\n",
      "(256, 256, 20)\n",
      "(256, 256, 20)\n",
      "(256, 256, 20)\n"
     ]
    }
   ],
   "source": [
    "print(threeD_image.GetPixelIDTypeAsString() )\n",
    "print(T1_image.GetPixelIDTypeAsString() )\n",
    "print(T2_image.GetPixelIDTypeAsString() )\n",
    "print(Flair_image.GetPixelIDTypeAsString() )\n",
    "print(threeD_image.GetSize())\n",
    "print(T1_image.GetSize())\n",
    "print(T2_image.GetSize())\n",
    "print(Flair_image.GetSize())"
   ]
  },
  {
   "cell_type": "markdown",
   "metadata": {},
   "source": [
    "Convert all images from int to float for convenience. "
   ]
  },
  {
   "cell_type": "code",
   "execution_count": 705,
   "metadata": {
    "collapsed": true
   },
   "outputs": [],
   "source": [
    "castFilter = sitk.CastImageFilter()\n",
    "castFilter.SetOutputPixelType(sitk.sitkFloat64 )\n",
    "threeD_image = castFilter.Execute(threeD_image)\n",
    "T1_image = castFilter.Execute(T1_image)\n",
    "T2_image = castFilter.Execute(T2_image)\n",
    "Flair_image = castFilter.Execute(Flair_image)"
   ]
  },
  {
   "cell_type": "markdown",
   "metadata": {},
   "source": [
    "## Seed definition"
   ]
  },
  {
   "cell_type": "markdown",
   "metadata": {},
   "source": [
    "Please define seeds in the cell below based on output in seed_selection.ipynb"
   ]
  },
  {
   "cell_type": "code",
   "execution_count": 706,
   "metadata": {
    "collapsed": true,
    "scrolled": true
   },
   "outputs": [],
   "source": [
    "seed_3D = [(319,315,23)]\n",
    "seeds = [(325, 314, 29), (345, 275, 22), (305, 350, 22)]\n",
    "seed_T1 = [(171, 152, 8)]\n",
    "seed_T2 = [(166,176,9)]\n",
    "seed_Flair = [(154, 170, 9)]\n",
    "seed_ventricles = [(144,157,11),(116,146,12),(239,83,13)]"
   ]
  },
  {
   "cell_type": "markdown",
   "metadata": {},
   "source": [
    "## Visualization"
   ]
  },
  {
   "cell_type": "code",
   "execution_count": 707,
   "metadata": {
    "scrolled": false
   },
   "outputs": [
    {
     "data": {
      "application/vnd.jupyter.widget-view+json": {
       "model_id": "16f545fd3c564eb79d99722f65671f26",
       "version_major": 2,
       "version_minor": 0
      },
      "text/plain": [
       "A Jupyter Widget"
      ]
     },
     "metadata": {},
     "output_type": "display_data"
    },
    {
     "data": {
      "application/vnd.jupyter.widget-view+json": {
       "model_id": "0ea7a4aa10244e0da9b55c5d2d98757d",
       "version_major": 2,
       "version_minor": 0
      },
      "text/plain": [
       "A Jupyter Widget"
      ]
     },
     "metadata": {},
     "output_type": "display_data"
    },
    {
     "data": {
      "application/vnd.jupyter.widget-view+json": {
       "model_id": "271ac9d77a1a4795943fe86b2d66d603",
       "version_major": 2,
       "version_minor": 0
      },
      "text/plain": [
       "A Jupyter Widget"
      ]
     },
     "metadata": {},
     "output_type": "display_data"
    },
    {
     "data": {
      "application/vnd.jupyter.widget-view+json": {
       "model_id": "02949bd542654a8bbb0cfa7a4ca861b2",
       "version_major": 2,
       "version_minor": 0
      },
      "text/plain": [
       "A Jupyter Widget"
      ]
     },
     "metadata": {},
     "output_type": "display_data"
    }
   ],
   "source": [
    "myshow(T1_image)\n",
    "myshow(T2_image)\n",
    "myshow(Flair_image)\n",
    "myshow3d(threeD_image)"
   ]
  },
  {
   "cell_type": "markdown",
   "metadata": {},
   "source": [
    "## Registration"
   ]
  },
  {
   "cell_type": "markdown",
   "metadata": {},
   "source": [
    "Note: function below taken from simpleITK notebook sample \"60_Registration_Introduction.ipynb\""
   ]
  },
  {
   "cell_type": "code",
   "execution_count": 708,
   "metadata": {
    "collapsed": true
   },
   "outputs": [],
   "source": [
    "# Callback invoked by the interact IPython method for scrolling through the image stacks of\n",
    "# the two images (moving and fixed).\n",
    "def display_images(fixed_image_z, moving_image_z, fixed_npa, moving_npa):\n",
    "    # Create a figure with two subplots and the specified size.\n",
    "    plt.subplots(1,2,figsize=(10,8))\n",
    "    \n",
    "    # Draw the fixed image in the first subplot.\n",
    "    plt.subplot(1,2,1)\n",
    "    plt.imshow(fixed_npa[fixed_image_z,:,:],cmap=plt.cm.Greys_r);\n",
    "    plt.title('fixed image')\n",
    "    plt.axis('off')\n",
    "    \n",
    "    # Draw the moving image in the second subplot.\n",
    "    plt.subplot(1,2,2)\n",
    "    plt.imshow(moving_npa[moving_image_z,:,:],cmap=plt.cm.Greys_r);\n",
    "    plt.title('moving image')\n",
    "    plt.axis('off')\n",
    "    \n",
    "    plt.show()\n",
    "\n",
    "# Callback invoked by the IPython interact method for scrolling and modifying the alpha blending\n",
    "# of an image stack of two images that occupy the same physical space. \n",
    "def display_images_with_alpha(image_z, alpha, fixed, moving):\n",
    "    img = (1.0 - alpha)*fixed[:,:,image_z] + alpha*moving[:,:,image_z] \n",
    "    plt.imshow(sitk.GetArrayViewFromImage(img),cmap=plt.cm.Greys_r);\n",
    "    plt.axis('off')\n",
    "    plt.show()\n",
    "    \n",
    "# Callback invoked when the StartEvent happens, sets up our new data.\n",
    "def start_plot():\n",
    "    global metric_values, multires_iterations\n",
    "    \n",
    "    metric_values = []\n",
    "    multires_iterations = []\n",
    "\n",
    "# Callback invoked when the EndEvent happens, do cleanup of data and figure.\n",
    "def end_plot():\n",
    "    global metric_values, multires_iterations\n",
    "    \n",
    "    del metric_values\n",
    "    del multires_iterations\n",
    "    # Close figure, we don't want to get a duplicate of the plot latter on.\n",
    "    plt.close()\n",
    "\n",
    "# Callback invoked when the IterationEvent happens, update our data and display new figure.    \n",
    "def plot_values(registration_method):\n",
    "    global metric_values, multires_iterations\n",
    "    \n",
    "    metric_values.append(registration_method.GetMetricValue())                                       \n",
    "    # Clear the output area (wait=True, to reduce flickering), and plot current data\n",
    "    clear_output(wait=True)\n",
    "    # Plot the similarity metric values\n",
    "    plt.plot(metric_values, 'r')\n",
    "    plt.plot(multires_iterations, [metric_values[index] for index in multires_iterations], 'b*')\n",
    "    plt.xlabel('Iteration Number',fontsize=12)\n",
    "    plt.ylabel('Metric Value',fontsize=12)\n",
    "    plt.show()\n",
    "    \n",
    "# Callback invoked when the sitkMultiResolutionIterationEvent happens, update the index into the \n",
    "# metric_values list. \n",
    "def update_multires_iterations():\n",
    "    global metric_values, multires_iterations\n",
    "    multires_iterations.append(len(metric_values))        "
   ]
  },
  {
   "cell_type": "markdown",
   "metadata": {},
   "source": [
    "Registration for threeD_image to move to T1_image"
   ]
  },
  {
   "cell_type": "code",
   "execution_count": 709,
   "metadata": {
    "scrolled": true
   },
   "outputs": [
    {
     "data": {
      "application/vnd.jupyter.widget-view+json": {
       "model_id": "f0fe67c10ac74e8a8f8d10ec9006ef17",
       "version_major": 2,
       "version_minor": 0
      },
      "text/plain": [
       "A Jupyter Widget"
      ]
     },
     "metadata": {},
     "output_type": "display_data"
    }
   ],
   "source": [
    "fixed_image =  T1_image\n",
    "moving_image = threeD_image\n",
    "\n",
    "interact(display_images, fixed_image_z=(0,fixed_image.GetSize()[2]-1), moving_image_z=(0,moving_image.GetSize()[2]-1), fixed_npa = fixed(sitk.GetArrayViewFromImage(fixed_image)), moving_npa=fixed(sitk.GetArrayViewFromImage(moving_image)));"
   ]
  },
  {
   "cell_type": "code",
   "execution_count": 710,
   "metadata": {},
   "outputs": [
    {
     "data": {
      "application/vnd.jupyter.widget-view+json": {
       "model_id": "325b26df8ad246b7b9fc119ec6939694",
       "version_major": 2,
       "version_minor": 0
      },
      "text/plain": [
       "A Jupyter Widget"
      ]
     },
     "metadata": {},
     "output_type": "display_data"
    }
   ],
   "source": [
    "initial_transform = sitk.CenteredTransformInitializer(fixed_image, \n",
    "                                                      moving_image, \n",
    "                                                      sitk.Euler3DTransform(), \n",
    "                                                      sitk.CenteredTransformInitializerFilter.GEOMETRY)\n",
    "\n",
    "moving_resampled = sitk.Resample(moving_image, fixed_image, initial_transform, sitk.sitkLinear, 0.0, moving_image.GetPixelID())\n",
    "\n",
    "interact(display_images_with_alpha, image_z=(0,fixed_image.GetSize()[2]), alpha=(0.0,2.0,0.05), fixed = fixed(fixed_image), moving=fixed(moving_resampled));"
   ]
  },
  {
   "cell_type": "code",
   "execution_count": 711,
   "metadata": {},
   "outputs": [
    {
     "data": {
      "application/vnd.jupyter.widget-view+json": {
       "model_id": "ae8156270e864457aef368ef240ad50a",
       "version_major": 2,
       "version_minor": 0
      },
      "text/plain": [
       "A Jupyter Widget"
      ]
     },
     "metadata": {},
     "output_type": "display_data"
    }
   ],
   "source": [
    "interact(display_images, fixed_image_z=(0,fixed_image.GetSize()[2]-1), moving_image_z=(0,moving_resampled.GetSize()[2]-1), fixed_npa = fixed(sitk.GetArrayViewFromImage(fixed_image)), moving_npa=fixed(sitk.GetArrayViewFromImage(moving_resampled)));"
   ]
  },
  {
   "cell_type": "code",
   "execution_count": 712,
   "metadata": {},
   "outputs": [
    {
     "data": {
      "image/png": "[encoded data removed]",
      "text/plain": [
       "<matplotlib.figure.Figure at 0x6723eecc0>"
      ]
     },
     "metadata": {},
     "output_type": "display_data"
    }
   ],
   "source": [
    "registration_method = sitk.ImageRegistrationMethod()\n",
    "\n",
    "# Similarity metric settings.\n",
    "registration_method.SetMetricAsMattesMutualInformation(numberOfHistogramBins=50)\n",
    "registration_method.SetMetricSamplingStrategy(registration_method.RANDOM)\n",
    "registration_method.SetMetricSamplingPercentage(0.01)\n",
    "\n",
    "registration_method.SetInterpolator(sitk.sitkLinear)\n",
    "\n",
    "# Optimizer settings.\n",
    "registration_method.SetOptimizerAsGradientDescent(learningRate=1.0, numberOfIterations=100, convergenceMinimumValue=1e-6, convergenceWindowSize=10)\n",
    "registration_method.SetOptimizerScalesFromPhysicalShift()\n",
    "\n",
    "# Setup for the multi-resolution framework.            \n",
    "registration_method.SetShrinkFactorsPerLevel(shrinkFactors = [4,2,1])\n",
    "registration_method.SetSmoothingSigmasPerLevel(smoothingSigmas=[2,1,0])\n",
    "registration_method.SmoothingSigmasAreSpecifiedInPhysicalUnitsOn()\n",
    "\n",
    "# Don't optimize in-place, we would possibly like to run this cell multiple times.\n",
    "registration_method.SetInitialTransform(initial_transform, inPlace=False)\n",
    "\n",
    "# Connect all of the observers so that we can perform plotting during registration.\n",
    "registration_method.AddCommand(sitk.sitkStartEvent, start_plot)\n",
    "registration_method.AddCommand(sitk.sitkEndEvent, end_plot)\n",
    "registration_method.AddCommand(sitk.sitkMultiResolutionIterationEvent, update_multires_iterations) \n",
    "registration_method.AddCommand(sitk.sitkIterationEvent, lambda: plot_values(registration_method))\n",
    "\n",
    "final_transform_3D = registration_method.Execute(sitk.Cast(fixed_image, sitk.sitkFloat32), \n",
    "                                              sitk.Cast(moving_image, sitk.sitkFloat32))"
   ]
  },
  {
   "cell_type": "code",
   "execution_count": 713,
   "metadata": {},
   "outputs": [
    {
     "name": "stdout",
     "output_type": "stream",
     "text": [
      "Final metric value: -0.7274678002031135\n",
      "Optimizer's stopping condition, GradientDescentOptimizerv4Template: Convergence checker passed at iteration 9.\n"
     ]
    }
   ],
   "source": [
    "print('Final metric value: {0}'.format(registration_method.GetMetricValue()))\n",
    "print('Optimizer\\'s stopping condition, {0}'.format(registration_method.GetOptimizerStopConditionDescription()))"
   ]
  },
  {
   "cell_type": "code",
   "execution_count": 714,
   "metadata": {
    "scrolled": true
   },
   "outputs": [
    {
     "data": {
      "application/vnd.jupyter.widget-view+json": {
       "model_id": "d93bcdc9b2014bb9854d17b8d75bc3c3",
       "version_major": 2,
       "version_minor": 0
      },
      "text/plain": [
       "A Jupyter Widget"
      ]
     },
     "metadata": {},
     "output_type": "display_data"
    }
   ],
   "source": [
    "moving_resampled = sitk.Resample(moving_image, fixed_image, final_transform_3D, sitk.sitkLinear, 0.0, moving_image.GetPixelID())\n",
    "\n",
    "interact(display_images_with_alpha, image_z=(0,fixed_image.GetSize()[2]), alpha=(0.0,2.0,0.05), fixed = fixed(fixed_image), moving=fixed(moving_resampled));"
   ]
  },
  {
   "cell_type": "code",
   "execution_count": 715,
   "metadata": {
    "scrolled": true
   },
   "outputs": [
    {
     "data": {
      "application/vnd.jupyter.widget-view+json": {
       "model_id": "2356b3676798442cbc2e361e7d3e6d6a",
       "version_major": 2,
       "version_minor": 0
      },
      "text/plain": [
       "A Jupyter Widget"
      ]
     },
     "metadata": {},
     "output_type": "display_data"
    }
   ],
   "source": [
    "interact(display_images, fixed_image_z=(0,fixed_image.GetSize()[2]-1), moving_image_z=(0,moving_resampled.GetSize()[2]-1), fixed_npa = fixed(sitk.GetArrayViewFromImage(fixed_image)), moving_npa=fixed(sitk.GetArrayViewFromImage(moving_resampled)));"
   ]
  },
  {
   "cell_type": "code",
   "execution_count": 716,
   "metadata": {
    "collapsed": true
   },
   "outputs": [],
   "source": [
    "threeD_image_r = moving_resampled "
   ]
  },
  {
   "cell_type": "code",
   "execution_count": 717,
   "metadata": {
    "collapsed": true
   },
   "outputs": [],
   "source": [
    "#final_transform_3D_inverse = final_transform_3D.GetInverse()\n",
    "#final_transform_T2_inverse = final_transform_T2.GetInverse()\n",
    "#final_transform_Flair_inverse = final_transform_Flair.GetInverse()"
   ]
  },
  {
   "cell_type": "markdown",
   "metadata": {},
   "source": [
    "## Get Anatomical Structure"
   ]
  },
  {
   "cell_type": "code",
   "execution_count": 718,
   "metadata": {
    "scrolled": true
   },
   "outputs": [
    {
     "data": {
      "application/vnd.jupyter.widget-view+json": {
       "model_id": "54ab52197355426198f1042f45dfb5c0",
       "version_major": 2,
       "version_minor": 0
      },
      "text/plain": [
       "A Jupyter Widget"
      ]
     },
     "metadata": {},
     "output_type": "display_data"
    }
   ],
   "source": [
    "blurFilter = sitk.CurvatureFlowImageFilter()\n",
    "blurFilter.SetNumberOfIterations( 3 )\n",
    "blurFilter.SetTimeStep( 0.15 )\n",
    "threeD_image_smooth = blurFilter.Execute(threeD_image_r)\n",
    "\n",
    "myshow(threeD_image_smooth)"
   ]
  },
  {
   "cell_type": "markdown",
   "metadata": {},
   "source": [
    "Segment CSF-filled ventricular system using 3D image. "
   ]
  },
  {
   "cell_type": "code",
   "execution_count": 719,
   "metadata": {
    "scrolled": true
   },
   "outputs": [
    {
     "data": {
      "application/vnd.jupyter.widget-view+json": {
       "model_id": "0016aec29b0a4d41bb5d930fa67b25a1",
       "version_major": 2,
       "version_minor": 0
      },
      "text/plain": [
       "A Jupyter Widget"
      ]
     },
     "metadata": {},
     "output_type": "display_data"
    }
   ],
   "source": [
    "binaryFilter = sitk.BinaryThresholdImageFilter()\n",
    "binaryFilter.SetLowerThreshold(-100)\n",
    "binaryFilter.SetUpperThreshold(50)\n",
    "threeD_image_water_segment = binaryFilter.Execute(threeD_image_smooth)\n",
    "myshow(threeD_image_water_segment)"
   ]
  },
  {
   "cell_type": "code",
   "execution_count": 720,
   "metadata": {},
   "outputs": [
    {
     "data": {
      "application/vnd.jupyter.widget-view+json": {
       "model_id": "e2688e78bc30463e9e15aac9d7f0f6c7",
       "version_major": 2,
       "version_minor": 0
      },
      "text/plain": [
       "A Jupyter Widget"
      ]
     },
     "metadata": {},
     "output_type": "display_data"
    }
   ],
   "source": [
    "ThresholdFilter = sitk.ConnectedThresholdImageFilter()\n",
    "ThresholdFilter.SetSeedList(seed_ventricles)\n",
    "ThresholdFilter.SetLower(1)\n",
    "ThresholdFilter.SetUpper(1)\n",
    "threeD_image_water_segment = ThresholdFilter.Execute(threeD_image_water_segment)\n",
    "myshow(threeD_image_water_segment)"
   ]
  },
  {
   "cell_type": "code",
   "execution_count": 721,
   "metadata": {
    "scrolled": true
   },
   "outputs": [
    {
     "data": {
      "application/vnd.jupyter.widget-view+json": {
       "model_id": "0e675813d4f54639a613c77f48f7e36c",
       "version_major": 2,
       "version_minor": 0
      },
      "text/plain": [
       "A Jupyter Widget"
      ]
     },
     "metadata": {},
     "output_type": "display_data"
    }
   ],
   "source": [
    "closingFilter = sitk.BinaryMorphologicalClosingImageFilter()\n",
    "closingFilter.SetKernelRadius(3)\n",
    "threeD_image_water_segment = closingFilter.Execute(threeD_image_water_segment)\n",
    "myshow(threeD_image_water_segment)"
   ]
  },
  {
   "cell_type": "code",
   "execution_count": 722,
   "metadata": {},
   "outputs": [
    {
     "data": {
      "application/vnd.jupyter.widget-view+json": {
       "model_id": "37eb9963514a4e4fbf0595e372846e47",
       "version_major": 2,
       "version_minor": 0
      },
      "text/plain": [
       "A Jupyter Widget"
      ]
     },
     "metadata": {},
     "output_type": "display_data"
    }
   ],
   "source": [
    "ThresholdFilter = sitk.ConnectedThresholdImageFilter()\n",
    "ThresholdFilter.SetSeedList(seed_ventricles)\n",
    "ThresholdFilter.SetLower(1)\n",
    "ThresholdFilter.SetUpper(1)\n",
    "threeD_image_water_segment = ThresholdFilter.Execute(threeD_image_water_segment)\n",
    "myshow(threeD_image_water_segment)"
   ]
  },
  {
   "cell_type": "code",
   "execution_count": 723,
   "metadata": {},
   "outputs": [
    {
     "data": {
      "application/vnd.jupyter.widget-view+json": {
       "model_id": "c96a0e37d5f84076b99818f8cbbe9edd",
       "version_major": 2,
       "version_minor": 0
      },
      "text/plain": [
       "A Jupyter Widget"
      ]
     },
     "metadata": {},
     "output_type": "display_data"
    }
   ],
   "source": [
    "dilateFilter= sitk.BinaryDilateImageFilter()\n",
    "threeD_image_water_segment = dilateFilter.Execute(threeD_image_water_segment)\n",
    "myshow(threeD_image_water_segment)"
   ]
  },
  {
   "cell_type": "markdown",
   "metadata": {},
   "source": [
    "Segment bone using Flair image. "
   ]
  },
  {
   "cell_type": "code",
   "execution_count": 724,
   "metadata": {
    "scrolled": true
   },
   "outputs": [
    {
     "data": {
      "application/vnd.jupyter.widget-view+json": {
       "model_id": "2f03c01311e2499ebcc76a6075941884",
       "version_major": 2,
       "version_minor": 0
      },
      "text/plain": [
       "A Jupyter Widget"
      ]
     },
     "metadata": {},
     "output_type": "display_data"
    }
   ],
   "source": [
    "binaryFilter = sitk.BinaryThresholdImageFilter()\n",
    "binaryFilter.SetLowerThreshold(1200)\n",
    "binaryFilter.SetUpperThreshold(1700)\n",
    "Flair_image_skull_segment = binaryFilter.Execute(Flair_image)\n",
    "myshow(Flair_image_skull_segment)"
   ]
  },
  {
   "cell_type": "code",
   "execution_count": 725,
   "metadata": {},
   "outputs": [
    {
     "data": {
      "application/vnd.jupyter.widget-view+json": {
       "model_id": "aa716477788046ae94dea15ba6bdca90",
       "version_major": 2,
       "version_minor": 0
      },
      "text/plain": [
       "A Jupyter Widget"
      ]
     },
     "metadata": {},
     "output_type": "display_data"
    }
   ],
   "source": [
    "closingFilter = sitk.BinaryMorphologicalClosingImageFilter()\n",
    "Flair_image_skull_segment = closingFilter.Execute(Flair_image_skull_segment)\n",
    "myshow(Flair_image_skull_segment)"
   ]
  },
  {
   "cell_type": "code",
   "execution_count": 726,
   "metadata": {
    "scrolled": true
   },
   "outputs": [
    {
     "data": {
      "application/vnd.jupyter.widget-view+json": {
       "model_id": "9b22c9df2da4447e985849dcef2170de",
       "version_major": 2,
       "version_minor": 0
      },
      "text/plain": [
       "A Jupyter Widget"
      ]
     },
     "metadata": {},
     "output_type": "display_data"
    }
   ],
   "source": [
    "dilateFilter= sitk.BinaryDilateImageFilter()\n",
    "Flair_image_skull_segment = dilateFilter.Execute(Flair_image_skull_segment)\n",
    "myshow(Flair_image_skull_segment)"
   ]
  },
  {
   "cell_type": "code",
   "execution_count": 727,
   "metadata": {
    "scrolled": true
   },
   "outputs": [
    {
     "data": {
      "application/vnd.jupyter.widget-view+json": {
       "model_id": "bdff3082a2554e8aab592fdae6195bcc",
       "version_major": 2,
       "version_minor": 0
      },
      "text/plain": [
       "A Jupyter Widget"
      ]
     },
     "metadata": {},
     "output_type": "display_data"
    }
   ],
   "source": [
    "openingFilter = sitk.BinaryMorphologicalOpeningImageFilter()\n",
    "openingFilter.SetKernelRadius(2)\n",
    "Flair_image_skull_segment = openingFilter.Execute(Flair_image_skull_segment)\n",
    "myshow(Flair_image_skull_segment)"
   ]
  },
  {
   "cell_type": "markdown",
   "metadata": {},
   "source": [
    "## Remove Anatomical structures"
   ]
  },
  {
   "cell_type": "code",
   "execution_count": 728,
   "metadata": {},
   "outputs": [
    {
     "data": {
      "application/vnd.jupyter.widget-view+json": {
       "model_id": "c63133e856304de09ed485cec38baef0",
       "version_major": 2,
       "version_minor": 0
      },
      "text/plain": [
       "A Jupyter Widget"
      ]
     },
     "metadata": {},
     "output_type": "display_data"
    },
    {
     "data": {
      "application/vnd.jupyter.widget-view+json": {
       "model_id": "f7b5834976644a248e5f4809e6faf680",
       "version_major": 2,
       "version_minor": 0
      },
      "text/plain": [
       "A Jupyter Widget"
      ]
     },
     "metadata": {},
     "output_type": "display_data"
    }
   ],
   "source": [
    "#Obtain mask\n",
    "binaryFilter = sitk.BinaryThresholdImageFilter()\n",
    "binaryFilter.SetLowerThreshold(0)\n",
    "binaryFilter.SetUpperThreshold(0)\n",
    "\n",
    "threeD_image_water_mask = binaryFilter.Execute(threeD_image_water_segment)\n",
    "myshow(threeD_image_water_mask)\n",
    "Flair_image_skull_mask = binaryFilter.Execute(Flair_image_skull_segment)\n",
    "myshow(Flair_image_skull_mask )\n"
   ]
  },
  {
   "cell_type": "code",
   "execution_count": 729,
   "metadata": {},
   "outputs": [
    {
     "data": {
      "application/vnd.jupyter.widget-view+json": {
       "model_id": "1778b996b8e647f1858a2f2178afeaa1",
       "version_major": 2,
       "version_minor": 0
      },
      "text/plain": [
       "A Jupyter Widget"
      ]
     },
     "metadata": {},
     "output_type": "display_data"
    },
    {
     "data": {
      "application/vnd.jupyter.widget-view+json": {
       "model_id": "ecb0be6523114747a96799d906fdaa6c",
       "version_major": 2,
       "version_minor": 0
      },
      "text/plain": [
       "A Jupyter Widget"
      ]
     },
     "metadata": {},
     "output_type": "display_data"
    },
    {
     "data": {
      "application/vnd.jupyter.widget-view+json": {
       "model_id": "7e3794e92b104cb6bdf70939daefde0c",
       "version_major": 2,
       "version_minor": 0
      },
      "text/plain": [
       "A Jupyter Widget"
      ]
     },
     "metadata": {},
     "output_type": "display_data"
    }
   ],
   "source": [
    "#Apply mask filter to all images\n",
    "maskFilter = sitk.MaskImageFilter()\n",
    "\n",
    "#T1_image = maskFilter.Execute(T1_image,threeD_image_water_mask)\n",
    "T2_image = maskFilter.Execute(T2_image,threeD_image_water_mask)\n",
    "#Flair_image = maskFilter.Execute(Flair_image,threeD_image_water_mask)\n",
    "\n",
    "T1_image = maskFilter.Execute(T1_image,Flair_image_skull_mask)\n",
    "T2_image = maskFilter.Execute(T2_image,Flair_image_skull_mask)\n",
    "Flair_image = maskFilter.Execute(Flair_image,Flair_image_skull_mask)\n",
    "\n",
    "myshow(T1_image)\n",
    "myshow(T2_image)\n",
    "myshow(Flair_image)"
   ]
  },
  {
   "cell_type": "markdown",
   "metadata": {},
   "source": [
    "## Segmentation T1"
   ]
  },
  {
   "cell_type": "code",
   "execution_count": 730,
   "metadata": {},
   "outputs": [
    {
     "data": {
      "application/vnd.jupyter.widget-view+json": {
       "model_id": "29a07bdb58fa457a81df5d7c1faced18",
       "version_major": 2,
       "version_minor": 0
      },
      "text/plain": [
       "A Jupyter Widget"
      ]
     },
     "metadata": {},
     "output_type": "display_data"
    }
   ],
   "source": [
    "blurFilter = sitk.CurvatureFlowImageFilter()\n",
    "blurFilter.SetNumberOfIterations( 3 )\n",
    "blurFilter.SetTimeStep( 0.15 )\n",
    "T1_image_s = blurFilter.Execute(T1_image)\n",
    "myshow(T1_image_s) "
   ]
  },
  {
   "cell_type": "code",
   "execution_count": 731,
   "metadata": {},
   "outputs": [
    {
     "data": {
      "application/vnd.jupyter.widget-view+json": {
       "model_id": "84a1b6a1b32f4af69506bcebd69b15bc",
       "version_major": 2,
       "version_minor": 0
      },
      "text/plain": [
       "A Jupyter Widget"
      ]
     },
     "metadata": {},
     "output_type": "display_data"
    }
   ],
   "source": [
    "adaptiveFilter = sitk.AdaptiveHistogramEqualizationImageFilter()\n",
    "adaptiveFilter.SetAlpha(0.5)\n",
    "adaptiveFilter.SetBeta(1)\n",
    "T1_image1 = adaptiveFilter.Execute(T1_image_s)\n",
    "myshow(T1_image1)"
   ]
  },
  {
   "cell_type": "code",
   "execution_count": 732,
   "metadata": {
    "scrolled": true
   },
   "outputs": [
    {
     "data": {
      "application/vnd.jupyter.widget-view+json": {
       "model_id": "b3186199aedc46af9f717f2681e99c85",
       "version_major": 2,
       "version_minor": 0
      },
      "text/plain": [
       "A Jupyter Widget"
      ]
     },
     "metadata": {},
     "output_type": "display_data"
    }
   ],
   "source": [
    "gradientFilter = sitk.GradientMagnitudeRecursiveGaussianImageFilter()\n",
    "#sigma = sys.argv[3]\n",
    "#sigma = sigma[1:len(sigma)-1]\n",
    "gradientFilter.SetSigma(0.8)\n",
    "T1_image2 = gradientFilter.Execute(T1_image1)\n",
    "myshow(T1_image2)"
   ]
  },
  {
   "cell_type": "code",
   "execution_count": 733,
   "metadata": {
    "scrolled": true
   },
   "outputs": [
    {
     "data": {
      "application/vnd.jupyter.widget-view+json": {
       "model_id": "c28dcaca5d5f4f90b512217db0ca9985",
       "version_major": 2,
       "version_minor": 0
      },
      "text/plain": [
       "A Jupyter Widget"
      ]
     },
     "metadata": {},
     "output_type": "display_data"
    }
   ],
   "source": [
    "sigmoidFilter = sitk.SigmoidImageFilter()\n",
    "sigmoidFilter.SetAlpha(-70.0)\n",
    "sigmoidFilter.SetBeta(60.0)\n",
    "T1_image3= sigmoidFilter.Execute(T1_image2)\n",
    "myshow(T1_image3)"
   ]
  },
  {
   "cell_type": "code",
   "execution_count": 734,
   "metadata": {},
   "outputs": [
    {
     "data": {
      "application/vnd.jupyter.widget-view+json": {
       "model_id": "541ac849b8cb40d19b99e232e876180b",
       "version_major": 2,
       "version_minor": 0
      },
      "text/plain": [
       "A Jupyter Widget"
      ]
     },
     "metadata": {},
     "output_type": "display_data"
    }
   ],
   "source": [
    "fastFilter = sitk.FastMarchingImageFilter()\n",
    "#fastFilter.SetTrialPoints(seed_T1)\n",
    "#fastFilter.SetTrialPoints([(171, 153, 8), (187, 130, 7)])\n",
    "fastFilter.SetTrialPoints([(186, 131, 7), (170, 154, 8), (168, 154, 9)])\n",
    "fastFilter.SetStoppingValue(0.15)\n",
    "T1_image4 = fastFilter.Execute(T1_image3)\n",
    "myshow(T1_image4)"
   ]
  },
  {
   "cell_type": "code",
   "execution_count": 735,
   "metadata": {},
   "outputs": [
    {
     "data": {
      "application/vnd.jupyter.widget-view+json": {
       "model_id": "ef150df0475a47788edf4b42ae44320b",
       "version_major": 2,
       "version_minor": 0
      },
      "text/plain": [
       "A Jupyter Widget"
      ]
     },
     "metadata": {},
     "output_type": "display_data"
    }
   ],
   "source": [
    "binaryFilter = sitk.BinaryThresholdImageFilter()\n",
    "binaryFilter.SetLowerThreshold(0)\n",
    "binaryFilter.SetUpperThreshold(10)\n",
    "T1_image5 = binaryFilter.Execute(T1_image4)\n",
    "myshow(T1_image5)"
   ]
  },
  {
   "cell_type": "code",
   "execution_count": 736,
   "metadata": {},
   "outputs": [
    {
     "data": {
      "application/vnd.jupyter.widget-view+json": {
       "model_id": "5fe4a82e587c47d4a982c3e606fb773b",
       "version_major": 2,
       "version_minor": 0
      },
      "text/plain": [
       "A Jupyter Widget"
      ]
     },
     "metadata": {},
     "output_type": "display_data"
    },
    {
     "data": {
      "application/vnd.jupyter.widget-view+json": {
       "model_id": "0f72c2eb3c0b4778adc9012af954514c",
       "version_major": 2,
       "version_minor": 0
      },
      "text/plain": [
       "A Jupyter Widget"
      ]
     },
     "metadata": {},
     "output_type": "display_data"
    }
   ],
   "source": [
    "closingFilter = sitk.BinaryMorphologicalClosingImageFilter()\n",
    "T1_segment = closingFilter.Execute(T1_image5)\n",
    "myshow(T1_segment)\n",
    "myshow(T1_image)"
   ]
  },
  {
   "cell_type": "markdown",
   "metadata": {},
   "source": [
    "## Segmentation T2"
   ]
  },
  {
   "cell_type": "code",
   "execution_count": 737,
   "metadata": {
    "scrolled": true
   },
   "outputs": [
    {
     "data": {
      "application/vnd.jupyter.widget-view+json": {
       "model_id": "f92710f299b44cc9997d12177e1313bd",
       "version_major": 2,
       "version_minor": 0
      },
      "text/plain": [
       "A Jupyter Widget"
      ]
     },
     "metadata": {},
     "output_type": "display_data"
    }
   ],
   "source": [
    "myshow(T2_image)"
   ]
  },
  {
   "cell_type": "code",
   "execution_count": 738,
   "metadata": {},
   "outputs": [
    {
     "data": {
      "application/vnd.jupyter.widget-view+json": {
       "model_id": "044023376939451989cf3e0d6d0cc1e5",
       "version_major": 2,
       "version_minor": 0
      },
      "text/plain": [
       "A Jupyter Widget"
      ]
     },
     "metadata": {},
     "output_type": "display_data"
    }
   ],
   "source": [
    "blurFilter = sitk.CurvatureFlowImageFilter()\n",
    "blurFilter.SetNumberOfIterations( 3 )\n",
    "blurFilter.SetTimeStep( 0.15 )\n",
    "T2_image_s = blurFilter.Execute(T2_image)\n",
    "myshow(T2_image_s) "
   ]
  },
  {
   "cell_type": "code",
   "execution_count": 739,
   "metadata": {
    "scrolled": false
   },
   "outputs": [
    {
     "data": {
      "application/vnd.jupyter.widget-view+json": {
       "model_id": "2ee1418ca042418c98e7022c6cfe48ec",
       "version_major": 2,
       "version_minor": 0
      },
      "text/plain": [
       "A Jupyter Widget"
      ]
     },
     "metadata": {},
     "output_type": "display_data"
    }
   ],
   "source": [
    "Threshold2Filter = sitk.ConfidenceConnectedImageFilter()\n",
    "Threshold2Filter.SetInitialNeighborhoodRadius(20)\n",
    "Threshold2Filter.SetMultiplier(1.1)\n",
    "Threshold2Filter.SetNumberOfIterations(50)\n",
    "Threshold2Filter.SetSeedList (seed_T2)\n",
    "T2_image2= Threshold2Filter.Execute(T2_image)\n",
    "myshow(T2_image2)"
   ]
  },
  {
   "cell_type": "code",
   "execution_count": 740,
   "metadata": {},
   "outputs": [
    {
     "data": {
      "application/vnd.jupyter.widget-view+json": {
       "model_id": "cfaa8c743d484b9e829d7b239cf4c997",
       "version_major": 2,
       "version_minor": 0
      },
      "text/plain": [
       "A Jupyter Widget"
      ]
     },
     "metadata": {},
     "output_type": "display_data"
    }
   ],
   "source": [
    "binaryFilter = sitk.BinaryThresholdImageFilter()\n",
    "binaryFilter.SetLowerThreshold(0)\n",
    "binaryFilter.SetUpperThreshold(0)\n",
    "T2_image3 = binaryFilter.Execute(T2_image2)\n",
    "myshow(T2_image3 )"
   ]
  },
  {
   "cell_type": "code",
   "execution_count": 741,
   "metadata": {},
   "outputs": [
    {
     "data": {
      "application/vnd.jupyter.widget-view+json": {
       "model_id": "2031a23340684ec18639881c3e3d7563",
       "version_major": 2,
       "version_minor": 0
      },
      "text/plain": [
       "A Jupyter Widget"
      ]
     },
     "metadata": {},
     "output_type": "display_data"
    }
   ],
   "source": [
    "ThresholdFilter = sitk.ConnectedThresholdImageFilter()\n",
    "ThresholdFilter.SetSeedList(seed_T2)\n",
    "ThresholdFilter.SetLower(1)\n",
    "ThresholdFilter.SetUpper(1)\n",
    "T2_image4 = ThresholdFilter.Execute(T2_image3)\n",
    "myshow(T2_image4)"
   ]
  },
  {
   "cell_type": "code",
   "execution_count": 742,
   "metadata": {},
   "outputs": [
    {
     "data": {
      "application/vnd.jupyter.widget-view+json": {
       "model_id": "b247f2004cdc4621a0f7fedca843b491",
       "version_major": 2,
       "version_minor": 0
      },
      "text/plain": [
       "A Jupyter Widget"
      ]
     },
     "metadata": {},
     "output_type": "display_data"
    }
   ],
   "source": [
    "closingFilter = sitk.BinaryMorphologicalClosingImageFilter()\n",
    "T2_image5 = closingFilter.Execute(T2_image4)\n",
    "myshow(T2_image5)"
   ]
  },
  {
   "cell_type": "code",
   "execution_count": 743,
   "metadata": {
    "scrolled": false
   },
   "outputs": [
    {
     "data": {
      "application/vnd.jupyter.widget-view+json": {
       "model_id": "c7c658d4c92e4298be259f45caeb5e5c",
       "version_major": 2,
       "version_minor": 0
      },
      "text/plain": [
       "A Jupyter Widget"
      ]
     },
     "metadata": {},
     "output_type": "display_data"
    },
    {
     "data": {
      "application/vnd.jupyter.widget-view+json": {
       "model_id": "71794c3fa07149298054b3906dbdf4f0",
       "version_major": 2,
       "version_minor": 0
      },
      "text/plain": [
       "A Jupyter Widget"
      ]
     },
     "metadata": {},
     "output_type": "display_data"
    }
   ],
   "source": [
    "T2_segment = T2_image5\n",
    "myshow(T2_segment)\n",
    "myshow(T2_image)"
   ]
  },
  {
   "cell_type": "markdown",
   "metadata": {},
   "source": [
    "## Flair segmentation"
   ]
  },
  {
   "cell_type": "code",
   "execution_count": 744,
   "metadata": {},
   "outputs": [
    {
     "data": {
      "application/vnd.jupyter.widget-view+json": {
       "model_id": "59fa4efe310b4eb59537bd8009b2e9ec",
       "version_major": 2,
       "version_minor": 0
      },
      "text/plain": [
       "A Jupyter Widget"
      ]
     },
     "metadata": {},
     "output_type": "display_data"
    }
   ],
   "source": [
    "myshow(T1_segment)"
   ]
  },
  {
   "cell_type": "code",
   "execution_count": 745,
   "metadata": {
    "collapsed": true
   },
   "outputs": [],
   "source": [
    "castFilter = sitk.CastImageFilter()\n",
    "castFilter.SetOutputPixelType(sitk.sitkInt16)\n",
    "T1_segment_int = castFilter.Execute(T1_segment)"
   ]
  },
  {
   "cell_type": "code",
   "execution_count": 746,
   "metadata": {},
   "outputs": [
    {
     "data": {
      "application/vnd.jupyter.widget-view+json": {
       "model_id": "f6eaf2f20fe24fac8b59602c902180c9",
       "version_major": 2,
       "version_minor": 0
      },
      "text/plain": [
       "A Jupyter Widget"
      ]
     },
     "metadata": {},
     "output_type": "display_data"
    }
   ],
   "source": [
    "dilateFilter= sitk.BinaryDilateImageFilter()\n",
    "closingFilter.SetKernelRadius(6)\n",
    "Flair_mask = dilateFilter.Execute(T1_segment_int)\n",
    "myshow(Flair_mask)"
   ]
  },
  {
   "cell_type": "code",
   "execution_count": 747,
   "metadata": {},
   "outputs": [
    {
     "data": {
      "application/vnd.jupyter.widget-view+json": {
       "model_id": "bc508edfe72a4b479bf4e0038f4c7048",
       "version_major": 2,
       "version_minor": 0
      },
      "text/plain": [
       "A Jupyter Widget"
      ]
     },
     "metadata": {},
     "output_type": "display_data"
    }
   ],
   "source": [
    "maskFilter = sitk.MaskImageFilter()\n",
    "Flair_image1 = maskFilter.Execute(Flair_image, Flair_mask)\n",
    "myshow(Flair_image1)"
   ]
  },
  {
   "cell_type": "code",
   "execution_count": 748,
   "metadata": {
    "scrolled": true
   },
   "outputs": [
    {
     "data": {
      "application/vnd.jupyter.widget-view+json": {
       "model_id": "b3b9b47db32a4759a2def29df5ff90b1",
       "version_major": 2,
       "version_minor": 0
      },
      "text/plain": [
       "A Jupyter Widget"
      ]
     },
     "metadata": {},
     "output_type": "display_data"
    }
   ],
   "source": [
    "castFilter = sitk.CastImageFilter()\n",
    "castFilter.SetOutputPixelType(sitk.sitkFloat64 )\n",
    "Flair_image1 = castFilter.Execute(Flair_image1)\n",
    "myshow(Flair_image1)"
   ]
  },
  {
   "cell_type": "code",
   "execution_count": 749,
   "metadata": {
    "collapsed": true,
    "scrolled": true
   },
   "outputs": [],
   "source": [
    "#neighborFilter = sitk.NeighborhoodConnectedImageFilter()\n",
    "#neighborFilter.SetSeed((154, 170, 9)) \n",
    "#Flair_image2 = neighborFilter.Execute(Flair_image1)\n",
    "#neighborFilter.SetSeed((154, 170, 9)) \n",
    "#myshow(Flair_image2)"
   ]
  },
  {
   "cell_type": "code",
   "execution_count": 750,
   "metadata": {
    "collapsed": true
   },
   "outputs": [],
   "source": [
    "#cannyFilter = sitk.CannyEdgeDetectionImageFilter()\n",
    "#cannyFilter.SetLowerThreshold(0)\n",
    "#cannyFilter.SetUpperThreshold(500)\n",
    "#cannyFilter.SetVariance([5,5,5])\n",
    "#cannyFilter.SetMaximumError(0.1)\n",
    "#Flair_image2 = cannyFilter.Execute(Flair_image1)\n",
    "#myshow(Flair_image2)"
   ]
  },
  {
   "cell_type": "code",
   "execution_count": 751,
   "metadata": {
    "collapsed": true
   },
   "outputs": [],
   "source": [
    "#Threshold2Filter = sitk.ConfidenceConnectedImageFilter()\n",
    "#Threshold2Filter.SetInitialNeighborhoodRadius(5)\n",
    "#Threshold2Filter.SetMultiplier(2)\n",
    "#Threshold2Filter.SetNumberOfIterations(15)\n",
    "#Threshold2Filter.SetSeedList(seed_Flair)\n",
    "#Flair_image1 = Threshold2Filter.Execute(Flair_image1)\n",
    "#myshow(Flair_image1)"
   ]
  },
  {
   "cell_type": "code",
   "execution_count": 752,
   "metadata": {
    "collapsed": true
   },
   "outputs": [],
   "source": [
    "#otsu_filter = sitk.OtsuThresholdImageFilter()\n",
    "#otsu_filter.SetInsideValue(0)\n",
    "#otsu_filter.SetOutsideValue(1)\n",
    "#Flair_image2 = otsu_filter.Execute(Flair_image1,Flair_mask)\n",
    "#myshow(Flair_image2)"
   ]
  },
  {
   "cell_type": "markdown",
   "metadata": {},
   "source": [
    "## Obtain Masks"
   ]
  },
  {
   "cell_type": "code",
   "execution_count": 753,
   "metadata": {
    "collapsed": true
   },
   "outputs": [],
   "source": [
    "castFilter = sitk.CastImageFilter()\n",
    "castFilter.SetOutputPixelType(sitk.sitkInt64 )\n",
    "T1_segment = castFilter.Execute(T1_segment)\n",
    "T2_segment = castFilter.Execute(T2_segment)\n"
   ]
  },
  {
   "cell_type": "code",
   "execution_count": 754,
   "metadata": {
    "scrolled": false
   },
   "outputs": [
    {
     "data": {
      "application/vnd.jupyter.widget-view+json": {
       "model_id": "2693d8b7384d4239a4e95c3e7e042d42",
       "version_major": 2,
       "version_minor": 0
      },
      "text/plain": [
       "A Jupyter Widget"
      ]
     },
     "metadata": {},
     "output_type": "display_data"
    },
    {
     "data": {
      "application/vnd.jupyter.widget-view+json": {
       "model_id": "2550f75f17c94279b7b9be63c2e3b373",
       "version_major": 2,
       "version_minor": 0
      },
      "text/plain": [
       "A Jupyter Widget"
      ]
     },
     "metadata": {},
     "output_type": "display_data"
    },
    {
     "data": {
      "application/vnd.jupyter.widget-view+json": {
       "model_id": "f740e2e32b534249af511f47dc9c7df5",
       "version_major": 2,
       "version_minor": 0
      },
      "text/plain": [
       "A Jupyter Widget"
      ]
     },
     "metadata": {},
     "output_type": "display_data"
    }
   ],
   "source": [
    "\n",
    "maskFilter = sitk.MaskImageFilter()\n",
    "#threeD_tumor = maskFilter.Execute(threeD_image,threeD_segment)\n",
    "#myshow(threeD_tumor)\n",
    "T1_tumor = maskFilter.Execute(T1_image,T1_segment)\n",
    "myshow(T1_tumor)\n",
    "T2_tumor = maskFilter.Execute(T2_image,T2_segment)\n",
    "myshow(T2_tumor)\n",
    "Flair_tumor = maskFilter.Execute(Flair_image,T1_segment)\n",
    "myshow(Flair_tumor)"
   ]
  },
  {
   "cell_type": "markdown",
   "metadata": {},
   "source": [
    "## Shape Analysis "
   ]
  },
  {
   "cell_type": "code",
   "execution_count": 755,
   "metadata": {
    "collapsed": true
   },
   "outputs": [],
   "source": [
    "#binaryFilter = sitk.BinaryImageToLabelMapFilter()\n",
    "#T1_segment_label = binaryFilter.Execute(T1_segment)\n",
    "#T2_segment_label = binaryFilter.Execute(T2_segment)"
   ]
  },
  {
   "cell_type": "code",
   "execution_count": 756,
   "metadata": {},
   "outputs": [
    {
     "name": "stdout",
     "output_type": "stream",
     "text": [
      "itk::simple::LabelShapeStatisticsImageFilter\n",
      "  BackgroundValue: 0\n",
      "  ComputeFeretDiameter: 0\n",
      "  ComputePerimeter: 1\n",
      "  Labels: [ 1 ]\n",
      "  Debug: 0\n",
      "  NumberOfThreads: 4\n",
      "  Commands: (none)\n",
      "  ProgressMeasurement: 0\n",
      "  ActiveProcess:\n",
      "    LabelImageToShapeLabelMapFilter (0x7fc117064160)\n",
      "      RTTI typeinfo:   itk::LabelImageToShapeLabelMapFilter<itk::Image<long long, 3u>, itk::LabelMap<itk::ShapeLabelObject<long long, 3u> > >\n",
      "      Reference Count: 1\n",
      "      Modified Time: 1096026\n",
      "      Debug: Off\n",
      "      Object Name: \n",
      "      Observers: \n",
      "        DeleteEvent(SimpleMemberCommand)\n",
      "      Inputs: \n",
      "        Primary: (0x7fc11707f440) *\n",
      "      Indexed Inputs: \n",
      "        0: Primary (0x7fc11707f440)\n",
      "      Required Input Names: Primary\n",
      "      NumberOfRequiredInputs: 1\n",
      "      Outputs: \n",
      "        Primary: (0x7fc1170b8310)\n",
      "      Indexed Outputs: \n",
      "        0: Primary (0x7fc1170b8310)\n",
      "      NumberOfRequiredOutputs: 1\n",
      "      Number Of Threads: 4\n",
      "      ReleaseDataFlag: Off\n",
      "      ReleaseDataBeforeUpdateFlag: Off\n",
      "      AbortGenerateData: Off\n",
      "      Progress: 1\n",
      "      Multithreader: \n",
      "        RTTI typeinfo:   itk::MultiThreader\n",
      "        Reference Count: 1\n",
      "        Modified Time: 1096015\n",
      "        Debug: Off\n",
      "        Object Name: \n",
      "        Observers: \n",
      "          none\n",
      "        Thread Count: 4\n",
      "        Global Maximum Number Of Threads: 128\n",
      "        Global Default Number Of Threads: 4\n",
      "      CoordinateTolerance: 1e-06\n",
      "      DirectionTolerance: 1e-06\n",
      "      BackgroundValue: 0\n",
      "      ComputeFeretDiameter: 0\n",
      "      ComputePerimeter: 1\n",
      "\n"
     ]
    }
   ],
   "source": [
    "shapeFilter= sitk.LabelShapeStatisticsImageFilter()\n",
    "shapeFilter.Execute(T1_segment)\n",
    "print(shapeFilter)"
   ]
  },
  {
   "cell_type": "code",
   "execution_count": 757,
   "metadata": {},
   "outputs": [
    {
     "name": "stdout",
     "output_type": "stream",
     "text": [
      "1.556761469932951\n",
      "8160.496166646768\n",
      "25.4831640794888\n",
      "0.0\n",
      "1.495268264659707\n",
      "13735\n",
      "0\n",
      "8667.868638755748\n",
      "0.0\n",
      "0.0\n",
      "69318.42092823304\n",
      "0.9414651405951842\n"
     ]
    }
   ],
   "source": [
    "print(shapeFilter.GetElongation(1))\n",
    "print(shapeFilter.GetEquivalentSphericalPerimeter(1))\n",
    "print(shapeFilter.GetEquivalentSphericalRadius(1))\n",
    "print(shapeFilter.GetFeretDiameter (1))\n",
    "print(shapeFilter.GetFlatness(1))\n",
    "print(shapeFilter.GetNumberOfPixels(1))\n",
    "print(shapeFilter.GetNumberOfPixelsOnBorder(1))\n",
    "print(shapeFilter.GetPerimeter(1))\n",
    "print(shapeFilter.GetPerimeterOnBorder(1))\n",
    "print(shapeFilter.GetPerimeterOnBorderRatio(1))\n",
    "print(shapeFilter.GetPhysicalSize(1))\n",
    "print(shapeFilter.GetRoundness(1))"
   ]
  },
  {
   "cell_type": "code",
   "execution_count": 758,
   "metadata": {},
   "outputs": [
    {
     "name": "stdout",
     "output_type": "stream",
     "text": [
      "itk::simple::LabelShapeStatisticsImageFilter\n",
      "  BackgroundValue: 0\n",
      "  ComputeFeretDiameter: 0\n",
      "  ComputePerimeter: 1\n",
      "  Labels: [ ]\n",
      "  Debug: 0\n",
      "  NumberOfThreads: 4\n",
      "  Commands: (none)\n",
      "  ProgressMeasurement: 0\n",
      "  ActiveProcess:\n",
      "    LabelImageToShapeLabelMapFilter (0x7fc116a5b330)\n",
      "      RTTI typeinfo:   itk::LabelImageToShapeLabelMapFilter<itk::Image<long long, 3u>, itk::LabelMap<itk::ShapeLabelObject<long long, 3u> > >\n",
      "      Reference Count: 1\n",
      "      Modified Time: 1096590\n",
      "      Debug: Off\n",
      "      Object Name: \n",
      "      Observers: \n",
      "        DeleteEvent(SimpleMemberCommand)\n",
      "      Inputs: \n",
      "        Primary: (0x7fc11707f6d0) *\n",
      "      Indexed Inputs: \n",
      "        0: Primary (0x7fc11707f6d0)\n",
      "      Required Input Names: Primary\n",
      "      NumberOfRequiredInputs: 1\n",
      "      Outputs: \n",
      "        Primary: (0x7fc116a4a1b0)\n",
      "      Indexed Outputs: \n",
      "        0: Primary (0x7fc116a4a1b0)\n",
      "      NumberOfRequiredOutputs: 1\n",
      "      Number Of Threads: 4\n",
      "      ReleaseDataFlag: Off\n",
      "      ReleaseDataBeforeUpdateFlag: Off\n",
      "      AbortGenerateData: Off\n",
      "      Progress: 1\n",
      "      Multithreader: \n",
      "        RTTI typeinfo:   itk::MultiThreader\n",
      "        Reference Count: 1\n",
      "        Modified Time: 1096579\n",
      "        Debug: Off\n",
      "        Object Name: \n",
      "        Observers: \n",
      "          none\n",
      "        Thread Count: 4\n",
      "        Global Maximum Number Of Threads: 128\n",
      "        Global Default Number Of Threads: 4\n",
      "      CoordinateTolerance: 1e-06\n",
      "      DirectionTolerance: 1e-06\n",
      "      BackgroundValue: 0\n",
      "      ComputeFeretDiameter: 0\n",
      "      ComputePerimeter: 1\n",
      "\n"
     ]
    }
   ],
   "source": [
    "shapeFilter= sitk.LabelShapeStatisticsImageFilter()\n",
    "shapeFilter.Execute(T2_segment)\n",
    "print(shapeFilter)"
   ]
  },
  {
   "cell_type": "code",
   "execution_count": 759,
   "metadata": {},
   "outputs": [
    {
     "ename": "RuntimeError",
     "evalue": "Exception thrown in SimpleITK LabelShapeStatisticsImageFilter_GetElongation: /Users/blowekamp/miniconda2/conda-bld/simpleitk_1502125589355/work/build/ITK-prefix/include/ITK-4.11/itkLabelMap.hxx:164:\nitk::ERROR: LabelMap(0x7fc116a4a1b0): No label object with label 1.",
     "output_type": "error",
     "traceback": [
      "\u001b[0;31m---------------------------------------------------------------------------\u001b[0m",
      "\u001b[0;31mRuntimeError\u001b[0m                              Traceback (most recent call last)",
      "\u001b[0;32m<ipython-input-759-1fcfafc953c2>\u001b[0m in \u001b[0;36m<module>\u001b[0;34m()\u001b[0m\n\u001b[0;32m----> 1\u001b[0;31m \u001b[0mprint\u001b[0m\u001b[0;34m(\u001b[0m\u001b[0mshapeFilter\u001b[0m\u001b[0;34m.\u001b[0m\u001b[0mGetElongation\u001b[0m\u001b[0;34m(\u001b[0m\u001b[0;36m1\u001b[0m\u001b[0;34m)\u001b[0m\u001b[0;34m)\u001b[0m\u001b[0;34m\u001b[0m\u001b[0m\n\u001b[0m\u001b[1;32m      2\u001b[0m \u001b[0mprint\u001b[0m\u001b[0;34m(\u001b[0m\u001b[0mshapeFilter\u001b[0m\u001b[0;34m.\u001b[0m\u001b[0mGetEquivalentSphericalPerimeter\u001b[0m\u001b[0;34m(\u001b[0m\u001b[0;36m1\u001b[0m\u001b[0;34m)\u001b[0m\u001b[0;34m)\u001b[0m\u001b[0;34m\u001b[0m\u001b[0m\n\u001b[1;32m      3\u001b[0m \u001b[0mprint\u001b[0m\u001b[0;34m(\u001b[0m\u001b[0mshapeFilter\u001b[0m\u001b[0;34m.\u001b[0m\u001b[0mGetEquivalentSphericalRadius\u001b[0m\u001b[0;34m(\u001b[0m\u001b[0;36m1\u001b[0m\u001b[0;34m)\u001b[0m\u001b[0;34m)\u001b[0m\u001b[0;34m\u001b[0m\u001b[0m\n\u001b[1;32m      4\u001b[0m \u001b[0mprint\u001b[0m\u001b[0;34m(\u001b[0m\u001b[0mshapeFilter\u001b[0m\u001b[0;34m.\u001b[0m\u001b[0mGetFeretDiameter\u001b[0m \u001b[0;34m(\u001b[0m\u001b[0;36m1\u001b[0m\u001b[0;34m)\u001b[0m\u001b[0;34m)\u001b[0m\u001b[0;34m\u001b[0m\u001b[0m\n\u001b[1;32m      5\u001b[0m \u001b[0mprint\u001b[0m\u001b[0;34m(\u001b[0m\u001b[0mshapeFilter\u001b[0m\u001b[0;34m.\u001b[0m\u001b[0mGetFlatness\u001b[0m\u001b[0;34m(\u001b[0m\u001b[0;36m1\u001b[0m\u001b[0;34m)\u001b[0m\u001b[0;34m)\u001b[0m\u001b[0;34m\u001b[0m\u001b[0m\n",
      "\u001b[0;32m/anaconda3/lib/python3.6/site-packages/SimpleITK/SimpleITK.py\u001b[0m in \u001b[0;36mGetElongation\u001b[0;34m(self, label)\u001b[0m\n\u001b[1;32m  42180\u001b[0m \u001b[0;34m\u001b[0m\u001b[0m\n\u001b[1;32m  42181\u001b[0m         \"\"\"\n\u001b[0;32m> 42182\u001b[0;31m         \u001b[0;32mreturn\u001b[0m \u001b[0m_SimpleITK\u001b[0m\u001b[0;34m.\u001b[0m\u001b[0mLabelShapeStatisticsImageFilter_GetElongation\u001b[0m\u001b[0;34m(\u001b[0m\u001b[0mself\u001b[0m\u001b[0;34m,\u001b[0m \u001b[0mlabel\u001b[0m\u001b[0;34m)\u001b[0m\u001b[0;34m\u001b[0m\u001b[0m\n\u001b[0m\u001b[1;32m  42183\u001b[0m \u001b[0;34m\u001b[0m\u001b[0m\n\u001b[1;32m  42184\u001b[0m \u001b[0;34m\u001b[0m\u001b[0m\n",
      "\u001b[0;31mRuntimeError\u001b[0m: Exception thrown in SimpleITK LabelShapeStatisticsImageFilter_GetElongation: /Users/blowekamp/miniconda2/conda-bld/simpleitk_1502125589355/work/build/ITK-prefix/include/ITK-4.11/itkLabelMap.hxx:164:\nitk::ERROR: LabelMap(0x7fc116a4a1b0): No label object with label 1."
     ]
    }
   ],
   "source": [
    "print(shapeFilter.GetElongation(1))\n",
    "print(shapeFilter.GetEquivalentSphericalPerimeter(1))\n",
    "print(shapeFilter.GetEquivalentSphericalRadius(1))\n",
    "print(shapeFilter.GetFeretDiameter (1))\n",
    "print(shapeFilter.GetFlatness(1))\n",
    "print(shapeFilter.GetNumberOfPixels(1))\n",
    "print(shapeFilter.GetNumberOfPixelsOnBorder(1))\n",
    "print(shapeFilter.GetPerimeter(1))\n",
    "print(shapeFilter.GetPerimeterOnBorder(1))\n",
    "print(shapeFilter.GetPerimeterOnBorderRatio(1))\n",
    "print(shapeFilter.GetPhysicalSize(1))\n",
    "print(shapeFilter.GetRoundness(1))"
   ]
  },
  {
   "cell_type": "markdown",
   "metadata": {},
   "source": [
    "## Intensity Analysis "
   ]
  },
  {
   "cell_type": "code",
   "execution_count": null,
   "metadata": {
    "collapsed": true
   },
   "outputs": [],
   "source": [
    "intensityFilter = sitk.LabelIntensityStatisticsImageFilter()\n",
    "intensityFilter.Execute(T1_segment,T1_image)\n",
    "print(intensityFilter)"
   ]
  },
  {
   "cell_type": "code",
   "execution_count": null,
   "metadata": {
    "collapsed": true
   },
   "outputs": [],
   "source": [
    "print(intensityFilter.GetBackgroundValue())\n",
    "print(intensityFilter.GetElongation(1))\n",
    "#print(intensityFilter.GetEquivalentEllipsoidDiameter(1))\n",
    "print(intensityFilter.GetEquivalentSphericalPerimeter(1))\n",
    "print(intensityFilter.GetEquivalentSphericalRadius(1))\n",
    "print(intensityFilter.GetFeretDiameter(1))\n",
    "print(intensityFilter.GetFlatness(1))\n",
    "print(intensityFilter.GetKurtosis(1))\n",
    "print(intensityFilter.GetMaximum(1))\n",
    "print(intensityFilter.GetMean(1))\n",
    "print(intensityFilter.GetMedian(1))\n",
    "print(intensityFilter.GetMinimum(1))\n",
    "print(intensityFilter.GetNumberOfPixels(1))\n",
    "print(intensityFilter.GetNumberOfPixelsOnBorder(1))\n",
    "print(intensityFilter.GetPerimeter(1))\n",
    "print(intensityFilter.GetPerimeterOnBorder(1))\n",
    "print(intensityFilter.GetPerimeterOnBorderRatio(1))\n",
    "print(intensityFilter.GetPhysicalSize(1))\n",
    "print(intensityFilter.GetRoundness(1) )\n",
    "print(intensityFilter.GetSkewness(1))\n",
    "print(intensityFilter.GetStandardDeviation(1))\n",
    "print(intensityFilter.GetSum(1))\n",
    "print(intensityFilter.GetVariance(1))\n",
    "print(intensityFilter.GetWeightedElongation(1))\n",
    "print(intensityFilter.GetWeightedFlatness(1))\n"
   ]
  },
  {
   "cell_type": "code",
   "execution_count": null,
   "metadata": {
    "collapsed": true
   },
   "outputs": [],
   "source": [
    "#LabelIntensityStatisticsImageFilter \n",
    "intensityFilter = sitk.LabelIntensityStatisticsImageFilter()\n",
    "intensityFilter.Execute(T2_segment,T2_image)\n",
    "print(intensityFilter)"
   ]
  },
  {
   "cell_type": "code",
   "execution_count": null,
   "metadata": {
    "collapsed": true
   },
   "outputs": [],
   "source": [
    "print(intensityFilter.GetBackgroundValue())\n",
    "print(intensityFilter.GetElongation(1))\n",
    "#print(intensityFilter.GetEquivalentEllipsoidDiameter(1))\n",
    "print(intensityFilter.GetEquivalentSphericalPerimeter(1))\n",
    "print(intensityFilter.GetEquivalentSphericalRadius(1))\n",
    "print(intensityFilter.GetFeretDiameter(1))\n",
    "print(intensityFilter.GetFlatness(1))\n",
    "print(intensityFilter.GetKurtosis(1))\n",
    "print(intensityFilter.GetMaximum(1))\n",
    "print(intensityFilter.GetMean(1))\n",
    "print(intensityFilter.GetMedian(1))\n",
    "print(intensityFilter.GetMinimum(1))\n",
    "print(intensityFilter.GetNumberOfPixels(1))\n",
    "print(intensityFilter.GetNumberOfPixelsOnBorder(1))\n",
    "print(intensityFilter.GetPerimeter(1))\n",
    "print(intensityFilter.GetPerimeterOnBorder(1))\n",
    "print(intensityFilter.GetPerimeterOnBorderRatio(1))\n",
    "print(intensityFilter.GetPhysicalSize(1))\n",
    "print(intensityFilter.GetRoundness(1) )\n",
    "print(intensityFilter.GetSkewness(1))\n",
    "print(intensityFilter.GetStandardDeviation(1))\n",
    "print(intensityFilter.GetSum(1))\n",
    "print(intensityFilter.GetVariance(1))\n",
    "print(intensityFilter.GetWeightedElongation(1))\n",
    "print(intensityFilter.GetWeightedFlatness(1))\n"
   ]
  },
  {
   "cell_type": "code",
   "execution_count": null,
   "metadata": {
    "collapsed": true
   },
   "outputs": [],
   "source": [
    "intensityFilter = sitk.LabelIntensityStatisticsImageFilter()\n",
    "intensityFilter.Execute(T1_segment,Flair_tumor)\n",
    "print(intensityFilter)"
   ]
  },
  {
   "cell_type": "code",
   "execution_count": null,
   "metadata": {
    "collapsed": true
   },
   "outputs": [],
   "source": [
    "print(intensityFilter.GetBackgroundValue())\n",
    "print(intensityFilter.GetElongation(1))\n",
    "#print(intensityFilter.GetEquivalentEllipsoidDiameter(1))\n",
    "print(intensityFilter.GetEquivalentSphericalPerimeter(1))\n",
    "print(intensityFilter.GetEquivalentSphericalRadius(1))\n",
    "print(intensityFilter.GetFeretDiameter(1))\n",
    "print(intensityFilter.GetFlatness(1))\n",
    "print(intensityFilter.GetKurtosis(1))\n",
    "print(intensityFilter.GetMaximum(1))\n",
    "print(intensityFilter.GetMean(1))\n",
    "print(intensityFilter.GetMedian(1))\n",
    "print(intensityFilter.GetMinimum(1))\n",
    "print(intensityFilter.GetNumberOfPixels(1))\n",
    "print(intensityFilter.GetNumberOfPixelsOnBorder(1))\n",
    "print(intensityFilter.GetPerimeter(1))\n",
    "print(intensityFilter.GetPerimeterOnBorder(1))\n",
    "print(intensityFilter.GetPerimeterOnBorderRatio(1))\n",
    "print(intensityFilter.GetPhysicalSize(1))\n",
    "print(intensityFilter.GetRoundness(1) )\n",
    "print(intensityFilter.GetSkewness(1))\n",
    "print(intensityFilter.GetStandardDeviation(1))\n",
    "print(intensityFilter.GetSum(1))\n",
    "print(intensityFilter.GetVariance(1))\n",
    "print(intensityFilter.GetWeightedElongation(1))\n",
    "print(intensityFilter.GetWeightedFlatness(1))"
   ]
  },
  {
   "cell_type": "markdown",
   "metadata": {},
   "source": [
    "## Texture Analysis "
   ]
  },
  {
   "cell_type": "code",
   "execution_count": null,
   "metadata": {
    "collapsed": true,
    "scrolled": true
   },
   "outputs": [],
   "source": [
    "#Issues encountered for texture analysis in python \n",
    "print(threeD_image.GetPixelIDTypeAsString() )\n",
    "print(T1_image.GetPixelIDTypeAsString() )\n",
    "print(T2_image.GetPixelIDTypeAsString() )\n",
    "print(Flair_image.GetPixelIDTypeAsString() )\n",
    "print(threeD_image.GetSize())\n",
    "print(T1_image.GetSize())\n",
    "print(T2_image.GetSize())\n",
    "print(Flair_image.GetSize())"
   ]
  },
  {
   "cell_type": "code",
   "execution_count": null,
   "metadata": {
    "collapsed": true
   },
   "outputs": [],
   "source": [
    "#InputType = type(T2_image)\n",
    "#castFilter = itk.CastImageFilter[InputType, itk.Image.SS2].New()\n",
    "##castFilter.SetOutputPixelType(itk.Image.SS2)\n",
    "#castFilter.SetInput(T2_image)\n",
    "\n",
    "#T1_segment1 = castFilter.Execute(T1_segment)\n",
    "#T2_segment1 = castFilter.Execute(T2_segment)"
   ]
  },
  {
   "cell_type": "code",
   "execution_count": null,
   "metadata": {
    "collapsed": true,
    "scrolled": false
   },
   "outputs": [],
   "source": [
    "#InputImageType  = itk.Image.SS2 \n",
    "#reader = itk.ImageFileReader[InputImageType].New()  \n",
    "#print(reader.GetOutput())\n",
    "#textureFilter = itk.ScalarImageToTextureFeaturesFilter.New()\n",
    "#textureFilter.SetInput() \n",
    "#print(textureFilter)\n",
    "#textureFilter.SetMaskImage(T1_segment_label) \n",
    "#textureFilter.SetInput(T2_segment) \n",
    "#textureFilter.SetMaskImage(T1_segment_label) \n"
   ]
  }
 ],
 "metadata": {
  "kernelspec": {
   "display_name": "Python 3",
   "language": "python",
   "name": "python3"
  },
  "language_info": {
   "codemirror_mode": {
    "name": "ipython",
    "version": 3
   },
   "file_extension": ".py",
   "mimetype": "text/x-python",
   "name": "python",
   "nbconvert_exporter": "python",
   "pygments_lexer": "ipython3",
   "version": "3.6.3"
  }
 },
 "nbformat": 4,
 "nbformat_minor": 2
}
