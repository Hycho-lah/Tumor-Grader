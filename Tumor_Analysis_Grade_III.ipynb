{
 "cells": [
  {
   "cell_type": "code",
   "execution_count": 1,
   "metadata": {
    "collapsed": true
   },
   "outputs": [],
   "source": [
    "import SimpleITK as sitk\n",
    "\n",
    "import itk\n",
    "import guiPoint\n",
    "\n",
    "%matplotlib inline\n",
    "import matplotlib.pyplot as plt\n",
    "\n",
    "import numpy as np\n",
    "from scipy import linalg\n",
    "\n",
    "from ipywidgets import interact, fixed\n",
    "from __future__ import print_function\n",
    "\n",
    "import sys\n",
    "from myshow import myshow, myshow3d\n",
    "\n",
    "import numpy as np\n",
    "from scipy import linalg\n",
    "from importlib import reload\n",
    "\n",
    "from ipywidgets import interact, fixed\n",
    "from IPython.display import clear_output"
   ]
  },
  {
   "cell_type": "markdown",
   "metadata": {},
   "source": [
    "Please enter name of images to import."
   ]
  },
  {
   "cell_type": "code",
   "execution_count": 2,
   "metadata": {
    "collapsed": true,
    "scrolled": true
   },
   "outputs": [],
   "source": [
    "threeD_image = sitk.ReadImage(\"5308_3D_7_46517.mha\")\n",
    "threeD_image_r = sitk.ReadImage(\"5308_3D_7_46517_resampled.mha\")\n",
    "T1_image = sitk.ReadImage(\"5308_T1_8_87925.mha\")\n",
    "T2_image = sitk.ReadImage(\"5308_T2_3_58051_resampled.mha\")\n",
    "Flair_image = sitk.ReadImage(\"5308_Flair_5_53041_resampled.mha\")"
   ]
  },
  {
   "cell_type": "code",
   "execution_count": 3,
   "metadata": {},
   "outputs": [
    {
     "name": "stdout",
     "output_type": "stream",
     "text": [
      "16-bit signed integer\n",
      "16-bit signed integer\n",
      "64-bit float\n",
      "64-bit float\n",
      "(512, 512, 60)\n",
      "(256, 256, 20)\n",
      "(256, 256, 20)\n",
      "(256, 256, 20)\n"
     ]
    }
   ],
   "source": [
    "print(threeD_image.GetPixelIDTypeAsString() )\n",
    "print(T1_image.GetPixelIDTypeAsString() )\n",
    "print(T2_image.GetPixelIDTypeAsString() )\n",
    "print(Flair_image.GetPixelIDTypeAsString() )\n",
    "print(threeD_image.GetSize())\n",
    "print(T1_image.GetSize())\n",
    "print(T2_image.GetSize())\n",
    "print(Flair_image.GetSize())"
   ]
  },
  {
   "cell_type": "markdown",
   "metadata": {},
   "source": [
    "Convert all images from int to float for convenience. "
   ]
  },
  {
   "cell_type": "code",
   "execution_count": 4,
   "metadata": {
    "collapsed": true
   },
   "outputs": [],
   "source": [
    "castFilter = sitk.CastImageFilter()\n",
    "castFilter.SetOutputPixelType(sitk.sitkFloat64 )\n",
    "threeD_image = castFilter.Execute(threeD_image)\n",
    "T1_image = castFilter.Execute(T1_image)\n",
    "T2_image = castFilter.Execute(T2_image)\n",
    "Flair_image = castFilter.Execute(Flair_image)"
   ]
  },
  {
   "cell_type": "markdown",
   "metadata": {},
   "source": [
    "## Seed definition"
   ]
  },
  {
   "cell_type": "markdown",
   "metadata": {},
   "source": [
    "Please define seeds in the cell below based on output in seed_selection.ipynb"
   ]
  },
  {
   "cell_type": "code",
   "execution_count": 88,
   "metadata": {
    "collapsed": true,
    "scrolled": true
   },
   "outputs": [],
   "source": [
    "seed_3D = [(200, 235, 16)]\n",
    "seeds = [(325, 314, 29), (345, 275, 22), (305, 350, 22)]\n",
    "seed_T1 = [(92, 112, 5)]\n",
    "seed_T2 = [(166,176,9)]\n",
    "seed_Flair = [(88, 118, 5)]\n",
    "seed_ventricles = [(274, 244, 29)]"
   ]
  },
  {
   "cell_type": "markdown",
   "metadata": {},
   "source": [
    "## Visualization"
   ]
  },
  {
   "cell_type": "code",
   "execution_count": 89,
   "metadata": {
    "scrolled": false
   },
   "outputs": [
    {
     "data": {
      "application/vnd.jupyter.widget-view+json": {
       "model_id": "a5ec48819aa44bd1b7ce465286a97741",
       "version_major": 2,
       "version_minor": 0
      },
      "text/plain": [
       "A Jupyter Widget"
      ]
     },
     "metadata": {},
     "output_type": "display_data"
    },
    {
     "data": {
      "application/vnd.jupyter.widget-view+json": {
       "model_id": "e990405e16074f9d99b02890a382689d",
       "version_major": 2,
       "version_minor": 0
      },
      "text/plain": [
       "A Jupyter Widget"
      ]
     },
     "metadata": {},
     "output_type": "display_data"
    },
    {
     "data": {
      "application/vnd.jupyter.widget-view+json": {
       "model_id": "dcb6837d4b264ef4bc07d34e97515b79",
       "version_major": 2,
       "version_minor": 0
      },
      "text/plain": [
       "A Jupyter Widget"
      ]
     },
     "metadata": {},
     "output_type": "display_data"
    },
    {
     "data": {
      "application/vnd.jupyter.widget-view+json": {
       "model_id": "b4380195244d4793ac30b8546d15b9a6",
       "version_major": 2,
       "version_minor": 0
      },
      "text/plain": [
       "A Jupyter Widget"
      ]
     },
     "metadata": {},
     "output_type": "display_data"
    }
   ],
   "source": [
    "myshow(T1_image)\n",
    "myshow(T2_image)\n",
    "myshow(Flair_image)\n",
    "myshow3d(threeD_image)"
   ]
  },
  {
   "cell_type": "markdown",
   "metadata": {},
   "source": [
    "## Registration"
   ]
  },
  {
   "cell_type": "markdown",
   "metadata": {},
   "source": [
    "Note: function below taken from simpleITK notebook sample \"60_Registration_Introduction.ipynb\""
   ]
  },
  {
   "cell_type": "code",
   "execution_count": 90,
   "metadata": {
    "collapsed": true
   },
   "outputs": [],
   "source": [
    "# Callback invoked by the interact IPython method for scrolling through the image stacks of\n",
    "# the two images (moving and fixed).\n",
    "def display_images(fixed_image_z, moving_image_z, fixed_npa, moving_npa):\n",
    "    # Create a figure with two subplots and the specified size.\n",
    "    plt.subplots(1,2,figsize=(10,8))\n",
    "    \n",
    "    # Draw the fixed image in the first subplot.\n",
    "    plt.subplot(1,2,1)\n",
    "    plt.imshow(fixed_npa[fixed_image_z,:,:],cmap=plt.cm.Greys_r);\n",
    "    plt.title('fixed image')\n",
    "    plt.axis('off')\n",
    "    \n",
    "    # Draw the moving image in the second subplot.\n",
    "    plt.subplot(1,2,2)\n",
    "    plt.imshow(moving_npa[moving_image_z,:,:],cmap=plt.cm.Greys_r);\n",
    "    plt.title('moving image')\n",
    "    plt.axis('off')\n",
    "    \n",
    "    plt.show()\n",
    "\n",
    "# Callback invoked by the IPython interact method for scrolling and modifying the alpha blending\n",
    "# of an image stack of two images that occupy the same physical space. \n",
    "def display_images_with_alpha(image_z, alpha, fixed, moving):\n",
    "    img = (1.0 - alpha)*fixed[:,:,image_z] + alpha*moving[:,:,image_z] \n",
    "    plt.imshow(sitk.GetArrayViewFromImage(img),cmap=plt.cm.Greys_r);\n",
    "    plt.axis('off')\n",
    "    plt.show()\n",
    "    \n",
    "# Callback invoked when the StartEvent happens, sets up our new data.\n",
    "def start_plot():\n",
    "    global metric_values, multires_iterations\n",
    "    \n",
    "    metric_values = []\n",
    "    multires_iterations = []\n",
    "\n",
    "# Callback invoked when the EndEvent happens, do cleanup of data and figure.\n",
    "def end_plot():\n",
    "    global metric_values, multires_iterations\n",
    "    \n",
    "    del metric_values\n",
    "    del multires_iterations\n",
    "    # Close figure, we don't want to get a duplicate of the plot latter on.\n",
    "    plt.close()\n",
    "\n",
    "# Callback invoked when the IterationEvent happens, update our data and display new figure.    \n",
    "def plot_values(registration_method):\n",
    "    global metric_values, multires_iterations\n",
    "    \n",
    "    metric_values.append(registration_method.GetMetricValue())                                       \n",
    "    # Clear the output area (wait=True, to reduce flickering), and plot current data\n",
    "    clear_output(wait=True)\n",
    "    # Plot the similarity metric values\n",
    "    plt.plot(metric_values, 'r')\n",
    "    plt.plot(multires_iterations, [metric_values[index] for index in multires_iterations], 'b*')\n",
    "    plt.xlabel('Iteration Number',fontsize=12)\n",
    "    plt.ylabel('Metric Value',fontsize=12)\n",
    "    plt.show()\n",
    "    \n",
    "# Callback invoked when the sitkMultiResolutionIterationEvent happens, update the index into the \n",
    "# metric_values list. \n",
    "def update_multires_iterations():\n",
    "    global metric_values, multires_iterations\n",
    "    multires_iterations.append(len(metric_values))        "
   ]
  },
  {
   "cell_type": "markdown",
   "metadata": {},
   "source": [
    "Registration for threeD_image to move to T1_image"
   ]
  },
  {
   "cell_type": "code",
   "execution_count": 91,
   "metadata": {
    "scrolled": true
   },
   "outputs": [
    {
     "data": {
      "application/vnd.jupyter.widget-view+json": {
       "model_id": "a054847afdfc4827a64425a236439862",
       "version_major": 2,
       "version_minor": 0
      },
      "text/plain": [
       "A Jupyter Widget"
      ]
     },
     "metadata": {},
     "output_type": "display_data"
    }
   ],
   "source": [
    "fixed_image =  T1_image\n",
    "moving_image = threeD_image\n",
    "\n",
    "interact(display_images, fixed_image_z=(0,fixed_image.GetSize()[2]-1), moving_image_z=(0,moving_image.GetSize()[2]-1), fixed_npa = fixed(sitk.GetArrayViewFromImage(fixed_image)), moving_npa=fixed(sitk.GetArrayViewFromImage(moving_image)));"
   ]
  },
  {
   "cell_type": "code",
   "execution_count": 92,
   "metadata": {},
   "outputs": [
    {
     "data": {
      "application/vnd.jupyter.widget-view+json": {
       "model_id": "49de229f8c0f46b1adcdd6c8e237da4e",
       "version_major": 2,
       "version_minor": 0
      },
      "text/plain": [
       "A Jupyter Widget"
      ]
     },
     "metadata": {},
     "output_type": "display_data"
    }
   ],
   "source": [
    "initial_transform = sitk.CenteredTransformInitializer(fixed_image, \n",
    "                                                      moving_image, \n",
    "                                                      sitk.Euler3DTransform(), \n",
    "                                                      sitk.CenteredTransformInitializerFilter.GEOMETRY)\n",
    "\n",
    "moving_resampled = sitk.Resample(moving_image, fixed_image, initial_transform, sitk.sitkLinear, 0.0, moving_image.GetPixelID())\n",
    "\n",
    "interact(display_images_with_alpha, image_z=(0,fixed_image.GetSize()[2]), alpha=(0.0,2.0,0.05), fixed = fixed(fixed_image), moving=fixed(moving_resampled));"
   ]
  },
  {
   "cell_type": "code",
   "execution_count": 93,
   "metadata": {},
   "outputs": [
    {
     "data": {
      "application/vnd.jupyter.widget-view+json": {
       "model_id": "d1af595230b0497a980b3ec907c08634",
       "version_major": 2,
       "version_minor": 0
      },
      "text/plain": [
       "A Jupyter Widget"
      ]
     },
     "metadata": {},
     "output_type": "display_data"
    }
   ],
   "source": [
    "interact(display_images, fixed_image_z=(0,fixed_image.GetSize()[2]-1), moving_image_z=(0,moving_resampled.GetSize()[2]-1), fixed_npa = fixed(sitk.GetArrayViewFromImage(fixed_image)), moving_npa=fixed(sitk.GetArrayViewFromImage(moving_resampled)));"
   ]
  },
  {
   "cell_type": "code",
   "execution_count": 94,
   "metadata": {},
   "outputs": [
    {
     "data": {
      "image/png": "[encoded data removed]",
      "text/plain": [
       "<matplotlib.figure.Figure at 0x10714e550>"
      ]
     },
     "metadata": {},
     "output_type": "display_data"
    }
   ],
   "source": [
    "registration_method = sitk.ImageRegistrationMethod()\n",
    "\n",
    "# Similarity metric settings.\n",
    "registration_method.SetMetricAsMattesMutualInformation(numberOfHistogramBins=50)\n",
    "registration_method.SetMetricSamplingStrategy(registration_method.RANDOM)\n",
    "registration_method.SetMetricSamplingPercentage(0.01)\n",
    "\n",
    "registration_method.SetInterpolator(sitk.sitkLinear)\n",
    "\n",
    "# Optimizer settings.\n",
    "registration_method.SetOptimizerAsGradientDescent(learningRate=1.0, numberOfIterations=100, convergenceMinimumValue=1e-6, convergenceWindowSize=10)\n",
    "registration_method.SetOptimizerScalesFromPhysicalShift()\n",
    "\n",
    "# Setup for the multi-resolution framework.            \n",
    "registration_method.SetShrinkFactorsPerLevel(shrinkFactors = [4,2,1])\n",
    "registration_method.SetSmoothingSigmasPerLevel(smoothingSigmas=[2,1,0])\n",
    "registration_method.SmoothingSigmasAreSpecifiedInPhysicalUnitsOn()\n",
    "\n",
    "# Don't optimize in-place, we would possibly like to run this cell multiple times.\n",
    "registration_method.SetInitialTransform(initial_transform, inPlace=False)\n",
    "\n",
    "# Connect all of the observers so that we can perform plotting during registration.\n",
    "registration_method.AddCommand(sitk.sitkStartEvent, start_plot)\n",
    "registration_method.AddCommand(sitk.sitkEndEvent, end_plot)\n",
    "registration_method.AddCommand(sitk.sitkMultiResolutionIterationEvent, update_multires_iterations) \n",
    "registration_method.AddCommand(sitk.sitkIterationEvent, lambda: plot_values(registration_method))\n",
    "\n",
    "final_transform_3D = registration_method.Execute(sitk.Cast(fixed_image, sitk.sitkFloat32), \n",
    "                                              sitk.Cast(moving_image, sitk.sitkFloat32))"
   ]
  },
  {
   "cell_type": "code",
   "execution_count": 95,
   "metadata": {},
   "outputs": [
    {
     "name": "stdout",
     "output_type": "stream",
     "text": [
      "Final metric value: -0.6480706438845995\n",
      "Optimizer's stopping condition, GradientDescentOptimizerv4Template: Convergence checker passed at iteration 9.\n"
     ]
    }
   ],
   "source": [
    "print('Final metric value: {0}'.format(registration_method.GetMetricValue()))\n",
    "print('Optimizer\\'s stopping condition, {0}'.format(registration_method.GetOptimizerStopConditionDescription()))"
   ]
  },
  {
   "cell_type": "code",
   "execution_count": 96,
   "metadata": {
    "scrolled": true
   },
   "outputs": [
    {
     "data": {
      "application/vnd.jupyter.widget-view+json": {
       "model_id": "b08b5d0708c34e0b80364d8da144f218",
       "version_major": 2,
       "version_minor": 0
      },
      "text/plain": [
       "A Jupyter Widget"
      ]
     },
     "metadata": {},
     "output_type": "display_data"
    }
   ],
   "source": [
    "moving_resampled = sitk.Resample(moving_image, fixed_image, final_transform_3D, sitk.sitkLinear, 0.0, moving_image.GetPixelID())\n",
    "\n",
    "interact(display_images_with_alpha, image_z=(0,fixed_image.GetSize()[2]), alpha=(0.0,2.0,0.05), fixed = fixed(fixed_image), moving=fixed(moving_resampled));"
   ]
  },
  {
   "cell_type": "code",
   "execution_count": 97,
   "metadata": {
    "scrolled": true
   },
   "outputs": [
    {
     "data": {
      "application/vnd.jupyter.widget-view+json": {
       "model_id": "655ae8aaeb2b42f0a6943a3546ade7d3",
       "version_major": 2,
       "version_minor": 0
      },
      "text/plain": [
       "A Jupyter Widget"
      ]
     },
     "metadata": {},
     "output_type": "display_data"
    }
   ],
   "source": [
    "interact(display_images, fixed_image_z=(0,fixed_image.GetSize()[2]-1), moving_image_z=(0,moving_resampled.GetSize()[2]-1), fixed_npa = fixed(sitk.GetArrayViewFromImage(fixed_image)), moving_npa=fixed(sitk.GetArrayViewFromImage(moving_resampled)));"
   ]
  },
  {
   "cell_type": "code",
   "execution_count": 98,
   "metadata": {
    "collapsed": true
   },
   "outputs": [],
   "source": [
    "threeD_image_r = moving_resampled "
   ]
  },
  {
   "cell_type": "code",
   "execution_count": 99,
   "metadata": {},
   "outputs": [],
   "source": [
    "#final_transform_3D_inverse = final_transform_3D.GetInverse()\n",
    "#final_transform_T2_inverse = final_transform_T2.GetInverse()\n",
    "#final_transform_Flair_inverse = final_transform_Flair.GetInverse()"
   ]
  },
  {
   "cell_type": "markdown",
   "metadata": {},
   "source": [
    "## Get Anatomical Structure"
   ]
  },
  {
   "cell_type": "code",
   "execution_count": 100,
   "metadata": {
    "scrolled": true
   },
   "outputs": [
    {
     "data": {
      "application/vnd.jupyter.widget-view+json": {
       "model_id": "4bf48dc5e95846cb912878e7bef10263",
       "version_major": 2,
       "version_minor": 0
      },
      "text/plain": [
       "A Jupyter Widget"
      ]
     },
     "metadata": {},
     "output_type": "display_data"
    }
   ],
   "source": [
    "blurFilter = sitk.CurvatureFlowImageFilter()\n",
    "blurFilter.SetNumberOfIterations( 3 )\n",
    "blurFilter.SetTimeStep( 0.15 )\n",
    "threeD_image_smooth = blurFilter.Execute(threeD_image_r)\n",
    "\n",
    "myshow(threeD_image_smooth)"
   ]
  },
  {
   "cell_type": "markdown",
   "metadata": {},
   "source": [
    "Segment CSF-filled ventricular system using 3D image. "
   ]
  },
  {
   "cell_type": "code",
   "execution_count": 101,
   "metadata": {
    "scrolled": true
   },
   "outputs": [
    {
     "data": {
      "application/vnd.jupyter.widget-view+json": {
       "model_id": "040dfcc2f5b04c1682bc1c175cf9dbcc",
       "version_major": 2,
       "version_minor": 0
      },
      "text/plain": [
       "A Jupyter Widget"
      ]
     },
     "metadata": {},
     "output_type": "display_data"
    }
   ],
   "source": [
    "binaryFilter = sitk.BinaryThresholdImageFilter()\n",
    "binaryFilter.SetLowerThreshold(-100)\n",
    "binaryFilter.SetUpperThreshold(50)\n",
    "threeD_image_water_segment = binaryFilter.Execute(threeD_image_smooth)\n",
    "myshow(threeD_image_water_segment)"
   ]
  },
  {
   "cell_type": "code",
   "execution_count": 102,
   "metadata": {},
   "outputs": [
    {
     "data": {
      "application/vnd.jupyter.widget-view+json": {
       "model_id": "f34717a432cf4288a225717ae2084795",
       "version_major": 2,
       "version_minor": 0
      },
      "text/plain": [
       "A Jupyter Widget"
      ]
     },
     "metadata": {},
     "output_type": "display_data"
    }
   ],
   "source": [
    "ThresholdFilter = sitk.ConnectedThresholdImageFilter()\n",
    "ThresholdFilter.SetSeedList(seed_ventricles)\n",
    "ThresholdFilter.SetLower(1)\n",
    "ThresholdFilter.SetUpper(1)\n",
    "threeD_image_water_segment = ThresholdFilter.Execute(threeD_image_water_segment)\n",
    "myshow(threeD_image_water_segment)"
   ]
  },
  {
   "cell_type": "code",
   "execution_count": 103,
   "metadata": {
    "scrolled": true
   },
   "outputs": [
    {
     "data": {
      "application/vnd.jupyter.widget-view+json": {
       "model_id": "1a471656457744c1b11be1832b26cc34",
       "version_major": 2,
       "version_minor": 0
      },
      "text/plain": [
       "A Jupyter Widget"
      ]
     },
     "metadata": {},
     "output_type": "display_data"
    }
   ],
   "source": [
    "closingFilter = sitk.BinaryMorphologicalClosingImageFilter()\n",
    "closingFilter.SetKernelRadius(3)\n",
    "threeD_image_water_segment = closingFilter.Execute(threeD_image_water_segment)\n",
    "myshow(threeD_image_water_segment)"
   ]
  },
  {
   "cell_type": "code",
   "execution_count": 104,
   "metadata": {},
   "outputs": [
    {
     "data": {
      "application/vnd.jupyter.widget-view+json": {
       "model_id": "083a2dc3db724825b88fe512da8025f9",
       "version_major": 2,
       "version_minor": 0
      },
      "text/plain": [
       "A Jupyter Widget"
      ]
     },
     "metadata": {},
     "output_type": "display_data"
    }
   ],
   "source": [
    "ThresholdFilter = sitk.ConnectedThresholdImageFilter()\n",
    "ThresholdFilter.SetSeedList(seed_ventricles)\n",
    "ThresholdFilter.SetLower(1)\n",
    "ThresholdFilter.SetUpper(1)\n",
    "threeD_image_water_segment = ThresholdFilter.Execute(threeD_image_water_segment)\n",
    "myshow(threeD_image_water_segment)"
   ]
  },
  {
   "cell_type": "code",
   "execution_count": 105,
   "metadata": {},
   "outputs": [
    {
     "data": {
      "application/vnd.jupyter.widget-view+json": {
       "model_id": "d7d23aae9c0d4d6a8706efbf8ef6c1b7",
       "version_major": 2,
       "version_minor": 0
      },
      "text/plain": [
       "A Jupyter Widget"
      ]
     },
     "metadata": {},
     "output_type": "display_data"
    }
   ],
   "source": [
    "dilateFilter= sitk.BinaryDilateImageFilter()\n",
    "threeD_image_water_segment = dilateFilter.Execute(threeD_image_water_segment)\n",
    "myshow(threeD_image_water_segment)"
   ]
  },
  {
   "cell_type": "markdown",
   "metadata": {},
   "source": [
    "Segment bone using Flair image. "
   ]
  },
  {
   "cell_type": "code",
   "execution_count": 106,
   "metadata": {
    "scrolled": true
   },
   "outputs": [
    {
     "data": {
      "application/vnd.jupyter.widget-view+json": {
       "model_id": "b9d941011d94484180766d133571c453",
       "version_major": 2,
       "version_minor": 0
      },
      "text/plain": [
       "A Jupyter Widget"
      ]
     },
     "metadata": {},
     "output_type": "display_data"
    }
   ],
   "source": [
    "binaryFilter = sitk.BinaryThresholdImageFilter()\n",
    "binaryFilter.SetLowerThreshold(1200)\n",
    "binaryFilter.SetUpperThreshold(1700)\n",
    "Flair_image_skull_segment = binaryFilter.Execute(Flair_image)\n",
    "myshow(Flair_image_skull_segment)"
   ]
  },
  {
   "cell_type": "code",
   "execution_count": 107,
   "metadata": {},
   "outputs": [
    {
     "data": {
      "application/vnd.jupyter.widget-view+json": {
       "model_id": "4e0dc6f9f2d34f5e9627545239d26c83",
       "version_major": 2,
       "version_minor": 0
      },
      "text/plain": [
       "A Jupyter Widget"
      ]
     },
     "metadata": {},
     "output_type": "display_data"
    }
   ],
   "source": [
    "closingFilter = sitk.BinaryMorphologicalClosingImageFilter()\n",
    "Flair_image_skull_segment = closingFilter.Execute(Flair_image_skull_segment)\n",
    "myshow(Flair_image_skull_segment)"
   ]
  },
  {
   "cell_type": "code",
   "execution_count": 108,
   "metadata": {
    "scrolled": true
   },
   "outputs": [
    {
     "data": {
      "application/vnd.jupyter.widget-view+json": {
       "model_id": "e7246316fbc64c9d9901656ad52db486",
       "version_major": 2,
       "version_minor": 0
      },
      "text/plain": [
       "A Jupyter Widget"
      ]
     },
     "metadata": {},
     "output_type": "display_data"
    }
   ],
   "source": [
    "dilateFilter= sitk.BinaryDilateImageFilter()\n",
    "Flair_image_skull_segment = dilateFilter.Execute(Flair_image_skull_segment)\n",
    "myshow(Flair_image_skull_segment)"
   ]
  },
  {
   "cell_type": "code",
   "execution_count": 109,
   "metadata": {
    "scrolled": true
   },
   "outputs": [
    {
     "data": {
      "application/vnd.jupyter.widget-view+json": {
       "model_id": "d150a0fc058f4926ab0f8ed81c23f67d",
       "version_major": 2,
       "version_minor": 0
      },
      "text/plain": [
       "A Jupyter Widget"
      ]
     },
     "metadata": {},
     "output_type": "display_data"
    }
   ],
   "source": [
    "openingFilter = sitk.BinaryMorphologicalOpeningImageFilter()\n",
    "openingFilter.SetKernelRadius(2)\n",
    "Flair_image_skull_segment = openingFilter.Execute(Flair_image_skull_segment)\n",
    "myshow(Flair_image_skull_segment)"
   ]
  },
  {
   "cell_type": "markdown",
   "metadata": {},
   "source": [
    "## Remove Anatomical structures"
   ]
  },
  {
   "cell_type": "code",
   "execution_count": 110,
   "metadata": {},
   "outputs": [
    {
     "data": {
      "application/vnd.jupyter.widget-view+json": {
       "model_id": "8824b3810f524ac48bf03c80b6a4127b",
       "version_major": 2,
       "version_minor": 0
      },
      "text/plain": [
       "A Jupyter Widget"
      ]
     },
     "metadata": {},
     "output_type": "display_data"
    },
    {
     "data": {
      "application/vnd.jupyter.widget-view+json": {
       "model_id": "20850a3719114b8894cd371f3e8c9431",
       "version_major": 2,
       "version_minor": 0
      },
      "text/plain": [
       "A Jupyter Widget"
      ]
     },
     "metadata": {},
     "output_type": "display_data"
    }
   ],
   "source": [
    "#Obtain mask\n",
    "binaryFilter = sitk.BinaryThresholdImageFilter()\n",
    "binaryFilter.SetLowerThreshold(0)\n",
    "binaryFilter.SetUpperThreshold(0)\n",
    "\n",
    "threeD_image_water_mask = binaryFilter.Execute(threeD_image_water_segment)\n",
    "myshow(threeD_image_water_mask)\n",
    "Flair_image_skull_mask = binaryFilter.Execute(Flair_image_skull_segment)\n",
    "myshow(Flair_image_skull_mask )\n"
   ]
  },
  {
   "cell_type": "code",
   "execution_count": 111,
   "metadata": {},
   "outputs": [
    {
     "data": {
      "application/vnd.jupyter.widget-view+json": {
       "model_id": "d709e669287e4f56b33103768234e647",
       "version_major": 2,
       "version_minor": 0
      },
      "text/plain": [
       "A Jupyter Widget"
      ]
     },
     "metadata": {},
     "output_type": "display_data"
    },
    {
     "data": {
      "application/vnd.jupyter.widget-view+json": {
       "model_id": "96b7eb10a48d4735984bacbd047ffab2",
       "version_major": 2,
       "version_minor": 0
      },
      "text/plain": [
       "A Jupyter Widget"
      ]
     },
     "metadata": {},
     "output_type": "display_data"
    },
    {
     "data": {
      "application/vnd.jupyter.widget-view+json": {
       "model_id": "da19ec4330e844db9c4d501e8b2f39a4",
       "version_major": 2,
       "version_minor": 0
      },
      "text/plain": [
       "A Jupyter Widget"
      ]
     },
     "metadata": {},
     "output_type": "display_data"
    }
   ],
   "source": [
    "#Apply mask filter to all images\n",
    "maskFilter = sitk.MaskImageFilter()\n",
    "\n",
    "#T1_image = maskFilter.Execute(T1_image,threeD_image_water_mask)\n",
    "T2_image = maskFilter.Execute(T2_image,threeD_image_water_mask)\n",
    "#Flair_image = maskFilter.Execute(Flair_image,threeD_image_water_mask)\n",
    "\n",
    "T1_image = maskFilter.Execute(T1_image,Flair_image_skull_mask)\n",
    "T2_image = maskFilter.Execute(T2_image,Flair_image_skull_mask)\n",
    "Flair_image = maskFilter.Execute(Flair_image,Flair_image_skull_mask)\n",
    "\n",
    "myshow(T1_image)\n",
    "myshow(T2_image)\n",
    "myshow(Flair_image)"
   ]
  },
  {
   "cell_type": "markdown",
   "metadata": {},
   "source": [
    "## Segmentation T1"
   ]
  },
  {
   "cell_type": "code",
   "execution_count": 112,
   "metadata": {},
   "outputs": [
    {
     "data": {
      "application/vnd.jupyter.widget-view+json": {
       "model_id": "dd5207ba0ed7439bab2f927f83147938",
       "version_major": 2,
       "version_minor": 0
      },
      "text/plain": [
       "A Jupyter Widget"
      ]
     },
     "metadata": {},
     "output_type": "display_data"
    }
   ],
   "source": [
    "blurFilter = sitk.CurvatureFlowImageFilter()\n",
    "blurFilter.SetNumberOfIterations( 3 )\n",
    "blurFilter.SetTimeStep( 0.15 )\n",
    "T1_image_s = blurFilter.Execute(T1_image)\n",
    "myshow(T1_image_s) "
   ]
  },
  {
   "cell_type": "code",
   "execution_count": 113,
   "metadata": {},
   "outputs": [
    {
     "data": {
      "application/vnd.jupyter.widget-view+json": {
       "model_id": "72b971fd6bab491e85ac25d77a40eb5a",
       "version_major": 2,
       "version_minor": 0
      },
      "text/plain": [
       "A Jupyter Widget"
      ]
     },
     "metadata": {},
     "output_type": "display_data"
    }
   ],
   "source": [
    "adaptiveFilter = sitk.AdaptiveHistogramEqualizationImageFilter()\n",
    "adaptiveFilter.SetAlpha(0.5)\n",
    "adaptiveFilter.SetBeta(1)\n",
    "T1_image1 = adaptiveFilter.Execute(T1_image_s)\n",
    "myshow(T1_image1)"
   ]
  },
  {
   "cell_type": "code",
   "execution_count": 114,
   "metadata": {
    "scrolled": true
   },
   "outputs": [
    {
     "data": {
      "application/vnd.jupyter.widget-view+json": {
       "model_id": "1c71181fa6964ce5b88825bf2b61d5aa",
       "version_major": 2,
       "version_minor": 0
      },
      "text/plain": [
       "A Jupyter Widget"
      ]
     },
     "metadata": {},
     "output_type": "display_data"
    }
   ],
   "source": [
    "gradientFilter = sitk.GradientMagnitudeRecursiveGaussianImageFilter()\n",
    "#sigma = sys.argv[3]\n",
    "#sigma = sigma[1:len(sigma)-1]\n",
    "gradientFilter.SetSigma(0.8)\n",
    "T1_image2 = gradientFilter.Execute(T1_image1)\n",
    "myshow(T1_image2)"
   ]
  },
  {
   "cell_type": "code",
   "execution_count": 115,
   "metadata": {
    "scrolled": false
   },
   "outputs": [
    {
     "data": {
      "application/vnd.jupyter.widget-view+json": {
       "model_id": "46978c87896b4a53919853f3a7bf618f",
       "version_major": 2,
       "version_minor": 0
      },
      "text/plain": [
       "A Jupyter Widget"
      ]
     },
     "metadata": {},
     "output_type": "display_data"
    }
   ],
   "source": [
    "sigmoidFilter = sitk.SigmoidImageFilter()\n",
    "sigmoidFilter.SetAlpha(-70.0)\n",
    "sigmoidFilter.SetBeta(60.0)\n",
    "T1_image3= sigmoidFilter.Execute(T1_image2)\n",
    "myshow(T1_image3)"
   ]
  },
  {
   "cell_type": "code",
   "execution_count": 116,
   "metadata": {},
   "outputs": [
    {
     "data": {
      "application/vnd.jupyter.widget-view+json": {
       "model_id": "3e204585f4594c93bbc2a17b6d187b16",
       "version_major": 2,
       "version_minor": 0
      },
      "text/plain": [
       "A Jupyter Widget"
      ]
     },
     "metadata": {},
     "output_type": "display_data"
    }
   ],
   "source": [
    "fastFilter = sitk.FastMarchingImageFilter()\n",
    "fastFilter.SetTrialPoints(seed_T1)\n",
    "#fastFilter.SetTrialPoints([(171, 153, 8), (187, 130, 7)])\n",
    "#fastFilter.SetTrialPoints([(186, 131, 7), (170, 154, 8), (168, 154, 9)])\n",
    "fastFilter.SetStoppingValue(0.15)\n",
    "T1_image4 = fastFilter.Execute(T1_image3)\n",
    "myshow(T1_image4)"
   ]
  },
  {
   "cell_type": "code",
   "execution_count": 117,
   "metadata": {},
   "outputs": [
    {
     "data": {
      "application/vnd.jupyter.widget-view+json": {
       "model_id": "de2c8bbaab8643dc91484ab1967c948f",
       "version_major": 2,
       "version_minor": 0
      },
      "text/plain": [
       "A Jupyter Widget"
      ]
     },
     "metadata": {},
     "output_type": "display_data"
    }
   ],
   "source": [
    "binaryFilter = sitk.BinaryThresholdImageFilter()\n",
    "binaryFilter.SetLowerThreshold(0)\n",
    "binaryFilter.SetUpperThreshold(10)\n",
    "T1_image5 = binaryFilter.Execute(T1_image4)\n",
    "myshow(T1_image5)"
   ]
  },
  {
   "cell_type": "code",
   "execution_count": 118,
   "metadata": {},
   "outputs": [
    {
     "data": {
      "application/vnd.jupyter.widget-view+json": {
       "model_id": "ab6e6450d113419fb09f8031f5d77a0d",
       "version_major": 2,
       "version_minor": 0
      },
      "text/plain": [
       "A Jupyter Widget"
      ]
     },
     "metadata": {},
     "output_type": "display_data"
    },
    {
     "data": {
      "application/vnd.jupyter.widget-view+json": {
       "model_id": "20a9ed5de7af4365b26c58af9cf36717",
       "version_major": 2,
       "version_minor": 0
      },
      "text/plain": [
       "A Jupyter Widget"
      ]
     },
     "metadata": {},
     "output_type": "display_data"
    }
   ],
   "source": [
    "closingFilter = sitk.BinaryMorphologicalClosingImageFilter()\n",
    "T1_segment = closingFilter.Execute(T1_image5)\n",
    "myshow(T1_segment)\n",
    "myshow(T1_image)"
   ]
  },
  {
   "cell_type": "markdown",
   "metadata": {},
   "source": [
    "## Segmentation T2"
   ]
  },
  {
   "cell_type": "code",
   "execution_count": 119,
   "metadata": {
    "scrolled": true
   },
   "outputs": [
    {
     "data": {
      "application/vnd.jupyter.widget-view+json": {
       "model_id": "d1c439c9d9574a078edd6513af0a6cf8",
       "version_major": 2,
       "version_minor": 0
      },
      "text/plain": [
       "A Jupyter Widget"
      ]
     },
     "metadata": {},
     "output_type": "display_data"
    }
   ],
   "source": [
    "myshow(T2_image)"
   ]
  },
  {
   "cell_type": "code",
   "execution_count": 120,
   "metadata": {},
   "outputs": [
    {
     "data": {
      "application/vnd.jupyter.widget-view+json": {
       "model_id": "1d3d54bd52184d889181852b1f864887",
       "version_major": 2,
       "version_minor": 0
      },
      "text/plain": [
       "A Jupyter Widget"
      ]
     },
     "metadata": {},
     "output_type": "display_data"
    }
   ],
   "source": [
    "blurFilter = sitk.CurvatureFlowImageFilter()\n",
    "blurFilter.SetNumberOfIterations( 3 )\n",
    "blurFilter.SetTimeStep( 0.15 )\n",
    "T2_image_s = blurFilter.Execute(T2_image)\n",
    "myshow(T2_image_s) "
   ]
  },
  {
   "cell_type": "code",
   "execution_count": 121,
   "metadata": {
    "scrolled": false
   },
   "outputs": [
    {
     "data": {
      "application/vnd.jupyter.widget-view+json": {
       "model_id": "9cfb6a468a944b50b933fa505a83aec4",
       "version_major": 2,
       "version_minor": 0
      },
      "text/plain": [
       "A Jupyter Widget"
      ]
     },
     "metadata": {},
     "output_type": "display_data"
    }
   ],
   "source": [
    "Threshold2Filter = sitk.ConfidenceConnectedImageFilter()\n",
    "Threshold2Filter.SetInitialNeighborhoodRadius(20)\n",
    "Threshold2Filter.SetMultiplier(1.1)\n",
    "Threshold2Filter.SetNumberOfIterations(50)\n",
    "Threshold2Filter.SetSeedList (seed_T2)\n",
    "T2_image2= Threshold2Filter.Execute(T2_image)\n",
    "myshow(T2_image2)"
   ]
  },
  {
   "cell_type": "code",
   "execution_count": 122,
   "metadata": {},
   "outputs": [
    {
     "data": {
      "application/vnd.jupyter.widget-view+json": {
       "model_id": "26c085701a2a44ea895678e6a69a8480",
       "version_major": 2,
       "version_minor": 0
      },
      "text/plain": [
       "A Jupyter Widget"
      ]
     },
     "metadata": {},
     "output_type": "display_data"
    }
   ],
   "source": [
    "binaryFilter = sitk.BinaryThresholdImageFilter()\n",
    "binaryFilter.SetLowerThreshold(0)\n",
    "binaryFilter.SetUpperThreshold(0)\n",
    "T2_image3 = binaryFilter.Execute(T2_image2)\n",
    "myshow(T2_image3 )"
   ]
  },
  {
   "cell_type": "code",
   "execution_count": 123,
   "metadata": {},
   "outputs": [
    {
     "data": {
      "application/vnd.jupyter.widget-view+json": {
       "model_id": "ee90dc84632e41b5afe75bbc1416b551",
       "version_major": 2,
       "version_minor": 0
      },
      "text/plain": [
       "A Jupyter Widget"
      ]
     },
     "metadata": {},
     "output_type": "display_data"
    }
   ],
   "source": [
    "ThresholdFilter = sitk.ConnectedThresholdImageFilter()\n",
    "ThresholdFilter.SetSeedList(seed_T2)\n",
    "ThresholdFilter.SetLower(1)\n",
    "ThresholdFilter.SetUpper(1)\n",
    "T2_image4 = ThresholdFilter.Execute(T2_image3)\n",
    "myshow(T2_image4)"
   ]
  },
  {
   "cell_type": "code",
   "execution_count": 124,
   "metadata": {},
   "outputs": [
    {
     "data": {
      "application/vnd.jupyter.widget-view+json": {
       "model_id": "c78b9b5a5b73482a9ad14d1573e0eeee",
       "version_major": 2,
       "version_minor": 0
      },
      "text/plain": [
       "A Jupyter Widget"
      ]
     },
     "metadata": {},
     "output_type": "display_data"
    }
   ],
   "source": [
    "closingFilter = sitk.BinaryMorphologicalClosingImageFilter()\n",
    "T2_image5 = closingFilter.Execute(T2_image4)\n",
    "myshow(T2_image5)"
   ]
  },
  {
   "cell_type": "code",
   "execution_count": 125,
   "metadata": {
    "scrolled": false
   },
   "outputs": [
    {
     "data": {
      "application/vnd.jupyter.widget-view+json": {
       "model_id": "ad13c4c414664aa68ad6a27984064e24",
       "version_major": 2,
       "version_minor": 0
      },
      "text/plain": [
       "A Jupyter Widget"
      ]
     },
     "metadata": {},
     "output_type": "display_data"
    },
    {
     "data": {
      "application/vnd.jupyter.widget-view+json": {
       "model_id": "aaf3403134cc4a4d9bf8010cde20aa39",
       "version_major": 2,
       "version_minor": 0
      },
      "text/plain": [
       "A Jupyter Widget"
      ]
     },
     "metadata": {},
     "output_type": "display_data"
    }
   ],
   "source": [
    "T2_segment = T2_image5\n",
    "myshow(T2_segment)\n",
    "myshow(T2_image)"
   ]
  },
  {
   "cell_type": "markdown",
   "metadata": {},
   "source": [
    "## Flair segmentation"
   ]
  },
  {
   "cell_type": "code",
   "execution_count": 126,
   "metadata": {},
   "outputs": [
    {
     "data": {
      "application/vnd.jupyter.widget-view+json": {
       "model_id": "3bbd97df4bf748809b37f93a084b5da2",
       "version_major": 2,
       "version_minor": 0
      },
      "text/plain": [
       "A Jupyter Widget"
      ]
     },
     "metadata": {},
     "output_type": "display_data"
    }
   ],
   "source": [
    "myshow(T1_segment)"
   ]
  },
  {
   "cell_type": "code",
   "execution_count": 127,
   "metadata": {
    "collapsed": true
   },
   "outputs": [],
   "source": [
    "castFilter = sitk.CastImageFilter()\n",
    "castFilter.SetOutputPixelType(sitk.sitkInt16)\n",
    "T1_segment_int = castFilter.Execute(T1_segment)"
   ]
  },
  {
   "cell_type": "code",
   "execution_count": 128,
   "metadata": {},
   "outputs": [
    {
     "data": {
      "application/vnd.jupyter.widget-view+json": {
       "model_id": "ed736dcf5d184d288ee05697485a10a3",
       "version_major": 2,
       "version_minor": 0
      },
      "text/plain": [
       "A Jupyter Widget"
      ]
     },
     "metadata": {},
     "output_type": "display_data"
    }
   ],
   "source": [
    "dilateFilter= sitk.BinaryDilateImageFilter()\n",
    "closingFilter.SetKernelRadius(6)\n",
    "Flair_mask = dilateFilter.Execute(T1_segment_int)\n",
    "myshow(Flair_mask)"
   ]
  },
  {
   "cell_type": "code",
   "execution_count": 129,
   "metadata": {},
   "outputs": [
    {
     "data": {
      "application/vnd.jupyter.widget-view+json": {
       "model_id": "894dd3e35fb3441e902d7cda55be5a04",
       "version_major": 2,
       "version_minor": 0
      },
      "text/plain": [
       "A Jupyter Widget"
      ]
     },
     "metadata": {},
     "output_type": "display_data"
    }
   ],
   "source": [
    "maskFilter = sitk.MaskImageFilter()\n",
    "Flair_image1 = maskFilter.Execute(Flair_image, Flair_mask)\n",
    "myshow(Flair_image1)"
   ]
  },
  {
   "cell_type": "code",
   "execution_count": 130,
   "metadata": {
    "scrolled": true
   },
   "outputs": [
    {
     "data": {
      "application/vnd.jupyter.widget-view+json": {
       "model_id": "57e4da1e58df4f7ba791f3e48dee0b32",
       "version_major": 2,
       "version_minor": 0
      },
      "text/plain": [
       "A Jupyter Widget"
      ]
     },
     "metadata": {},
     "output_type": "display_data"
    }
   ],
   "source": [
    "castFilter = sitk.CastImageFilter()\n",
    "castFilter.SetOutputPixelType(sitk.sitkFloat64 )\n",
    "Flair_image1 = castFilter.Execute(Flair_image1)\n",
    "myshow(Flair_image1)"
   ]
  },
  {
   "cell_type": "code",
   "execution_count": 131,
   "metadata": {
    "collapsed": true,
    "scrolled": true
   },
   "outputs": [],
   "source": [
    "#neighborFilter = sitk.NeighborhoodConnectedImageFilter()\n",
    "#neighborFilter.SetSeed((154, 170, 9)) \n",
    "#Flair_image2 = neighborFilter.Execute(Flair_image1)\n",
    "#neighborFilter.SetSeed((154, 170, 9)) \n",
    "#myshow(Flair_image2)"
   ]
  },
  {
   "cell_type": "code",
   "execution_count": 132,
   "metadata": {
    "collapsed": true
   },
   "outputs": [],
   "source": [
    "#cannyFilter = sitk.CannyEdgeDetectionImageFilter()\n",
    "#cannyFilter.SetLowerThreshold(0)\n",
    "#cannyFilter.SetUpperThreshold(500)\n",
    "#cannyFilter.SetVariance([5,5,5])\n",
    "#cannyFilter.SetMaximumError(0.1)\n",
    "#Flair_image2 = cannyFilter.Execute(Flair_image1)\n",
    "#myshow(Flair_image2)"
   ]
  },
  {
   "cell_type": "code",
   "execution_count": 133,
   "metadata": {
    "collapsed": true
   },
   "outputs": [],
   "source": [
    "#Threshold2Filter = sitk.ConfidenceConnectedImageFilter()\n",
    "#Threshold2Filter.SetInitialNeighborhoodRadius(5)\n",
    "#Threshold2Filter.SetMultiplier(2)\n",
    "#Threshold2Filter.SetNumberOfIterations(15)\n",
    "#Threshold2Filter.SetSeedList(seed_Flair)\n",
    "#Flair_image1 = Threshold2Filter.Execute(Flair_image1)\n",
    "#myshow(Flair_image1)"
   ]
  },
  {
   "cell_type": "code",
   "execution_count": 134,
   "metadata": {
    "collapsed": true
   },
   "outputs": [],
   "source": [
    "#otsu_filter = sitk.OtsuThresholdImageFilter()\n",
    "#otsu_filter.SetInsideValue(0)\n",
    "#otsu_filter.SetOutsideValue(1)\n",
    "#Flair_image2 = otsu_filter.Execute(Flair_image1,Flair_mask)\n",
    "#myshow(Flair_image2)"
   ]
  },
  {
   "cell_type": "markdown",
   "metadata": {},
   "source": [
    "## Obtain Masks"
   ]
  },
  {
   "cell_type": "code",
   "execution_count": 135,
   "metadata": {
    "collapsed": true
   },
   "outputs": [],
   "source": [
    "castFilter = sitk.CastImageFilter()\n",
    "castFilter.SetOutputPixelType(sitk.sitkInt64 )\n",
    "T1_segment = castFilter.Execute(T1_segment)\n",
    "T2_segment = castFilter.Execute(T2_segment)\n"
   ]
  },
  {
   "cell_type": "code",
   "execution_count": 136,
   "metadata": {
    "scrolled": false
   },
   "outputs": [
    {
     "data": {
      "application/vnd.jupyter.widget-view+json": {
       "model_id": "a82650900bf24ca696d02fe35dfe3397",
       "version_major": 2,
       "version_minor": 0
      },
      "text/plain": [
       "A Jupyter Widget"
      ]
     },
     "metadata": {},
     "output_type": "display_data"
    },
    {
     "data": {
      "application/vnd.jupyter.widget-view+json": {
       "model_id": "f35471170468477081859f799dd44afc",
       "version_major": 2,
       "version_minor": 0
      },
      "text/plain": [
       "A Jupyter Widget"
      ]
     },
     "metadata": {},
     "output_type": "display_data"
    },
    {
     "data": {
      "application/vnd.jupyter.widget-view+json": {
       "model_id": "67be3cc6ab5b4481a829cc1a051a5765",
       "version_major": 2,
       "version_minor": 0
      },
      "text/plain": [
       "A Jupyter Widget"
      ]
     },
     "metadata": {},
     "output_type": "display_data"
    }
   ],
   "source": [
    "\n",
    "maskFilter = sitk.MaskImageFilter()\n",
    "#threeD_tumor = maskFilter.Execute(threeD_image,threeD_segment)\n",
    "#myshow(threeD_tumor)\n",
    "T1_tumor = maskFilter.Execute(T1_image,T1_segment)\n",
    "myshow(T1_tumor)\n",
    "T2_tumor = maskFilter.Execute(T2_image,T2_segment)\n",
    "myshow(T2_tumor)\n",
    "Flair_tumor = maskFilter.Execute(Flair_image,T1_segment)\n",
    "myshow(Flair_tumor)"
   ]
  },
  {
   "cell_type": "markdown",
   "metadata": {},
   "source": [
    "## Shape Analysis "
   ]
  },
  {
   "cell_type": "code",
   "execution_count": 137,
   "metadata": {
    "collapsed": true
   },
   "outputs": [],
   "source": [
    "#binaryFilter = sitk.BinaryImageToLabelMapFilter()\n",
    "#T1_segment_label = binaryFilter.Execute(T1_segment)\n",
    "#T2_segment_label = binaryFilter.Execute(T2_segment)"
   ]
  },
  {
   "cell_type": "code",
   "execution_count": 138,
   "metadata": {},
   "outputs": [
    {
     "name": "stdout",
     "output_type": "stream",
     "text": [
      "itk::simple::LabelShapeStatisticsImageFilter\n",
      "  BackgroundValue: 0\n",
      "  ComputeFeretDiameter: 0\n",
      "  ComputePerimeter: 1\n",
      "  Labels: [ 1 ]\n",
      "  Debug: 0\n",
      "  NumberOfThreads: 4\n",
      "  Commands: (none)\n",
      "  ProgressMeasurement: 0\n",
      "  ActiveProcess:\n",
      "    LabelImageToShapeLabelMapFilter (0x7f86e4e8f5b0)\n",
      "      RTTI typeinfo:   itk::LabelImageToShapeLabelMapFilter<itk::Image<long long, 3u>, itk::LabelMap<itk::ShapeLabelObject<long long, 3u> > >\n",
      "      Reference Count: 1\n",
      "      Modified Time: 143212\n",
      "      Debug: Off\n",
      "      Object Name: \n",
      "      Observers: \n",
      "        DeleteEvent(SimpleMemberCommand)\n",
      "      Inputs: \n",
      "        Primary: (0x7f86e4fc32b0) *\n",
      "      Indexed Inputs: \n",
      "        0: Primary (0x7f86e4fc32b0)\n",
      "      Required Input Names: Primary\n",
      "      NumberOfRequiredInputs: 1\n",
      "      Outputs: \n",
      "        Primary: (0x7f86e4e5dd90)\n",
      "      Indexed Outputs: \n",
      "        0: Primary (0x7f86e4e5dd90)\n",
      "      NumberOfRequiredOutputs: 1\n",
      "      Number Of Threads: 4\n",
      "      ReleaseDataFlag: Off\n",
      "      ReleaseDataBeforeUpdateFlag: Off\n",
      "      AbortGenerateData: Off\n",
      "      Progress: 1\n",
      "      Multithreader: \n",
      "        RTTI typeinfo:   itk::MultiThreader\n",
      "        Reference Count: 1\n",
      "        Modified Time: 143201\n",
      "        Debug: Off\n",
      "        Object Name: \n",
      "        Observers: \n",
      "          none\n",
      "        Thread Count: 4\n",
      "        Global Maximum Number Of Threads: 128\n",
      "        Global Default Number Of Threads: 4\n",
      "      CoordinateTolerance: 1e-06\n",
      "      DirectionTolerance: 1e-06\n",
      "      BackgroundValue: 0\n",
      "      ComputeFeretDiameter: 0\n",
      "      ComputePerimeter: 1\n",
      "\n"
     ]
    }
   ],
   "source": [
    "shapeFilter= sitk.LabelShapeStatisticsImageFilter()\n",
    "shapeFilter.Execute(T1_segment)\n",
    "print(shapeFilter)"
   ]
  },
  {
   "cell_type": "code",
   "execution_count": 139,
   "metadata": {},
   "outputs": [
    {
     "name": "stdout",
     "output_type": "stream",
     "text": [
      "2.276297513413565\n",
      "3258.692175916154\n",
      "16.103368712973385\n",
      "0.0\n",
      "1.182978482908925\n",
      "3158\n",
      "0\n",
      "2858.3913948187505\n",
      "0.0\n",
      "0.0\n",
      "17491.973876953125\n",
      "1.1400440757773784\n"
     ]
    }
   ],
   "source": [
    "print(shapeFilter.GetElongation(1))\n",
    "print(shapeFilter.GetEquivalentSphericalPerimeter(1))\n",
    "print(shapeFilter.GetEquivalentSphericalRadius(1))\n",
    "print(shapeFilter.GetFeretDiameter (1))\n",
    "print(shapeFilter.GetFlatness(1))\n",
    "print(shapeFilter.GetNumberOfPixels(1))\n",
    "print(shapeFilter.GetNumberOfPixelsOnBorder(1))\n",
    "print(shapeFilter.GetPerimeter(1))\n",
    "print(shapeFilter.GetPerimeterOnBorder(1))\n",
    "print(shapeFilter.GetPerimeterOnBorderRatio(1))\n",
    "print(shapeFilter.GetPhysicalSize(1))\n",
    "print(shapeFilter.GetRoundness(1))"
   ]
  },
  {
   "cell_type": "code",
   "execution_count": 140,
   "metadata": {},
   "outputs": [
    {
     "name": "stdout",
     "output_type": "stream",
     "text": [
      "itk::simple::LabelShapeStatisticsImageFilter\n",
      "  BackgroundValue: 0\n",
      "  ComputeFeretDiameter: 0\n",
      "  ComputePerimeter: 1\n",
      "  Labels: [ ]\n",
      "  Debug: 0\n",
      "  NumberOfThreads: 4\n",
      "  Commands: (none)\n",
      "  ProgressMeasurement: 0\n",
      "  ActiveProcess:\n",
      "    LabelImageToShapeLabelMapFilter (0x7f86e51e12c0)\n",
      "      RTTI typeinfo:   itk::LabelImageToShapeLabelMapFilter<itk::Image<long long, 3u>, itk::LabelMap<itk::ShapeLabelObject<long long, 3u> > >\n",
      "      Reference Count: 1\n",
      "      Modified Time: 143462\n",
      "      Debug: Off\n",
      "      Object Name: \n",
      "      Observers: \n",
      "        DeleteEvent(SimpleMemberCommand)\n",
      "      Inputs: \n",
      "        Primary: (0x7f86e4fb55f0) *\n",
      "      Indexed Inputs: \n",
      "        0: Primary (0x7f86e4fb55f0)\n",
      "      Required Input Names: Primary\n",
      "      NumberOfRequiredInputs: 1\n",
      "      Outputs: \n",
      "        Primary: (0x7f86e5346d10)\n",
      "      Indexed Outputs: \n",
      "        0: Primary (0x7f86e5346d10)\n",
      "      NumberOfRequiredOutputs: 1\n",
      "      Number Of Threads: 4\n",
      "      ReleaseDataFlag: Off\n",
      "      ReleaseDataBeforeUpdateFlag: Off\n",
      "      AbortGenerateData: Off\n",
      "      Progress: 1\n",
      "      Multithreader: \n",
      "        RTTI typeinfo:   itk::MultiThreader\n",
      "        Reference Count: 1\n",
      "        Modified Time: 143451\n",
      "        Debug: Off\n",
      "        Object Name: \n",
      "        Observers: \n",
      "          none\n",
      "        Thread Count: 4\n",
      "        Global Maximum Number Of Threads: 128\n",
      "        Global Default Number Of Threads: 4\n",
      "      CoordinateTolerance: 1e-06\n",
      "      DirectionTolerance: 1e-06\n",
      "      BackgroundValue: 0\n",
      "      ComputeFeretDiameter: 0\n",
      "      ComputePerimeter: 1\n",
      "\n"
     ]
    }
   ],
   "source": [
    "shapeFilter= sitk.LabelShapeStatisticsImageFilter()\n",
    "shapeFilter.Execute(T2_segment)\n",
    "print(shapeFilter)"
   ]
  },
  {
   "cell_type": "code",
   "execution_count": 141,
   "metadata": {},
   "outputs": [
    {
     "ename": "RuntimeError",
     "evalue": "Exception thrown in SimpleITK LabelShapeStatisticsImageFilter_GetElongation: /Users/blowekamp/miniconda2/conda-bld/simpleitk_1502125589355/work/build/ITK-prefix/include/ITK-4.11/itkLabelMap.hxx:164:\nitk::ERROR: LabelMap(0x7f86e5346d10): No label object with label 1.",
     "output_type": "error",
     "traceback": [
      "\u001b[0;31m---------------------------------------------------------------------------\u001b[0m",
      "\u001b[0;31mRuntimeError\u001b[0m                              Traceback (most recent call last)",
      "\u001b[0;32m<ipython-input-141-1fcfafc953c2>\u001b[0m in \u001b[0;36m<module>\u001b[0;34m()\u001b[0m\n\u001b[0;32m----> 1\u001b[0;31m \u001b[0mprint\u001b[0m\u001b[0;34m(\u001b[0m\u001b[0mshapeFilter\u001b[0m\u001b[0;34m.\u001b[0m\u001b[0mGetElongation\u001b[0m\u001b[0;34m(\u001b[0m\u001b[0;36m1\u001b[0m\u001b[0;34m)\u001b[0m\u001b[0;34m)\u001b[0m\u001b[0;34m\u001b[0m\u001b[0m\n\u001b[0m\u001b[1;32m      2\u001b[0m \u001b[0mprint\u001b[0m\u001b[0;34m(\u001b[0m\u001b[0mshapeFilter\u001b[0m\u001b[0;34m.\u001b[0m\u001b[0mGetEquivalentSphericalPerimeter\u001b[0m\u001b[0;34m(\u001b[0m\u001b[0;36m1\u001b[0m\u001b[0;34m)\u001b[0m\u001b[0;34m)\u001b[0m\u001b[0;34m\u001b[0m\u001b[0m\n\u001b[1;32m      3\u001b[0m \u001b[0mprint\u001b[0m\u001b[0;34m(\u001b[0m\u001b[0mshapeFilter\u001b[0m\u001b[0;34m.\u001b[0m\u001b[0mGetEquivalentSphericalRadius\u001b[0m\u001b[0;34m(\u001b[0m\u001b[0;36m1\u001b[0m\u001b[0;34m)\u001b[0m\u001b[0;34m)\u001b[0m\u001b[0;34m\u001b[0m\u001b[0m\n\u001b[1;32m      4\u001b[0m \u001b[0mprint\u001b[0m\u001b[0;34m(\u001b[0m\u001b[0mshapeFilter\u001b[0m\u001b[0;34m.\u001b[0m\u001b[0mGetFeretDiameter\u001b[0m \u001b[0;34m(\u001b[0m\u001b[0;36m1\u001b[0m\u001b[0;34m)\u001b[0m\u001b[0;34m)\u001b[0m\u001b[0;34m\u001b[0m\u001b[0m\n\u001b[1;32m      5\u001b[0m \u001b[0mprint\u001b[0m\u001b[0;34m(\u001b[0m\u001b[0mshapeFilter\u001b[0m\u001b[0;34m.\u001b[0m\u001b[0mGetFlatness\u001b[0m\u001b[0;34m(\u001b[0m\u001b[0;36m1\u001b[0m\u001b[0;34m)\u001b[0m\u001b[0;34m)\u001b[0m\u001b[0;34m\u001b[0m\u001b[0m\n",
      "\u001b[0;32m/anaconda3/lib/python3.6/site-packages/SimpleITK/SimpleITK.py\u001b[0m in \u001b[0;36mGetElongation\u001b[0;34m(self, label)\u001b[0m\n\u001b[1;32m  42180\u001b[0m \u001b[0;34m\u001b[0m\u001b[0m\n\u001b[1;32m  42181\u001b[0m         \"\"\"\n\u001b[0;32m> 42182\u001b[0;31m         \u001b[0;32mreturn\u001b[0m \u001b[0m_SimpleITK\u001b[0m\u001b[0;34m.\u001b[0m\u001b[0mLabelShapeStatisticsImageFilter_GetElongation\u001b[0m\u001b[0;34m(\u001b[0m\u001b[0mself\u001b[0m\u001b[0;34m,\u001b[0m \u001b[0mlabel\u001b[0m\u001b[0;34m)\u001b[0m\u001b[0;34m\u001b[0m\u001b[0m\n\u001b[0m\u001b[1;32m  42183\u001b[0m \u001b[0;34m\u001b[0m\u001b[0m\n\u001b[1;32m  42184\u001b[0m \u001b[0;34m\u001b[0m\u001b[0m\n",
      "\u001b[0;31mRuntimeError\u001b[0m: Exception thrown in SimpleITK LabelShapeStatisticsImageFilter_GetElongation: /Users/blowekamp/miniconda2/conda-bld/simpleitk_1502125589355/work/build/ITK-prefix/include/ITK-4.11/itkLabelMap.hxx:164:\nitk::ERROR: LabelMap(0x7f86e5346d10): No label object with label 1."
     ]
    }
   ],
   "source": [
    "print(shapeFilter.GetElongation(1))\n",
    "print(shapeFilter.GetEquivalentSphericalPerimeter(1))\n",
    "print(shapeFilter.GetEquivalentSphericalRadius(1))\n",
    "print(shapeFilter.GetFeretDiameter (1))\n",
    "print(shapeFilter.GetFlatness(1))\n",
    "print(shapeFilter.GetNumberOfPixels(1))\n",
    "print(shapeFilter.GetNumberOfPixelsOnBorder(1))\n",
    "print(shapeFilter.GetPerimeter(1))\n",
    "print(shapeFilter.GetPerimeterOnBorder(1))\n",
    "print(shapeFilter.GetPerimeterOnBorderRatio(1))\n",
    "print(shapeFilter.GetPhysicalSize(1))\n",
    "print(shapeFilter.GetRoundness(1))"
   ]
  },
  {
   "cell_type": "markdown",
   "metadata": {},
   "source": [
    "## Intensity Analysis "
   ]
  },
  {
   "cell_type": "code",
   "execution_count": 142,
   "metadata": {},
   "outputs": [
    {
     "name": "stdout",
     "output_type": "stream",
     "text": [
      "itk::simple::LabelIntensityStatisticsImageFilter\n",
      "  BackgroundValue: 0\n",
      "  ComputeFeretDiameter: 0\n",
      "  ComputePerimeter: 1\n",
      "  NumberOfBins: 128\n",
      "  Labels: [ 1 ]\n",
      "  Debug: 0\n",
      "  NumberOfThreads: 4\n",
      "  Commands: (none)\n",
      "  ProgressMeasurement: 0\n",
      "  ActiveProcess:\n",
      "    LabelImageToStatisticsLabelMapFilter (0x7f86e53213e0)\n",
      "      RTTI typeinfo:   itk::LabelImageToStatisticsLabelMapFilter<itk::Image<long long, 3u>, itk::Image<double, 3u>, itk::LabelMap<itk::StatisticsLabelObject<long long, 3u> > >\n",
      "      Reference Count: 1\n",
      "      Modified Time: 143538\n",
      "      Debug: Off\n",
      "      Object Name: \n",
      "      Observers: \n",
      "        DeleteEvent(SimpleMemberCommand)\n",
      "      Inputs: \n",
      "        Primary: (0x7f86e4fc32b0) *\n",
      "        _1: (0x7f86e51aebf0)\n",
      "      Indexed Inputs: \n",
      "        0: Primary (0x7f86e4fc32b0)\n",
      "        1: _1 (0x7f86e51aebf0)\n",
      "      Required Input Names: Primary\n",
      "      NumberOfRequiredInputs: 2\n",
      "      Outputs: \n",
      "        Primary: (0x7f86e5321a00)\n",
      "      Indexed Outputs: \n",
      "        0: Primary (0x7f86e5321a00)\n",
      "      NumberOfRequiredOutputs: 1\n",
      "      Number Of Threads: 4\n",
      "      ReleaseDataFlag: Off\n",
      "      ReleaseDataBeforeUpdateFlag: Off\n",
      "      AbortGenerateData: Off\n",
      "      Progress: 1\n",
      "      Multithreader: \n",
      "        RTTI typeinfo:   itk::MultiThreader\n",
      "        Reference Count: 1\n",
      "        Modified Time: 143524\n",
      "        Debug: Off\n",
      "        Object Name: \n",
      "        Observers: \n",
      "          none\n",
      "        Thread Count: 4\n",
      "        Global Maximum Number Of Threads: 128\n",
      "        Global Default Number Of Threads: 4\n",
      "      CoordinateTolerance: 1e-06\n",
      "      DirectionTolerance: 1e-06\n",
      "      BackgroundValue: 0\n",
      "      ComputeFeretDiameter: 0\n",
      "      ComputePerimeter: 1\n",
      "      ComputeHistogram: 1\n",
      "      NumberOfBins: 128\n",
      "\n"
     ]
    }
   ],
   "source": [
    "intensityFilter = sitk.LabelIntensityStatisticsImageFilter()\n",
    "intensityFilter.Execute(T1_segment,T1_image)\n",
    "print(intensityFilter)"
   ]
  },
  {
   "cell_type": "code",
   "execution_count": 143,
   "metadata": {},
   "outputs": [
    {
     "name": "stdout",
     "output_type": "stream",
     "text": [
      "0.0\n",
      "2.276297513413565\n",
      "3258.692175916154\n",
      "16.103368712973385\n",
      "0.0\n",
      "1.182978482908925\n",
      "-0.2648287181317177\n",
      "1124.0\n",
      "624.0842305256491\n",
      "602.265625\n",
      "293.0\n",
      "3158\n",
      "0\n",
      "2858.3913948187505\n",
      "0.0\n",
      "0.0\n",
      "17491.973876953125\n",
      "1.1400440757773784\n",
      "0.5464769867932613\n",
      "136.95839292297168\n",
      "1970858.0\n",
      "18757.6013920431\n",
      "2.153248243039011\n",
      "1.2050003897000687\n"
     ]
    }
   ],
   "source": [
    "print(intensityFilter.GetBackgroundValue())\n",
    "print(intensityFilter.GetElongation(1))\n",
    "#print(intensityFilter.GetEquivalentEllipsoidDiameter(1))\n",
    "print(intensityFilter.GetEquivalentSphericalPerimeter(1))\n",
    "print(intensityFilter.GetEquivalentSphericalRadius(1))\n",
    "print(intensityFilter.GetFeretDiameter(1))\n",
    "print(intensityFilter.GetFlatness(1))\n",
    "print(intensityFilter.GetKurtosis(1))\n",
    "print(intensityFilter.GetMaximum(1))\n",
    "print(intensityFilter.GetMean(1))\n",
    "print(intensityFilter.GetMedian(1))\n",
    "print(intensityFilter.GetMinimum(1))\n",
    "print(intensityFilter.GetNumberOfPixels(1))\n",
    "print(intensityFilter.GetNumberOfPixelsOnBorder(1))\n",
    "print(intensityFilter.GetPerimeter(1))\n",
    "print(intensityFilter.GetPerimeterOnBorder(1))\n",
    "print(intensityFilter.GetPerimeterOnBorderRatio(1))\n",
    "print(intensityFilter.GetPhysicalSize(1))\n",
    "print(intensityFilter.GetRoundness(1) )\n",
    "print(intensityFilter.GetSkewness(1))\n",
    "print(intensityFilter.GetStandardDeviation(1))\n",
    "print(intensityFilter.GetSum(1))\n",
    "print(intensityFilter.GetVariance(1))\n",
    "print(intensityFilter.GetWeightedElongation(1))\n",
    "print(intensityFilter.GetWeightedFlatness(1))\n"
   ]
  },
  {
   "cell_type": "code",
   "execution_count": 144,
   "metadata": {},
   "outputs": [
    {
     "name": "stdout",
     "output_type": "stream",
     "text": [
      "itk::simple::LabelIntensityStatisticsImageFilter\n",
      "  BackgroundValue: 0\n",
      "  ComputeFeretDiameter: 0\n",
      "  ComputePerimeter: 1\n",
      "  NumberOfBins: 128\n",
      "  Labels: [ ]\n",
      "  Debug: 0\n",
      "  NumberOfThreads: 4\n",
      "  Commands: (none)\n",
      "  ProgressMeasurement: 0\n",
      "  ActiveProcess:\n",
      "    LabelImageToStatisticsLabelMapFilter (0x7f86e4e88790)\n",
      "      RTTI typeinfo:   itk::LabelImageToStatisticsLabelMapFilter<itk::Image<long long, 3u>, itk::Image<double, 3u>, itk::LabelMap<itk::StatisticsLabelObject<long long, 3u> > >\n",
      "      Reference Count: 1\n",
      "      Modified Time: 143803\n",
      "      Debug: Off\n",
      "      Object Name: \n",
      "      Observers: \n",
      "        DeleteEvent(SimpleMemberCommand)\n",
      "      Inputs: \n",
      "        Primary: (0x7f86e4fb55f0) *\n",
      "        _1: (0x7f86e526c770)\n",
      "      Indexed Inputs: \n",
      "        0: Primary (0x7f86e4fb55f0)\n",
      "        1: _1 (0x7f86e526c770)\n",
      "      Required Input Names: Primary\n",
      "      NumberOfRequiredInputs: 2\n",
      "      Outputs: \n",
      "        Primary: (0x7f86e4e71bf0)\n",
      "      Indexed Outputs: \n",
      "        0: Primary (0x7f86e4e71bf0)\n",
      "      NumberOfRequiredOutputs: 1\n",
      "      Number Of Threads: 4\n",
      "      ReleaseDataFlag: Off\n",
      "      ReleaseDataBeforeUpdateFlag: Off\n",
      "      AbortGenerateData: Off\n",
      "      Progress: 1\n",
      "      Multithreader: \n",
      "        RTTI typeinfo:   itk::MultiThreader\n",
      "        Reference Count: 1\n",
      "        Modified Time: 143789\n",
      "        Debug: Off\n",
      "        Object Name: \n",
      "        Observers: \n",
      "          none\n",
      "        Thread Count: 4\n",
      "        Global Maximum Number Of Threads: 128\n",
      "        Global Default Number Of Threads: 4\n",
      "      CoordinateTolerance: 1e-06\n",
      "      DirectionTolerance: 1e-06\n",
      "      BackgroundValue: 0\n",
      "      ComputeFeretDiameter: 0\n",
      "      ComputePerimeter: 1\n",
      "      ComputeHistogram: 1\n",
      "      NumberOfBins: 128\n",
      "\n"
     ]
    }
   ],
   "source": [
    "#LabelIntensityStatisticsImageFilter \n",
    "intensityFilter = sitk.LabelIntensityStatisticsImageFilter()\n",
    "intensityFilter.Execute(T2_segment,T2_image)\n",
    "print(intensityFilter)"
   ]
  },
  {
   "cell_type": "code",
   "execution_count": 146,
   "metadata": {
    "scrolled": true
   },
   "outputs": [
    {
     "name": "stdout",
     "output_type": "stream",
     "text": [
      "0.0\n"
     ]
    },
    {
     "ename": "RuntimeError",
     "evalue": "Exception thrown in SimpleITK LabelIntensityStatisticsImageFilter_GetElongation: /Users/blowekamp/miniconda2/conda-bld/simpleitk_1502125589355/work/build/ITK-prefix/include/ITK-4.11/itkLabelMap.hxx:164:\nitk::ERROR: LabelMap(0x7f86e4e71bf0): No label object with label 1.",
     "output_type": "error",
     "traceback": [
      "\u001b[0;31m---------------------------------------------------------------------------\u001b[0m",
      "\u001b[0;31mRuntimeError\u001b[0m                              Traceback (most recent call last)",
      "\u001b[0;32m<ipython-input-146-5a0e09480768>\u001b[0m in \u001b[0;36m<module>\u001b[0;34m()\u001b[0m\n\u001b[1;32m      1\u001b[0m \u001b[0mprint\u001b[0m\u001b[0;34m(\u001b[0m\u001b[0mintensityFilter\u001b[0m\u001b[0;34m.\u001b[0m\u001b[0mGetBackgroundValue\u001b[0m\u001b[0;34m(\u001b[0m\u001b[0;34m)\u001b[0m\u001b[0;34m)\u001b[0m\u001b[0;34m\u001b[0m\u001b[0m\n\u001b[0;32m----> 2\u001b[0;31m \u001b[0mprint\u001b[0m\u001b[0;34m(\u001b[0m\u001b[0mintensityFilter\u001b[0m\u001b[0;34m.\u001b[0m\u001b[0mGetElongation\u001b[0m\u001b[0;34m(\u001b[0m\u001b[0;36m1\u001b[0m\u001b[0;34m)\u001b[0m\u001b[0;34m)\u001b[0m\u001b[0;34m\u001b[0m\u001b[0m\n\u001b[0m\u001b[1;32m      3\u001b[0m \u001b[0;31m#print(intensityFilter.GetEquivalentEllipsoidDiameter(1))\u001b[0m\u001b[0;34m\u001b[0m\u001b[0;34m\u001b[0m\u001b[0m\n\u001b[1;32m      4\u001b[0m \u001b[0mprint\u001b[0m\u001b[0;34m(\u001b[0m\u001b[0mintensityFilter\u001b[0m\u001b[0;34m.\u001b[0m\u001b[0mGetEquivalentSphericalPerimeter\u001b[0m\u001b[0;34m(\u001b[0m\u001b[0;36m1\u001b[0m\u001b[0;34m)\u001b[0m\u001b[0;34m)\u001b[0m\u001b[0;34m\u001b[0m\u001b[0m\n\u001b[1;32m      5\u001b[0m \u001b[0mprint\u001b[0m\u001b[0;34m(\u001b[0m\u001b[0mintensityFilter\u001b[0m\u001b[0;34m.\u001b[0m\u001b[0mGetEquivalentSphericalRadius\u001b[0m\u001b[0;34m(\u001b[0m\u001b[0;36m1\u001b[0m\u001b[0;34m)\u001b[0m\u001b[0;34m)\u001b[0m\u001b[0;34m\u001b[0m\u001b[0m\n",
      "\u001b[0;32m/anaconda3/lib/python3.6/site-packages/SimpleITK/SimpleITK.py\u001b[0m in \u001b[0;36mGetElongation\u001b[0;34m(self, label)\u001b[0m\n\u001b[1;32m  39755\u001b[0m \u001b[0;34m\u001b[0m\u001b[0m\n\u001b[1;32m  39756\u001b[0m         \"\"\"\n\u001b[0;32m> 39757\u001b[0;31m         \u001b[0;32mreturn\u001b[0m \u001b[0m_SimpleITK\u001b[0m\u001b[0;34m.\u001b[0m\u001b[0mLabelIntensityStatisticsImageFilter_GetElongation\u001b[0m\u001b[0;34m(\u001b[0m\u001b[0mself\u001b[0m\u001b[0;34m,\u001b[0m \u001b[0mlabel\u001b[0m\u001b[0;34m)\u001b[0m\u001b[0;34m\u001b[0m\u001b[0m\n\u001b[0m\u001b[1;32m  39758\u001b[0m \u001b[0;34m\u001b[0m\u001b[0m\n\u001b[1;32m  39759\u001b[0m \u001b[0;34m\u001b[0m\u001b[0m\n",
      "\u001b[0;31mRuntimeError\u001b[0m: Exception thrown in SimpleITK LabelIntensityStatisticsImageFilter_GetElongation: /Users/blowekamp/miniconda2/conda-bld/simpleitk_1502125589355/work/build/ITK-prefix/include/ITK-4.11/itkLabelMap.hxx:164:\nitk::ERROR: LabelMap(0x7f86e4e71bf0): No label object with label 1."
     ]
    }
   ],
   "source": [
    "print(intensityFilter.GetBackgroundValue())\n",
    "print(intensityFilter.GetElongation(1))\n",
    "#print(intensityFilter.GetEquivalentEllipsoidDiameter(1))\n",
    "print(intensityFilter.GetEquivalentSphericalPerimeter(1))\n",
    "print(intensityFilter.GetEquivalentSphericalRadius(1))\n",
    "print(intensityFilter.GetFeretDiameter(1))\n",
    "print(intensityFilter.GetFlatness(1))\n",
    "print(intensityFilter.GetKurtosis(1))\n",
    "print(intensityFilter.GetMaximum(1))\n",
    "print(intensityFilter.GetMean(1))\n",
    "print(intensityFilter.GetMedian(1))\n",
    "print(intensityFilter.GetMinimum(1))\n",
    "print(intensityFilter.GetNumberOfPixels(1))\n",
    "print(intensityFilter.GetNumberOfPixelsOnBorder(1))\n",
    "print(intensityFilter.GetPerimeter(1))\n",
    "print(intensityFilter.GetPerimeterOnBorder(1))\n",
    "print(intensityFilter.GetPerimeterOnBorderRatio(1))\n",
    "print(intensityFilter.GetPhysicalSize(1))\n",
    "print(intensityFilter.GetRoundness(1) )\n",
    "print(intensityFilter.GetSkewness(1))\n",
    "print(intensityFilter.GetStandardDeviation(1))\n",
    "print(intensityFilter.GetSum(1))\n",
    "print(intensityFilter.GetVariance(1))\n",
    "print(intensityFilter.GetWeightedElongation(1))\n",
    "print(intensityFilter.GetWeightedFlatness(1))\n"
   ]
  },
  {
   "cell_type": "code",
   "execution_count": 147,
   "metadata": {},
   "outputs": [
    {
     "name": "stdout",
     "output_type": "stream",
     "text": [
      "itk::simple::LabelIntensityStatisticsImageFilter\n",
      "  BackgroundValue: 0\n",
      "  ComputeFeretDiameter: 0\n",
      "  ComputePerimeter: 1\n",
      "  NumberOfBins: 128\n",
      "  Labels: [ 1 ]\n",
      "  Debug: 0\n",
      "  NumberOfThreads: 4\n",
      "  Commands: (none)\n",
      "  ProgressMeasurement: 0\n",
      "  ActiveProcess:\n",
      "    LabelImageToStatisticsLabelMapFilter (0x7f86e4fd24e0)\n",
      "      RTTI typeinfo:   itk::LabelImageToStatisticsLabelMapFilter<itk::Image<long long, 3u>, itk::Image<double, 3u>, itk::LabelMap<itk::StatisticsLabelObject<long long, 3u> > >\n",
      "      Reference Count: 1\n",
      "      Modified Time: 143885\n",
      "      Debug: Off\n",
      "      Object Name: \n",
      "      Observers: \n",
      "        DeleteEvent(SimpleMemberCommand)\n",
      "      Inputs: \n",
      "        Primary: (0x7f86e4fc32b0) *\n",
      "        _1: (0x7f86e4e9e4d0)\n",
      "      Indexed Inputs: \n",
      "        0: Primary (0x7f86e4fc32b0)\n",
      "        1: _1 (0x7f86e4e9e4d0)\n",
      "      Required Input Names: Primary\n",
      "      NumberOfRequiredInputs: 2\n",
      "      Outputs: \n",
      "        Primary: (0x7f86e4fa0a30)\n",
      "      Indexed Outputs: \n",
      "        0: Primary (0x7f86e4fa0a30)\n",
      "      NumberOfRequiredOutputs: 1\n",
      "      Number Of Threads: 4\n",
      "      ReleaseDataFlag: Off\n",
      "      ReleaseDataBeforeUpdateFlag: Off\n",
      "      AbortGenerateData: Off\n",
      "      Progress: 1\n",
      "      Multithreader: \n",
      "        RTTI typeinfo:   itk::MultiThreader\n",
      "        Reference Count: 1\n",
      "        Modified Time: 143871\n",
      "        Debug: Off\n",
      "        Object Name: \n",
      "        Observers: \n",
      "          none\n",
      "        Thread Count: 4\n",
      "        Global Maximum Number Of Threads: 128\n",
      "        Global Default Number Of Threads: 4\n",
      "      CoordinateTolerance: 1e-06\n",
      "      DirectionTolerance: 1e-06\n",
      "      BackgroundValue: 0\n",
      "      ComputeFeretDiameter: 0\n",
      "      ComputePerimeter: 1\n",
      "      ComputeHistogram: 1\n",
      "      NumberOfBins: 128\n",
      "\n"
     ]
    }
   ],
   "source": [
    "intensityFilter = sitk.LabelIntensityStatisticsImageFilter()\n",
    "intensityFilter.Execute(T1_segment,Flair_tumor)\n",
    "print(intensityFilter)"
   ]
  },
  {
   "cell_type": "code",
   "execution_count": 148,
   "metadata": {},
   "outputs": [
    {
     "name": "stdout",
     "output_type": "stream",
     "text": [
      "0.0\n",
      "2.276297513413565\n",
      "3258.692175916154\n",
      "16.103368712973385\n",
      "0.0\n",
      "1.182978482908925\n",
      "-0.4126749125968119\n",
      "972.3692651350792\n",
      "664.835044396654\n",
      "679.8988342285156\n",
      "239.8900407155063\n",
      "3158\n",
      "0\n",
      "2858.3913948187505\n",
      "0.0\n",
      "0.0\n",
      "17491.973876953125\n",
      "1.1400440757773784\n",
      "-0.3857930368510387\n",
      "141.58870167744246\n",
      "2099549.0702046333\n",
      "20047.360442703797\n",
      "2.0935784242222426\n",
      "1.1860832563649064\n"
     ]
    }
   ],
   "source": [
    "print(intensityFilter.GetBackgroundValue())\n",
    "print(intensityFilter.GetElongation(1))\n",
    "#print(intensityFilter.GetEquivalentEllipsoidDiameter(1))\n",
    "print(intensityFilter.GetEquivalentSphericalPerimeter(1))\n",
    "print(intensityFilter.GetEquivalentSphericalRadius(1))\n",
    "print(intensityFilter.GetFeretDiameter(1))\n",
    "print(intensityFilter.GetFlatness(1))\n",
    "print(intensityFilter.GetKurtosis(1))\n",
    "print(intensityFilter.GetMaximum(1))\n",
    "print(intensityFilter.GetMean(1))\n",
    "print(intensityFilter.GetMedian(1))\n",
    "print(intensityFilter.GetMinimum(1))\n",
    "print(intensityFilter.GetNumberOfPixels(1))\n",
    "print(intensityFilter.GetNumberOfPixelsOnBorder(1))\n",
    "print(intensityFilter.GetPerimeter(1))\n",
    "print(intensityFilter.GetPerimeterOnBorder(1))\n",
    "print(intensityFilter.GetPerimeterOnBorderRatio(1))\n",
    "print(intensityFilter.GetPhysicalSize(1))\n",
    "print(intensityFilter.GetRoundness(1) )\n",
    "print(intensityFilter.GetSkewness(1))\n",
    "print(intensityFilter.GetStandardDeviation(1))\n",
    "print(intensityFilter.GetSum(1))\n",
    "print(intensityFilter.GetVariance(1))\n",
    "print(intensityFilter.GetWeightedElongation(1))\n",
    "print(intensityFilter.GetWeightedFlatness(1))"
   ]
  },
  {
   "cell_type": "markdown",
   "metadata": {},
   "source": [
    "## Texture Analysis "
   ]
  },
  {
   "cell_type": "code",
   "execution_count": null,
   "metadata": {
    "collapsed": true,
    "scrolled": true
   },
   "outputs": [],
   "source": [
    "#Issues encountered for texture analysis in python \n",
    "print(threeD_image.GetPixelIDTypeAsString() )\n",
    "print(T1_image.GetPixelIDTypeAsString() )\n",
    "print(T2_image.GetPixelIDTypeAsString() )\n",
    "print(Flair_image.GetPixelIDTypeAsString() )\n",
    "print(threeD_image.GetSize())\n",
    "print(T1_image.GetSize())\n",
    "print(T2_image.GetSize())\n",
    "print(Flair_image.GetSize())"
   ]
  },
  {
   "cell_type": "code",
   "execution_count": null,
   "metadata": {
    "collapsed": true
   },
   "outputs": [],
   "source": [
    "#InputType = type(T2_image)\n",
    "#castFilter = itk.CastImageFilter[InputType, itk.Image.SS2].New()\n",
    "##castFilter.SetOutputPixelType(itk.Image.SS2)\n",
    "#castFilter.SetInput(T2_image)\n",
    "\n",
    "#T1_segment1 = castFilter.Execute(T1_segment)\n",
    "#T2_segment1 = castFilter.Execute(T2_segment)"
   ]
  },
  {
   "cell_type": "code",
   "execution_count": null,
   "metadata": {
    "collapsed": true,
    "scrolled": false
   },
   "outputs": [],
   "source": [
    "#InputImageType  = itk.Image.SS2 \n",
    "#reader = itk.ImageFileReader[InputImageType].New()  \n",
    "#print(reader.GetOutput())\n",
    "#textureFilter = itk.ScalarImageToTextureFeaturesFilter.New()\n",
    "#textureFilter.SetInput() \n",
    "#print(textureFilter)\n",
    "#textureFilter.SetMaskImage(T1_segment_label) \n",
    "#textureFilter.SetInput(T2_segment) \n",
    "#textureFilter.SetMaskImage(T1_segment_label) \n"
   ]
  }
 ],
 "metadata": {
  "kernelspec": {
   "display_name": "Python 3",
   "language": "python",
   "name": "python3"
  },
  "language_info": {
   "codemirror_mode": {
    "name": "ipython",
    "version": 3
   },
   "file_extension": ".py",
   "mimetype": "text/x-python",
   "name": "python",
   "nbconvert_exporter": "python",
   "pygments_lexer": "ipython3",
   "version": "3.6.3"
  }
 },
 "nbformat": 4,
 "nbformat_minor": 2
}
