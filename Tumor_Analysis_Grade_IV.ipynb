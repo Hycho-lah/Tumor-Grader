{
 "cells": [
  {
   "cell_type": "code",
   "execution_count": 10,
   "metadata": {
    "collapsed": true
   },
   "outputs": [],
   "source": [
    "import SimpleITK as sitk\n",
    "\n",
    "import itk\n",
    "import guiPoint\n",
    "\n",
    "%matplotlib inline\n",
    "import matplotlib.pyplot as plt\n",
    "\n",
    "import numpy as np\n",
    "from scipy import linalg\n",
    "\n",
    "from ipywidgets import interact, fixed\n",
    "from __future__ import print_function\n",
    "\n",
    "import sys\n",
    "from myshow import myshow, myshow3d\n",
    "\n",
    "import numpy as np\n",
    "from scipy import linalg\n",
    "from importlib import reload\n",
    "\n",
    "from ipywidgets import interact, fixed\n",
    "from IPython.display import clear_output"
   ]
  },
  {
   "cell_type": "markdown",
   "metadata": {},
   "source": [
    "Please enter name of images to import."
   ]
  },
  {
   "cell_type": "code",
   "execution_count": 11,
   "metadata": {
    "scrolled": true
   },
   "outputs": [],
   "source": [
    "threeD_image = sitk.ReadImage(\"5342_3D_8_51519.mha\")\n",
    "#threeD_image_r = sitk.ReadImage(\"5342_3D_8_51519_resampled.mha\")\n",
    "T1_image = sitk.ReadImage(\"5342_T1_9_68083.mha\")\n",
    "T2_image = sitk.ReadImage(\"5342_T2_5_16889_resampled.mha\")\n",
    "Flair_image = sitk.ReadImage(\"5342_Flair_4_19844_resampled.mha\")"
   ]
  },
  {
   "cell_type": "code",
   "execution_count": 12,
   "metadata": {},
   "outputs": [
    {
     "name": "stdout",
     "output_type": "stream",
     "text": [
      "16-bit signed integer\n",
      "16-bit signed integer\n",
      "64-bit float\n",
      "64-bit float\n",
      "(512, 512, 60)\n",
      "(256, 256, 20)\n",
      "(256, 256, 20)\n",
      "(256, 256, 20)\n"
     ]
    }
   ],
   "source": [
    "print(threeD_image.GetPixelIDTypeAsString() )\n",
    "print(T1_image.GetPixelIDTypeAsString() )\n",
    "print(T2_image.GetPixelIDTypeAsString() )\n",
    "print(Flair_image.GetPixelIDTypeAsString() )\n",
    "print(threeD_image.GetSize())\n",
    "print(T1_image.GetSize())\n",
    "print(T2_image.GetSize())\n",
    "print(Flair_image.GetSize())"
   ]
  },
  {
   "cell_type": "markdown",
   "metadata": {},
   "source": [
    "Convert all images from int to float for convenience. "
   ]
  },
  {
   "cell_type": "code",
   "execution_count": 13,
   "metadata": {
    "collapsed": true
   },
   "outputs": [],
   "source": [
    "castFilter = sitk.CastImageFilter()\n",
    "castFilter.SetOutputPixelType(sitk.sitkFloat64 )\n",
    "threeD_image = castFilter.Execute(threeD_image)\n",
    "T1_image = castFilter.Execute(T1_image)\n",
    "T2_image = castFilter.Execute(T2_image)\n",
    "Flair_image = castFilter.Execute(Flair_image)"
   ]
  },
  {
   "cell_type": "markdown",
   "metadata": {},
   "source": [
    "## Seed definition"
   ]
  },
  {
   "cell_type": "markdown",
   "metadata": {},
   "source": [
    "Please define seeds in the cell below based on output in seed_selection.ipynb"
   ]
  },
  {
   "cell_type": "code",
   "execution_count": 75,
   "metadata": {
    "collapsed": true,
    "scrolled": true
   },
   "outputs": [],
   "source": [
    "seed_3D = [(319,315,23)]\n",
    "seeds = [(325, 314, 29), (345, 275, 22), (305, 350, 22)]\n",
    "seed_T1 = [(171, 152, 8)]\n",
    "seed_T2 = [(165,135,9)]\n",
    "seed_Flair = [(154, 170, 9)]\n",
    "seed_ventricles = [(144,157,11),(116,146,12),(239,83,13)]"
   ]
  },
  {
   "cell_type": "markdown",
   "metadata": {},
   "source": [
    "## Visualization"
   ]
  },
  {
   "cell_type": "code",
   "execution_count": 15,
   "metadata": {
    "scrolled": false
   },
   "outputs": [
    {
     "data": {
      "application/vnd.jupyter.widget-view+json": {
       "model_id": "297b4e754e5045678a4d5379fad3a2d9",
       "version_major": 2,
       "version_minor": 0
      },
      "text/plain": [
       "A Jupyter Widget"
      ]
     },
     "metadata": {},
     "output_type": "display_data"
    },
    {
     "data": {
      "application/vnd.jupyter.widget-view+json": {
       "model_id": "c77b8af57853479c928fa20eefd67c3f",
       "version_major": 2,
       "version_minor": 0
      },
      "text/plain": [
       "A Jupyter Widget"
      ]
     },
     "metadata": {},
     "output_type": "display_data"
    },
    {
     "data": {
      "application/vnd.jupyter.widget-view+json": {
       "model_id": "b04849062e1a4cc8af6bda39f74719e7",
       "version_major": 2,
       "version_minor": 0
      },
      "text/plain": [
       "A Jupyter Widget"
      ]
     },
     "metadata": {},
     "output_type": "display_data"
    },
    {
     "data": {
      "application/vnd.jupyter.widget-view+json": {
       "model_id": "acc322e48fe54cf8bd06e8bcf2a8b288",
       "version_major": 2,
       "version_minor": 0
      },
      "text/plain": [
       "A Jupyter Widget"
      ]
     },
     "metadata": {},
     "output_type": "display_data"
    }
   ],
   "source": [
    "myshow(T1_image)\n",
    "myshow(T2_image)\n",
    "myshow(Flair_image)\n",
    "myshow3d(threeD_image)"
   ]
  },
  {
   "cell_type": "markdown",
   "metadata": {},
   "source": [
    "## Registration"
   ]
  },
  {
   "cell_type": "markdown",
   "metadata": {},
   "source": [
    "Note: function below taken from simpleITK notebook sample \"60_Registration_Introduction.ipynb\""
   ]
  },
  {
   "cell_type": "code",
   "execution_count": 16,
   "metadata": {
    "collapsed": true
   },
   "outputs": [],
   "source": [
    "# Callback invoked by the interact IPython method for scrolling through the image stacks of\n",
    "# the two images (moving and fixed).\n",
    "def display_images(fixed_image_z, moving_image_z, fixed_npa, moving_npa):\n",
    "    # Create a figure with two subplots and the specified size.\n",
    "    plt.subplots(1,2,figsize=(10,8))\n",
    "    \n",
    "    # Draw the fixed image in the first subplot.\n",
    "    plt.subplot(1,2,1)\n",
    "    plt.imshow(fixed_npa[fixed_image_z,:,:],cmap=plt.cm.Greys_r);\n",
    "    plt.title('fixed image')\n",
    "    plt.axis('off')\n",
    "    \n",
    "    # Draw the moving image in the second subplot.\n",
    "    plt.subplot(1,2,2)\n",
    "    plt.imshow(moving_npa[moving_image_z,:,:],cmap=plt.cm.Greys_r);\n",
    "    plt.title('moving image')\n",
    "    plt.axis('off')\n",
    "    \n",
    "    plt.show()\n",
    "\n",
    "# Callback invoked by the IPython interact method for scrolling and modifying the alpha blending\n",
    "# of an image stack of two images that occupy the same physical space. \n",
    "def display_images_with_alpha(image_z, alpha, fixed, moving):\n",
    "    img = (1.0 - alpha)*fixed[:,:,image_z] + alpha*moving[:,:,image_z] \n",
    "    plt.imshow(sitk.GetArrayViewFromImage(img),cmap=plt.cm.Greys_r);\n",
    "    plt.axis('off')\n",
    "    plt.show()\n",
    "    \n",
    "# Callback invoked when the StartEvent happens, sets up our new data.\n",
    "def start_plot():\n",
    "    global metric_values, multires_iterations\n",
    "    \n",
    "    metric_values = []\n",
    "    multires_iterations = []\n",
    "\n",
    "# Callback invoked when the EndEvent happens, do cleanup of data and figure.\n",
    "def end_plot():\n",
    "    global metric_values, multires_iterations\n",
    "    \n",
    "    del metric_values\n",
    "    del multires_iterations\n",
    "    # Close figure, we don't want to get a duplicate of the plot latter on.\n",
    "    plt.close()\n",
    "\n",
    "# Callback invoked when the IterationEvent happens, update our data and display new figure.    \n",
    "def plot_values(registration_method):\n",
    "    global metric_values, multires_iterations\n",
    "    \n",
    "    metric_values.append(registration_method.GetMetricValue())                                       \n",
    "    # Clear the output area (wait=True, to reduce flickering), and plot current data\n",
    "    clear_output(wait=True)\n",
    "    # Plot the similarity metric values\n",
    "    plt.plot(metric_values, 'r')\n",
    "    plt.plot(multires_iterations, [metric_values[index] for index in multires_iterations], 'b*')\n",
    "    plt.xlabel('Iteration Number',fontsize=12)\n",
    "    plt.ylabel('Metric Value',fontsize=12)\n",
    "    plt.show()\n",
    "    \n",
    "# Callback invoked when the sitkMultiResolutionIterationEvent happens, update the index into the \n",
    "# metric_values list. \n",
    "def update_multires_iterations():\n",
    "    global metric_values, multires_iterations\n",
    "    multires_iterations.append(len(metric_values))        "
   ]
  },
  {
   "cell_type": "markdown",
   "metadata": {},
   "source": [
    "Registration for threeD_image to move to T1_image"
   ]
  },
  {
   "cell_type": "code",
   "execution_count": 17,
   "metadata": {
    "scrolled": true
   },
   "outputs": [
    {
     "data": {
      "application/vnd.jupyter.widget-view+json": {
       "model_id": "6cf8110c75df440dbf0d600b6db8296d",
       "version_major": 2,
       "version_minor": 0
      },
      "text/plain": [
       "A Jupyter Widget"
      ]
     },
     "metadata": {},
     "output_type": "display_data"
    }
   ],
   "source": [
    "fixed_image =  T1_image\n",
    "moving_image = threeD_image\n",
    "\n",
    "interact(display_images, fixed_image_z=(0,fixed_image.GetSize()[2]-1), moving_image_z=(0,moving_image.GetSize()[2]-1), fixed_npa = fixed(sitk.GetArrayViewFromImage(fixed_image)), moving_npa=fixed(sitk.GetArrayViewFromImage(moving_image)));"
   ]
  },
  {
   "cell_type": "code",
   "execution_count": 18,
   "metadata": {},
   "outputs": [
    {
     "data": {
      "application/vnd.jupyter.widget-view+json": {
       "model_id": "567cc2610cc94632a701800dfebca301",
       "version_major": 2,
       "version_minor": 0
      },
      "text/plain": [
       "A Jupyter Widget"
      ]
     },
     "metadata": {},
     "output_type": "display_data"
    }
   ],
   "source": [
    "initial_transform = sitk.CenteredTransformInitializer(fixed_image, \n",
    "                                                      moving_image, \n",
    "                                                      sitk.Euler3DTransform(), \n",
    "                                                      sitk.CenteredTransformInitializerFilter.GEOMETRY)\n",
    "\n",
    "moving_resampled = sitk.Resample(moving_image, fixed_image, initial_transform, sitk.sitkLinear, 0.0, moving_image.GetPixelID())\n",
    "\n",
    "interact(display_images_with_alpha, image_z=(0,fixed_image.GetSize()[2]), alpha=(0.0,2.0,0.05), fixed = fixed(fixed_image), moving=fixed(moving_resampled));"
   ]
  },
  {
   "cell_type": "code",
   "execution_count": 19,
   "metadata": {},
   "outputs": [
    {
     "data": {
      "application/vnd.jupyter.widget-view+json": {
       "model_id": "2960ede99821438f82fc1e7b30aa834e",
       "version_major": 2,
       "version_minor": 0
      },
      "text/plain": [
       "A Jupyter Widget"
      ]
     },
     "metadata": {},
     "output_type": "display_data"
    }
   ],
   "source": [
    "interact(display_images, fixed_image_z=(0,fixed_image.GetSize()[2]-1), moving_image_z=(0,moving_resampled.GetSize()[2]-1), fixed_npa = fixed(sitk.GetArrayViewFromImage(fixed_image)), moving_npa=fixed(sitk.GetArrayViewFromImage(moving_resampled)));"
   ]
  },
  {
   "cell_type": "code",
   "execution_count": 20,
   "metadata": {},
   "outputs": [
    {
     "data": {
      "image/png": "[encoded data removed]",
      "text/plain": [
       "<matplotlib.figure.Figure at 0x10b632748>"
      ]
     },
     "metadata": {},
     "output_type": "display_data"
    }
   ],
   "source": [
    "registration_method = sitk.ImageRegistrationMethod()\n",
    "\n",
    "# Similarity metric settings.\n",
    "registration_method.SetMetricAsMattesMutualInformation(numberOfHistogramBins=50)\n",
    "registration_method.SetMetricSamplingStrategy(registration_method.RANDOM)\n",
    "registration_method.SetMetricSamplingPercentage(0.01)\n",
    "\n",
    "registration_method.SetInterpolator(sitk.sitkLinear)\n",
    "\n",
    "# Optimizer settings.\n",
    "registration_method.SetOptimizerAsGradientDescent(learningRate=1.0, numberOfIterations=100, convergenceMinimumValue=1e-6, convergenceWindowSize=10)\n",
    "registration_method.SetOptimizerScalesFromPhysicalShift()\n",
    "\n",
    "# Setup for the multi-resolution framework.            \n",
    "registration_method.SetShrinkFactorsPerLevel(shrinkFactors = [4,2,1])\n",
    "registration_method.SetSmoothingSigmasPerLevel(smoothingSigmas=[2,1,0])\n",
    "registration_method.SmoothingSigmasAreSpecifiedInPhysicalUnitsOn()\n",
    "\n",
    "# Don't optimize in-place, we would possibly like to run this cell multiple times.\n",
    "registration_method.SetInitialTransform(initial_transform, inPlace=False)\n",
    "\n",
    "# Connect all of the observers so that we can perform plotting during registration.\n",
    "registration_method.AddCommand(sitk.sitkStartEvent, start_plot)\n",
    "registration_method.AddCommand(sitk.sitkEndEvent, end_plot)\n",
    "registration_method.AddCommand(sitk.sitkMultiResolutionIterationEvent, update_multires_iterations) \n",
    "registration_method.AddCommand(sitk.sitkIterationEvent, lambda: plot_values(registration_method))\n",
    "\n",
    "final_transform_3D = registration_method.Execute(sitk.Cast(fixed_image, sitk.sitkFloat32), \n",
    "                                              sitk.Cast(moving_image, sitk.sitkFloat32))"
   ]
  },
  {
   "cell_type": "code",
   "execution_count": 21,
   "metadata": {},
   "outputs": [
    {
     "name": "stdout",
     "output_type": "stream",
     "text": [
      "Final metric value: -0.7200977517008561\n",
      "Optimizer's stopping condition, GradientDescentOptimizerv4Template: Convergence checker passed at iteration 9.\n"
     ]
    }
   ],
   "source": [
    "print('Final metric value: {0}'.format(registration_method.GetMetricValue()))\n",
    "print('Optimizer\\'s stopping condition, {0}'.format(registration_method.GetOptimizerStopConditionDescription()))"
   ]
  },
  {
   "cell_type": "code",
   "execution_count": 22,
   "metadata": {
    "scrolled": true
   },
   "outputs": [
    {
     "data": {
      "application/vnd.jupyter.widget-view+json": {
       "model_id": "4e29dcd515ea464d9fd3daa9207265f1",
       "version_major": 2,
       "version_minor": 0
      },
      "text/plain": [
       "A Jupyter Widget"
      ]
     },
     "metadata": {},
     "output_type": "display_data"
    }
   ],
   "source": [
    "moving_resampled = sitk.Resample(moving_image, fixed_image, final_transform_3D, sitk.sitkLinear, 0.0, moving_image.GetPixelID())\n",
    "\n",
    "interact(display_images_with_alpha, image_z=(0,fixed_image.GetSize()[2]), alpha=(0.0,2.0,0.05), fixed = fixed(fixed_image), moving=fixed(moving_resampled));"
   ]
  },
  {
   "cell_type": "code",
   "execution_count": 23,
   "metadata": {
    "scrolled": true
   },
   "outputs": [
    {
     "data": {
      "application/vnd.jupyter.widget-view+json": {
       "model_id": "34b67d95b7004dfd9862c195779767b0",
       "version_major": 2,
       "version_minor": 0
      },
      "text/plain": [
       "A Jupyter Widget"
      ]
     },
     "metadata": {},
     "output_type": "display_data"
    }
   ],
   "source": [
    "interact(display_images, fixed_image_z=(0,fixed_image.GetSize()[2]-1), moving_image_z=(0,moving_resampled.GetSize()[2]-1), fixed_npa = fixed(sitk.GetArrayViewFromImage(fixed_image)), moving_npa=fixed(sitk.GetArrayViewFromImage(moving_resampled)));"
   ]
  },
  {
   "cell_type": "code",
   "execution_count": 24,
   "metadata": {
    "collapsed": true
   },
   "outputs": [],
   "source": [
    "threeD_image_r = moving_resampled "
   ]
  },
  {
   "cell_type": "code",
   "execution_count": 25,
   "metadata": {
    "collapsed": true
   },
   "outputs": [],
   "source": [
    "#final_transform_3D_inverse = final_transform_3D.GetInverse()\n",
    "#final_transform_T2_inverse = final_transform_T2.GetInverse()\n",
    "#final_transform_Flair_inverse = final_transform_Flair.GetInverse()"
   ]
  },
  {
   "cell_type": "markdown",
   "metadata": {},
   "source": [
    "## Get Anatomical Structure"
   ]
  },
  {
   "cell_type": "code",
   "execution_count": 26,
   "metadata": {
    "scrolled": true
   },
   "outputs": [
    {
     "data": {
      "application/vnd.jupyter.widget-view+json": {
       "model_id": "b7f7d3281051477195ccaed3ae10ef79",
       "version_major": 2,
       "version_minor": 0
      },
      "text/plain": [
       "A Jupyter Widget"
      ]
     },
     "metadata": {},
     "output_type": "display_data"
    }
   ],
   "source": [
    "blurFilter = sitk.CurvatureFlowImageFilter()\n",
    "blurFilter.SetNumberOfIterations( 3 )\n",
    "blurFilter.SetTimeStep( 0.15 )\n",
    "threeD_image_smooth = blurFilter.Execute(threeD_image_r)\n",
    "\n",
    "myshow(threeD_image_smooth)"
   ]
  },
  {
   "cell_type": "markdown",
   "metadata": {},
   "source": [
    "Segment CSF-filled ventricular system using 3D image. "
   ]
  },
  {
   "cell_type": "code",
   "execution_count": 27,
   "metadata": {
    "scrolled": true
   },
   "outputs": [
    {
     "data": {
      "application/vnd.jupyter.widget-view+json": {
       "model_id": "6ccecd7dcbca481ab719fbe9abd0bb9e",
       "version_major": 2,
       "version_minor": 0
      },
      "text/plain": [
       "A Jupyter Widget"
      ]
     },
     "metadata": {},
     "output_type": "display_data"
    }
   ],
   "source": [
    "binaryFilter = sitk.BinaryThresholdImageFilter()\n",
    "binaryFilter.SetLowerThreshold(-100)\n",
    "binaryFilter.SetUpperThreshold(50)\n",
    "threeD_image_water_segment = binaryFilter.Execute(threeD_image_smooth)\n",
    "myshow(threeD_image_water_segment)"
   ]
  },
  {
   "cell_type": "code",
   "execution_count": 28,
   "metadata": {},
   "outputs": [
    {
     "data": {
      "application/vnd.jupyter.widget-view+json": {
       "model_id": "e7c3e1bc538740f29856b5507a2283bd",
       "version_major": 2,
       "version_minor": 0
      },
      "text/plain": [
       "A Jupyter Widget"
      ]
     },
     "metadata": {},
     "output_type": "display_data"
    }
   ],
   "source": [
    "ThresholdFilter = sitk.ConnectedThresholdImageFilter()\n",
    "ThresholdFilter.SetSeedList(seed_ventricles)\n",
    "ThresholdFilter.SetLower(1)\n",
    "ThresholdFilter.SetUpper(1)\n",
    "threeD_image_water_segment = ThresholdFilter.Execute(threeD_image_water_segment)\n",
    "myshow(threeD_image_water_segment)"
   ]
  },
  {
   "cell_type": "code",
   "execution_count": 29,
   "metadata": {
    "scrolled": true
   },
   "outputs": [
    {
     "data": {
      "application/vnd.jupyter.widget-view+json": {
       "model_id": "e45d0d4327464628a56a98ee429e65cd",
       "version_major": 2,
       "version_minor": 0
      },
      "text/plain": [
       "A Jupyter Widget"
      ]
     },
     "metadata": {},
     "output_type": "display_data"
    }
   ],
   "source": [
    "closingFilter = sitk.BinaryMorphologicalClosingImageFilter()\n",
    "closingFilter.SetKernelRadius(3)\n",
    "threeD_image_water_segment = closingFilter.Execute(threeD_image_water_segment)\n",
    "myshow(threeD_image_water_segment)"
   ]
  },
  {
   "cell_type": "code",
   "execution_count": 30,
   "metadata": {},
   "outputs": [
    {
     "data": {
      "application/vnd.jupyter.widget-view+json": {
       "model_id": "855102b74aed4afdb9e8138b12e9b8ae",
       "version_major": 2,
       "version_minor": 0
      },
      "text/plain": [
       "A Jupyter Widget"
      ]
     },
     "metadata": {},
     "output_type": "display_data"
    }
   ],
   "source": [
    "ThresholdFilter = sitk.ConnectedThresholdImageFilter()\n",
    "ThresholdFilter.SetSeedList(seed_ventricles)\n",
    "ThresholdFilter.SetLower(1)\n",
    "ThresholdFilter.SetUpper(1)\n",
    "threeD_image_water_segment = ThresholdFilter.Execute(threeD_image_water_segment)\n",
    "myshow(threeD_image_water_segment)"
   ]
  },
  {
   "cell_type": "code",
   "execution_count": 31,
   "metadata": {},
   "outputs": [
    {
     "data": {
      "application/vnd.jupyter.widget-view+json": {
       "model_id": "5dd67b695cb44c9b8078dafdfd0e7f39",
       "version_major": 2,
       "version_minor": 0
      },
      "text/plain": [
       "A Jupyter Widget"
      ]
     },
     "metadata": {},
     "output_type": "display_data"
    }
   ],
   "source": [
    "dilateFilter= sitk.BinaryDilateImageFilter()\n",
    "threeD_image_water_segment = dilateFilter.Execute(threeD_image_water_segment)\n",
    "myshow(threeD_image_water_segment)"
   ]
  },
  {
   "cell_type": "markdown",
   "metadata": {},
   "source": [
    "Segment bone using Flair image. "
   ]
  },
  {
   "cell_type": "code",
   "execution_count": 32,
   "metadata": {
    "scrolled": true
   },
   "outputs": [
    {
     "data": {
      "application/vnd.jupyter.widget-view+json": {
       "model_id": "9a8e710c8a2f4e49ac20f9281ba17123",
       "version_major": 2,
       "version_minor": 0
      },
      "text/plain": [
       "A Jupyter Widget"
      ]
     },
     "metadata": {},
     "output_type": "display_data"
    }
   ],
   "source": [
    "binaryFilter = sitk.BinaryThresholdImageFilter()\n",
    "binaryFilter.SetLowerThreshold(1200)\n",
    "binaryFilter.SetUpperThreshold(1700)\n",
    "Flair_image_skull_segment = binaryFilter.Execute(Flair_image)\n",
    "myshow(Flair_image_skull_segment)"
   ]
  },
  {
   "cell_type": "code",
   "execution_count": 33,
   "metadata": {},
   "outputs": [
    {
     "data": {
      "application/vnd.jupyter.widget-view+json": {
       "model_id": "0ac00cfb03ba4396a245cf6c5c55eb57",
       "version_major": 2,
       "version_minor": 0
      },
      "text/plain": [
       "A Jupyter Widget"
      ]
     },
     "metadata": {},
     "output_type": "display_data"
    }
   ],
   "source": [
    "closingFilter = sitk.BinaryMorphologicalClosingImageFilter()\n",
    "Flair_image_skull_segment = closingFilter.Execute(Flair_image_skull_segment)\n",
    "myshow(Flair_image_skull_segment)"
   ]
  },
  {
   "cell_type": "code",
   "execution_count": 34,
   "metadata": {
    "scrolled": true
   },
   "outputs": [
    {
     "data": {
      "application/vnd.jupyter.widget-view+json": {
       "model_id": "48277aa0159d4394b2a1ca9b4a50876a",
       "version_major": 2,
       "version_minor": 0
      },
      "text/plain": [
       "A Jupyter Widget"
      ]
     },
     "metadata": {},
     "output_type": "display_data"
    }
   ],
   "source": [
    "dilateFilter= sitk.BinaryDilateImageFilter()\n",
    "Flair_image_skull_segment = dilateFilter.Execute(Flair_image_skull_segment)\n",
    "myshow(Flair_image_skull_segment)"
   ]
  },
  {
   "cell_type": "code",
   "execution_count": 35,
   "metadata": {
    "scrolled": true
   },
   "outputs": [
    {
     "data": {
      "application/vnd.jupyter.widget-view+json": {
       "model_id": "5dd52bedfbc84f6fb81d2aecb2a31c5e",
       "version_major": 2,
       "version_minor": 0
      },
      "text/plain": [
       "A Jupyter Widget"
      ]
     },
     "metadata": {},
     "output_type": "display_data"
    }
   ],
   "source": [
    "openingFilter = sitk.BinaryMorphologicalOpeningImageFilter()\n",
    "openingFilter.SetKernelRadius(2)\n",
    "Flair_image_skull_segment = openingFilter.Execute(Flair_image_skull_segment)\n",
    "myshow(Flair_image_skull_segment)"
   ]
  },
  {
   "cell_type": "markdown",
   "metadata": {},
   "source": [
    "## Remove Anatomical structures"
   ]
  },
  {
   "cell_type": "code",
   "execution_count": 36,
   "metadata": {},
   "outputs": [
    {
     "data": {
      "application/vnd.jupyter.widget-view+json": {
       "model_id": "092ff38090624651abb16772baa31a70",
       "version_major": 2,
       "version_minor": 0
      },
      "text/plain": [
       "A Jupyter Widget"
      ]
     },
     "metadata": {},
     "output_type": "display_data"
    },
    {
     "data": {
      "application/vnd.jupyter.widget-view+json": {
       "model_id": "8d806a659e49460e850a7ff68754aa93",
       "version_major": 2,
       "version_minor": 0
      },
      "text/plain": [
       "A Jupyter Widget"
      ]
     },
     "metadata": {},
     "output_type": "display_data"
    }
   ],
   "source": [
    "#Obtain mask\n",
    "binaryFilter = sitk.BinaryThresholdImageFilter()\n",
    "binaryFilter.SetLowerThreshold(0)\n",
    "binaryFilter.SetUpperThreshold(0)\n",
    "\n",
    "threeD_image_water_mask = binaryFilter.Execute(threeD_image_water_segment)\n",
    "myshow(threeD_image_water_mask)\n",
    "Flair_image_skull_mask = binaryFilter.Execute(Flair_image_skull_segment)\n",
    "myshow(Flair_image_skull_mask )\n"
   ]
  },
  {
   "cell_type": "code",
   "execution_count": 37,
   "metadata": {},
   "outputs": [
    {
     "data": {
      "application/vnd.jupyter.widget-view+json": {
       "model_id": "a821a661462e4e46972a857c5655df39",
       "version_major": 2,
       "version_minor": 0
      },
      "text/plain": [
       "A Jupyter Widget"
      ]
     },
     "metadata": {},
     "output_type": "display_data"
    },
    {
     "data": {
      "application/vnd.jupyter.widget-view+json": {
       "model_id": "792665c6760f46b9b48bb1f4e45cab09",
       "version_major": 2,
       "version_minor": 0
      },
      "text/plain": [
       "A Jupyter Widget"
      ]
     },
     "metadata": {},
     "output_type": "display_data"
    },
    {
     "data": {
      "application/vnd.jupyter.widget-view+json": {
       "model_id": "7a06a804c1324370b41b5e304063b6e3",
       "version_major": 2,
       "version_minor": 0
      },
      "text/plain": [
       "A Jupyter Widget"
      ]
     },
     "metadata": {},
     "output_type": "display_data"
    }
   ],
   "source": [
    "#Apply mask filter to all images\n",
    "maskFilter = sitk.MaskImageFilter()\n",
    "\n",
    "#T1_image = maskFilter.Execute(T1_image,threeD_image_water_mask)\n",
    "T2_image = maskFilter.Execute(T2_image,threeD_image_water_mask)\n",
    "#Flair_image = maskFilter.Execute(Flair_image,threeD_image_water_mask)\n",
    "\n",
    "T1_image = maskFilter.Execute(T1_image,Flair_image_skull_mask)\n",
    "T2_image = maskFilter.Execute(T2_image,Flair_image_skull_mask)\n",
    "Flair_image = maskFilter.Execute(Flair_image,Flair_image_skull_mask)\n",
    "\n",
    "myshow(T1_image)\n",
    "myshow(T2_image)\n",
    "myshow(Flair_image)"
   ]
  },
  {
   "cell_type": "markdown",
   "metadata": {},
   "source": [
    "## Segmentation T1"
   ]
  },
  {
   "cell_type": "code",
   "execution_count": 38,
   "metadata": {},
   "outputs": [
    {
     "data": {
      "application/vnd.jupyter.widget-view+json": {
       "model_id": "17dfedd59c854b0baa9e5d3ff8f074be",
       "version_major": 2,
       "version_minor": 0
      },
      "text/plain": [
       "A Jupyter Widget"
      ]
     },
     "metadata": {},
     "output_type": "display_data"
    }
   ],
   "source": [
    "blurFilter = sitk.CurvatureFlowImageFilter()\n",
    "blurFilter.SetNumberOfIterations( 3 )\n",
    "blurFilter.SetTimeStep( 0.15 )\n",
    "T1_image_s = blurFilter.Execute(T1_image)\n",
    "myshow(T1_image_s) "
   ]
  },
  {
   "cell_type": "code",
   "execution_count": 39,
   "metadata": {},
   "outputs": [
    {
     "data": {
      "application/vnd.jupyter.widget-view+json": {
       "model_id": "eedfd939ce5f45f9a9becc6f3ff039c5",
       "version_major": 2,
       "version_minor": 0
      },
      "text/plain": [
       "A Jupyter Widget"
      ]
     },
     "metadata": {},
     "output_type": "display_data"
    }
   ],
   "source": [
    "adaptiveFilter = sitk.AdaptiveHistogramEqualizationImageFilter()\n",
    "adaptiveFilter.SetAlpha(0.5)\n",
    "adaptiveFilter.SetBeta(1)\n",
    "T1_image1 = adaptiveFilter.Execute(T1_image_s)\n",
    "myshow(T1_image1)"
   ]
  },
  {
   "cell_type": "code",
   "execution_count": 40,
   "metadata": {
    "scrolled": true
   },
   "outputs": [
    {
     "data": {
      "application/vnd.jupyter.widget-view+json": {
       "model_id": "1c25ab70741d4a7fb4259681b4271e2f",
       "version_major": 2,
       "version_minor": 0
      },
      "text/plain": [
       "A Jupyter Widget"
      ]
     },
     "metadata": {},
     "output_type": "display_data"
    }
   ],
   "source": [
    "gradientFilter = sitk.GradientMagnitudeRecursiveGaussianImageFilter()\n",
    "#sigma = sys.argv[3]\n",
    "#sigma = sigma[1:len(sigma)-1]\n",
    "gradientFilter.SetSigma(0.8)\n",
    "T1_image2 = gradientFilter.Execute(T1_image1)\n",
    "myshow(T1_image2)"
   ]
  },
  {
   "cell_type": "code",
   "execution_count": 41,
   "metadata": {
    "scrolled": true
   },
   "outputs": [
    {
     "data": {
      "application/vnd.jupyter.widget-view+json": {
       "model_id": "ef3334c56c52473bac6f191847d19d2b",
       "version_major": 2,
       "version_minor": 0
      },
      "text/plain": [
       "A Jupyter Widget"
      ]
     },
     "metadata": {},
     "output_type": "display_data"
    }
   ],
   "source": [
    "sigmoidFilter = sitk.SigmoidImageFilter()\n",
    "sigmoidFilter.SetAlpha(-70.0)\n",
    "sigmoidFilter.SetBeta(60.0)\n",
    "T1_image3= sigmoidFilter.Execute(T1_image2)\n",
    "myshow(T1_image3)"
   ]
  },
  {
   "cell_type": "code",
   "execution_count": 42,
   "metadata": {},
   "outputs": [
    {
     "data": {
      "application/vnd.jupyter.widget-view+json": {
       "model_id": "540f5821b1de457e989af5c83182a58e",
       "version_major": 2,
       "version_minor": 0
      },
      "text/plain": [
       "A Jupyter Widget"
      ]
     },
     "metadata": {},
     "output_type": "display_data"
    }
   ],
   "source": [
    "fastFilter = sitk.FastMarchingImageFilter()\n",
    "#fastFilter.SetTrialPoints(seed_T1)\n",
    "#fastFilter.SetTrialPoints([(171, 153, 8), (187, 130, 7)])\n",
    "fastFilter.SetTrialPoints([(186, 131, 7), (170, 154, 8), (168, 154, 9)])\n",
    "fastFilter.SetStoppingValue(0.15)\n",
    "T1_image4 = fastFilter.Execute(T1_image3)\n",
    "myshow(T1_image4)"
   ]
  },
  {
   "cell_type": "code",
   "execution_count": 43,
   "metadata": {},
   "outputs": [
    {
     "data": {
      "application/vnd.jupyter.widget-view+json": {
       "model_id": "b512c862de964a4598b711d505b9c7b1",
       "version_major": 2,
       "version_minor": 0
      },
      "text/plain": [
       "A Jupyter Widget"
      ]
     },
     "metadata": {},
     "output_type": "display_data"
    }
   ],
   "source": [
    "binaryFilter = sitk.BinaryThresholdImageFilter()\n",
    "binaryFilter.SetLowerThreshold(0)\n",
    "binaryFilter.SetUpperThreshold(10)\n",
    "T1_image5 = binaryFilter.Execute(T1_image4)\n",
    "myshow(T1_image5)"
   ]
  },
  {
   "cell_type": "code",
   "execution_count": 44,
   "metadata": {},
   "outputs": [
    {
     "data": {
      "application/vnd.jupyter.widget-view+json": {
       "model_id": "45952cb427c94d29bee9f9f2123149d6",
       "version_major": 2,
       "version_minor": 0
      },
      "text/plain": [
       "A Jupyter Widget"
      ]
     },
     "metadata": {},
     "output_type": "display_data"
    },
    {
     "data": {
      "application/vnd.jupyter.widget-view+json": {
       "model_id": "5df09edc51b8408e81f5157a09404bb7",
       "version_major": 2,
       "version_minor": 0
      },
      "text/plain": [
       "A Jupyter Widget"
      ]
     },
     "metadata": {},
     "output_type": "display_data"
    }
   ],
   "source": [
    "closingFilter = sitk.BinaryMorphologicalClosingImageFilter()\n",
    "T1_segment = closingFilter.Execute(T1_image5)\n",
    "myshow(T1_segment)\n",
    "myshow(T1_image)"
   ]
  },
  {
   "cell_type": "markdown",
   "metadata": {},
   "source": [
    "## Segmentation T2"
   ]
  },
  {
   "cell_type": "code",
   "execution_count": 45,
   "metadata": {
    "scrolled": true
   },
   "outputs": [
    {
     "data": {
      "application/vnd.jupyter.widget-view+json": {
       "model_id": "f13c1f5e29444fc3a41392223ce6b9cf",
       "version_major": 2,
       "version_minor": 0
      },
      "text/plain": [
       "A Jupyter Widget"
      ]
     },
     "metadata": {},
     "output_type": "display_data"
    }
   ],
   "source": [
    "myshow(T2_image)"
   ]
  },
  {
   "cell_type": "code",
   "execution_count": 46,
   "metadata": {},
   "outputs": [
    {
     "data": {
      "application/vnd.jupyter.widget-view+json": {
       "model_id": "d6f67755096045b2ae10f40edbfd57f5",
       "version_major": 2,
       "version_minor": 0
      },
      "text/plain": [
       "A Jupyter Widget"
      ]
     },
     "metadata": {},
     "output_type": "display_data"
    }
   ],
   "source": [
    "blurFilter = sitk.CurvatureFlowImageFilter()\n",
    "blurFilter.SetNumberOfIterations( 3 )\n",
    "blurFilter.SetTimeStep( 0.15 )\n",
    "T2_image_s = blurFilter.Execute(T2_image)\n",
    "myshow(T2_image_s) "
   ]
  },
  {
   "cell_type": "code",
   "execution_count": 78,
   "metadata": {
    "scrolled": false
   },
   "outputs": [
    {
     "data": {
      "application/vnd.jupyter.widget-view+json": {
       "model_id": "82894867ec384c10a865cd5c3365c53a",
       "version_major": 2,
       "version_minor": 0
      },
      "text/plain": [
       "A Jupyter Widget"
      ]
     },
     "metadata": {},
     "output_type": "display_data"
    }
   ],
   "source": [
    "Threshold2Filter = sitk.ConfidenceConnectedImageFilter()\n",
    "Threshold2Filter.SetInitialNeighborhoodRadius(20)\n",
    "Threshold2Filter.SetMultiplier(1.1)\n",
    "Threshold2Filter.SetNumberOfIterations(30)\n",
    "#Threshold2Filter.SetSeedList ([(166,176,9)])\n",
    "Threshold2Filter.SetSeedList (seed_T2)\n",
    "T2_image2= Threshold2Filter.Execute(T2_image)\n",
    "myshow(T2_image2)"
   ]
  },
  {
   "cell_type": "code",
   "execution_count": 79,
   "metadata": {},
   "outputs": [
    {
     "data": {
      "application/vnd.jupyter.widget-view+json": {
       "model_id": "bad674cf4ff442c28396b3632f196f0e",
       "version_major": 2,
       "version_minor": 0
      },
      "text/plain": [
       "A Jupyter Widget"
      ]
     },
     "metadata": {},
     "output_type": "display_data"
    }
   ],
   "source": [
    "binaryFilter = sitk.BinaryThresholdImageFilter()\n",
    "binaryFilter.SetLowerThreshold(0)\n",
    "binaryFilter.SetUpperThreshold(0)\n",
    "T2_image3 = binaryFilter.Execute(T2_image2)\n",
    "myshow(T2_image3 )"
   ]
  },
  {
   "cell_type": "code",
   "execution_count": 99,
   "metadata": {},
   "outputs": [
    {
     "data": {
      "application/vnd.jupyter.widget-view+json": {
       "model_id": "497b84a8cded49709889f7364e6c4076",
       "version_major": 2,
       "version_minor": 0
      },
      "text/plain": [
       "A Jupyter Widget"
      ]
     },
     "metadata": {},
     "output_type": "display_data"
    }
   ],
   "source": [
    "ThresholdFilter = sitk.ConnectedThresholdImageFilter()\n",
    "ThresholdFilter.SetSeedList([(166,176,9)])\n",
    "ThresholdFilter.SetLower(1)\n",
    "ThresholdFilter.SetUpper(1)\n",
    "T2_image4 = ThresholdFilter.Execute(T2_image3)\n",
    "myshow(T2_image4)"
   ]
  },
  {
   "cell_type": "code",
   "execution_count": 100,
   "metadata": {},
   "outputs": [
    {
     "data": {
      "application/vnd.jupyter.widget-view+json": {
       "model_id": "4b0a19dd4f04477fbcf013975c5f5763",
       "version_major": 2,
       "version_minor": 0
      },
      "text/plain": [
       "A Jupyter Widget"
      ]
     },
     "metadata": {},
     "output_type": "display_data"
    }
   ],
   "source": [
    "closingFilter = sitk.BinaryMorphologicalClosingImageFilter()\n",
    "T2_image5 = closingFilter.Execute(T2_image4)\n",
    "myshow(T2_image5)"
   ]
  },
  {
   "cell_type": "code",
   "execution_count": 102,
   "metadata": {
    "scrolled": false
   },
   "outputs": [
    {
     "data": {
      "application/vnd.jupyter.widget-view+json": {
       "model_id": "02b4f52f423e46aeacc3816e03a90001",
       "version_major": 2,
       "version_minor": 0
      },
      "text/plain": [
       "A Jupyter Widget"
      ]
     },
     "metadata": {},
     "output_type": "display_data"
    },
    {
     "data": {
      "application/vnd.jupyter.widget-view+json": {
       "model_id": "641e228a10e24762b3ca40b8a6dcd52d",
       "version_major": 2,
       "version_minor": 0
      },
      "text/plain": [
       "A Jupyter Widget"
      ]
     },
     "metadata": {},
     "output_type": "display_data"
    }
   ],
   "source": [
    "T2_segment = T2_image5\n",
    "myshow(T2_segment)\n",
    "myshow(T2_image)"
   ]
  },
  {
   "cell_type": "markdown",
   "metadata": {},
   "source": [
    "## Flair segmentation"
   ]
  },
  {
   "cell_type": "code",
   "execution_count": 103,
   "metadata": {},
   "outputs": [
    {
     "data": {
      "application/vnd.jupyter.widget-view+json": {
       "model_id": "85c72834312548d6ac115242875d61b5",
       "version_major": 2,
       "version_minor": 0
      },
      "text/plain": [
       "A Jupyter Widget"
      ]
     },
     "metadata": {},
     "output_type": "display_data"
    }
   ],
   "source": [
    "myshow(T1_segment)"
   ]
  },
  {
   "cell_type": "code",
   "execution_count": 104,
   "metadata": {
    "collapsed": true
   },
   "outputs": [],
   "source": [
    "castFilter = sitk.CastImageFilter()\n",
    "castFilter.SetOutputPixelType(sitk.sitkInt16)\n",
    "T1_segment_int = castFilter.Execute(T1_segment)"
   ]
  },
  {
   "cell_type": "code",
   "execution_count": 105,
   "metadata": {},
   "outputs": [
    {
     "data": {
      "application/vnd.jupyter.widget-view+json": {
       "model_id": "9ee048e059a54d649c3fc05f788ec7c8",
       "version_major": 2,
       "version_minor": 0
      },
      "text/plain": [
       "A Jupyter Widget"
      ]
     },
     "metadata": {},
     "output_type": "display_data"
    }
   ],
   "source": [
    "dilateFilter= sitk.BinaryDilateImageFilter()\n",
    "closingFilter.SetKernelRadius(6)\n",
    "Flair_mask = dilateFilter.Execute(T1_segment_int)\n",
    "myshow(Flair_mask)"
   ]
  },
  {
   "cell_type": "code",
   "execution_count": 106,
   "metadata": {},
   "outputs": [
    {
     "data": {
      "application/vnd.jupyter.widget-view+json": {
       "model_id": "fa578f137226426983bf6426024fdbb4",
       "version_major": 2,
       "version_minor": 0
      },
      "text/plain": [
       "A Jupyter Widget"
      ]
     },
     "metadata": {},
     "output_type": "display_data"
    }
   ],
   "source": [
    "maskFilter = sitk.MaskImageFilter()\n",
    "Flair_image1 = maskFilter.Execute(Flair_image, Flair_mask)\n",
    "myshow(Flair_image1)"
   ]
  },
  {
   "cell_type": "code",
   "execution_count": 107,
   "metadata": {
    "scrolled": true
   },
   "outputs": [
    {
     "data": {
      "application/vnd.jupyter.widget-view+json": {
       "model_id": "49fcb1782d594f0a80b3091aefcda30b",
       "version_major": 2,
       "version_minor": 0
      },
      "text/plain": [
       "A Jupyter Widget"
      ]
     },
     "metadata": {},
     "output_type": "display_data"
    }
   ],
   "source": [
    "castFilter = sitk.CastImageFilter()\n",
    "castFilter.SetOutputPixelType(sitk.sitkFloat64 )\n",
    "Flair_image1 = castFilter.Execute(Flair_image1)\n",
    "myshow(Flair_image1)"
   ]
  },
  {
   "cell_type": "code",
   "execution_count": 108,
   "metadata": {
    "collapsed": true,
    "scrolled": true
   },
   "outputs": [],
   "source": [
    "#neighborFilter = sitk.NeighborhoodConnectedImageFilter()\n",
    "#neighborFilter.SetSeed((154, 170, 9)) \n",
    "#Flair_image2 = neighborFilter.Execute(Flair_image1)\n",
    "#neighborFilter.SetSeed((154, 170, 9)) \n",
    "#myshow(Flair_image2)"
   ]
  },
  {
   "cell_type": "code",
   "execution_count": 109,
   "metadata": {
    "collapsed": true
   },
   "outputs": [],
   "source": [
    "#cannyFilter = sitk.CannyEdgeDetectionImageFilter()\n",
    "#cannyFilter.SetLowerThreshold(0)\n",
    "#cannyFilter.SetUpperThreshold(500)\n",
    "#cannyFilter.SetVariance([5,5,5])\n",
    "#cannyFilter.SetMaximumError(0.1)\n",
    "#Flair_image2 = cannyFilter.Execute(Flair_image1)\n",
    "#myshow(Flair_image2)"
   ]
  },
  {
   "cell_type": "code",
   "execution_count": 110,
   "metadata": {
    "collapsed": true
   },
   "outputs": [],
   "source": [
    "#Threshold2Filter = sitk.ConfidenceConnectedImageFilter()\n",
    "#Threshold2Filter.SetInitialNeighborhoodRadius(5)\n",
    "#Threshold2Filter.SetMultiplier(2)\n",
    "#Threshold2Filter.SetNumberOfIterations(15)\n",
    "#Threshold2Filter.SetSeedList(seed_Flair)\n",
    "#Flair_image1 = Threshold2Filter.Execute(Flair_image1)\n",
    "#myshow(Flair_image1)"
   ]
  },
  {
   "cell_type": "code",
   "execution_count": 111,
   "metadata": {
    "collapsed": true
   },
   "outputs": [],
   "source": [
    "#otsu_filter = sitk.OtsuThresholdImageFilter()\n",
    "#otsu_filter.SetInsideValue(0)\n",
    "#otsu_filter.SetOutsideValue(1)\n",
    "#Flair_image2 = otsu_filter.Execute(Flair_image1,Flair_mask)\n",
    "#myshow(Flair_image2)"
   ]
  },
  {
   "cell_type": "markdown",
   "metadata": {},
   "source": [
    "## Obtain Masks"
   ]
  },
  {
   "cell_type": "code",
   "execution_count": 112,
   "metadata": {
    "collapsed": true
   },
   "outputs": [],
   "source": [
    "castFilter = sitk.CastImageFilter()\n",
    "castFilter.SetOutputPixelType(sitk.sitkInt64 )\n",
    "T1_segment = castFilter.Execute(T1_segment)\n",
    "T2_segment = castFilter.Execute(T2_segment)\n"
   ]
  },
  {
   "cell_type": "code",
   "execution_count": 113,
   "metadata": {
    "scrolled": false
   },
   "outputs": [
    {
     "data": {
      "application/vnd.jupyter.widget-view+json": {
       "model_id": "f8eecb8f0e07451083a61b2ed6ad08c4",
       "version_major": 2,
       "version_minor": 0
      },
      "text/plain": [
       "A Jupyter Widget"
      ]
     },
     "metadata": {},
     "output_type": "display_data"
    },
    {
     "data": {
      "application/vnd.jupyter.widget-view+json": {
       "model_id": "f27bae696da341f8854fc0167dbfe4a4",
       "version_major": 2,
       "version_minor": 0
      },
      "text/plain": [
       "A Jupyter Widget"
      ]
     },
     "metadata": {},
     "output_type": "display_data"
    },
    {
     "data": {
      "application/vnd.jupyter.widget-view+json": {
       "model_id": "31e0e5c1aed5466b91205bdbb5ceb6d9",
       "version_major": 2,
       "version_minor": 0
      },
      "text/plain": [
       "A Jupyter Widget"
      ]
     },
     "metadata": {},
     "output_type": "display_data"
    }
   ],
   "source": [
    "\n",
    "maskFilter = sitk.MaskImageFilter()\n",
    "#threeD_tumor = maskFilter.Execute(threeD_image,threeD_segment)\n",
    "#myshow(threeD_tumor)\n",
    "T1_tumor = maskFilter.Execute(T1_image,T1_segment)\n",
    "myshow(T1_tumor)\n",
    "T2_tumor = maskFilter.Execute(T2_image,T2_segment)\n",
    "myshow(T2_tumor)\n",
    "Flair_tumor = maskFilter.Execute(Flair_image,T1_segment)\n",
    "myshow(Flair_tumor)"
   ]
  },
  {
   "cell_type": "markdown",
   "metadata": {},
   "source": [
    "## Shape Analysis "
   ]
  },
  {
   "cell_type": "code",
   "execution_count": 114,
   "metadata": {
    "collapsed": true
   },
   "outputs": [],
   "source": [
    "#binaryFilter = sitk.BinaryImageToLabelMapFilter()\n",
    "#T1_segment_label = binaryFilter.Execute(T1_segment)\n",
    "#T2_segment_label = binaryFilter.Execute(T2_segment)"
   ]
  },
  {
   "cell_type": "code",
   "execution_count": 115,
   "metadata": {},
   "outputs": [
    {
     "name": "stdout",
     "output_type": "stream",
     "text": [
      "itk::simple::LabelShapeStatisticsImageFilter\n",
      "  BackgroundValue: 0\n",
      "  ComputeFeretDiameter: 0\n",
      "  ComputePerimeter: 1\n",
      "  Labels: [ 1 ]\n",
      "  Debug: 0\n",
      "  NumberOfThreads: 4\n",
      "  Commands: (none)\n",
      "  ProgressMeasurement: 0\n",
      "  ActiveProcess:\n",
      "    LabelImageToShapeLabelMapFilter (0x7f8574c26f20)\n",
      "      RTTI typeinfo:   itk::LabelImageToShapeLabelMapFilter<itk::Image<long long, 3u>, itk::LabelMap<itk::ShapeLabelObject<long long, 3u> > >\n",
      "      Reference Count: 1\n",
      "      Modified Time: 77781\n",
      "      Debug: Off\n",
      "      Object Name: \n",
      "      Observers: \n",
      "        DeleteEvent(SimpleMemberCommand)\n",
      "      Inputs: \n",
      "        Primary: (0x7f85749e6ce0) *\n",
      "      Indexed Inputs: \n",
      "        0: Primary (0x7f85749e6ce0)\n",
      "      Required Input Names: Primary\n",
      "      NumberOfRequiredInputs: 1\n",
      "      Outputs: \n",
      "        Primary: (0x7f8571fd7100)\n",
      "      Indexed Outputs: \n",
      "        0: Primary (0x7f8571fd7100)\n",
      "      NumberOfRequiredOutputs: 1\n",
      "      Number Of Threads: 4\n",
      "      ReleaseDataFlag: Off\n",
      "      ReleaseDataBeforeUpdateFlag: Off\n",
      "      AbortGenerateData: Off\n",
      "      Progress: 1\n",
      "      Multithreader: \n",
      "        RTTI typeinfo:   itk::MultiThreader\n",
      "        Reference Count: 1\n",
      "        Modified Time: 77770\n",
      "        Debug: Off\n",
      "        Object Name: \n",
      "        Observers: \n",
      "          none\n",
      "        Thread Count: 4\n",
      "        Global Maximum Number Of Threads: 128\n",
      "        Global Default Number Of Threads: 4\n",
      "      CoordinateTolerance: 1e-06\n",
      "      DirectionTolerance: 1e-06\n",
      "      BackgroundValue: 0\n",
      "      ComputeFeretDiameter: 0\n",
      "      ComputePerimeter: 1\n",
      "\n"
     ]
    }
   ],
   "source": [
    "shapeFilter= sitk.LabelShapeStatisticsImageFilter()\n",
    "shapeFilter.Execute(T1_segment)\n",
    "print(shapeFilter)"
   ]
  },
  {
   "cell_type": "code",
   "execution_count": 116,
   "metadata": {},
   "outputs": [
    {
     "name": "stdout",
     "output_type": "stream",
     "text": [
      "1.556761469932951\n",
      "8160.496166646768\n",
      "25.4831640794888\n",
      "0.0\n",
      "1.495268264659707\n",
      "13735\n",
      "0\n",
      "8667.868638755748\n",
      "0.0\n",
      "0.0\n",
      "69318.42092823304\n",
      "0.9414651405951842\n"
     ]
    }
   ],
   "source": [
    "print(shapeFilter.GetElongation(1))\n",
    "print(shapeFilter.GetEquivalentSphericalPerimeter(1))\n",
    "print(shapeFilter.GetEquivalentSphericalRadius(1))\n",
    "print(shapeFilter.GetFeretDiameter (1))\n",
    "print(shapeFilter.GetFlatness(1))\n",
    "print(shapeFilter.GetNumberOfPixels(1))\n",
    "print(shapeFilter.GetNumberOfPixelsOnBorder(1))\n",
    "print(shapeFilter.GetPerimeter(1))\n",
    "print(shapeFilter.GetPerimeterOnBorder(1))\n",
    "print(shapeFilter.GetPerimeterOnBorderRatio(1))\n",
    "print(shapeFilter.GetPhysicalSize(1))\n",
    "print(shapeFilter.GetRoundness(1))"
   ]
  },
  {
   "cell_type": "code",
   "execution_count": 117,
   "metadata": {},
   "outputs": [
    {
     "name": "stdout",
     "output_type": "stream",
     "text": [
      "itk::simple::LabelShapeStatisticsImageFilter\n",
      "  BackgroundValue: 0\n",
      "  ComputeFeretDiameter: 0\n",
      "  ComputePerimeter: 1\n",
      "  Labels: [ 1 ]\n",
      "  Debug: 0\n",
      "  NumberOfThreads: 4\n",
      "  Commands: (none)\n",
      "  ProgressMeasurement: 0\n",
      "  ActiveProcess:\n",
      "    LabelImageToShapeLabelMapFilter (0x7f8574a06540)\n",
      "      RTTI typeinfo:   itk::LabelImageToShapeLabelMapFilter<itk::Image<long long, 3u>, itk::LabelMap<itk::ShapeLabelObject<long long, 3u> > >\n",
      "      Reference Count: 1\n",
      "      Modified Time: 78345\n",
      "      Debug: Off\n",
      "      Object Name: \n",
      "      Observers: \n",
      "        DeleteEvent(SimpleMemberCommand)\n",
      "      Inputs: \n",
      "        Primary: (0x7f8571ffa400) *\n",
      "      Indexed Inputs: \n",
      "        0: Primary (0x7f8571ffa400)\n",
      "      Required Input Names: Primary\n",
      "      NumberOfRequiredInputs: 1\n",
      "      Outputs: \n",
      "        Primary: (0x7f8574a0e670)\n",
      "      Indexed Outputs: \n",
      "        0: Primary (0x7f8574a0e670)\n",
      "      NumberOfRequiredOutputs: 1\n",
      "      Number Of Threads: 4\n",
      "      ReleaseDataFlag: Off\n",
      "      ReleaseDataBeforeUpdateFlag: Off\n",
      "      AbortGenerateData: Off\n",
      "      Progress: 1\n",
      "      Multithreader: \n",
      "        RTTI typeinfo:   itk::MultiThreader\n",
      "        Reference Count: 1\n",
      "        Modified Time: 78334\n",
      "        Debug: Off\n",
      "        Object Name: \n",
      "        Observers: \n",
      "          none\n",
      "        Thread Count: 4\n",
      "        Global Maximum Number Of Threads: 128\n",
      "        Global Default Number Of Threads: 4\n",
      "      CoordinateTolerance: 1e-06\n",
      "      DirectionTolerance: 1e-06\n",
      "      BackgroundValue: 0\n",
      "      ComputeFeretDiameter: 0\n",
      "      ComputePerimeter: 1\n",
      "\n"
     ]
    }
   ],
   "source": [
    "shapeFilter= sitk.LabelShapeStatisticsImageFilter()\n",
    "shapeFilter.Execute(T2_segment)\n",
    "print(shapeFilter)"
   ]
  },
  {
   "cell_type": "code",
   "execution_count": 118,
   "metadata": {},
   "outputs": [
    {
     "name": "stdout",
     "output_type": "stream",
     "text": [
      "1.438587141995805\n",
      "7230.7962799405195\n",
      "23.987673610033777\n",
      "0.0\n",
      "1.355442344785526\n",
      "11456\n",
      "0\n",
      "10993.561002065442\n",
      "0.0\n",
      "0.0\n",
      "57816.660367953235\n",
      "0.6577301275339279\n"
     ]
    }
   ],
   "source": [
    "print(shapeFilter.GetElongation(1))\n",
    "print(shapeFilter.GetEquivalentSphericalPerimeter(1))\n",
    "print(shapeFilter.GetEquivalentSphericalRadius(1))\n",
    "print(shapeFilter.GetFeretDiameter (1))\n",
    "print(shapeFilter.GetFlatness(1))\n",
    "print(shapeFilter.GetNumberOfPixels(1))\n",
    "print(shapeFilter.GetNumberOfPixelsOnBorder(1))\n",
    "print(shapeFilter.GetPerimeter(1))\n",
    "print(shapeFilter.GetPerimeterOnBorder(1))\n",
    "print(shapeFilter.GetPerimeterOnBorderRatio(1))\n",
    "print(shapeFilter.GetPhysicalSize(1))\n",
    "print(shapeFilter.GetRoundness(1))"
   ]
  },
  {
   "cell_type": "markdown",
   "metadata": {},
   "source": [
    "## Intensity Analysis "
   ]
  },
  {
   "cell_type": "code",
   "execution_count": 119,
   "metadata": {},
   "outputs": [
    {
     "name": "stdout",
     "output_type": "stream",
     "text": [
      "itk::simple::LabelIntensityStatisticsImageFilter\n",
      "  BackgroundValue: 0\n",
      "  ComputeFeretDiameter: 0\n",
      "  ComputePerimeter: 1\n",
      "  NumberOfBins: 128\n",
      "  Labels: [ 1 ]\n",
      "  Debug: 0\n",
      "  NumberOfThreads: 4\n",
      "  Commands: (none)\n",
      "  ProgressMeasurement: 0\n",
      "  ActiveProcess:\n",
      "    LabelImageToStatisticsLabelMapFilter (0x7f85749a6650)\n",
      "      RTTI typeinfo:   itk::LabelImageToStatisticsLabelMapFilter<itk::Image<long long, 3u>, itk::Image<double, 3u>, itk::LabelMap<itk::StatisticsLabelObject<long long, 3u> > >\n",
      "      Reference Count: 1\n",
      "      Modified Time: 79038\n",
      "      Debug: Off\n",
      "      Object Name: \n",
      "      Observers: \n",
      "        DeleteEvent(SimpleMemberCommand)\n",
      "      Inputs: \n",
      "        Primary: (0x7f85749e6ce0) *\n",
      "        _1: (0x7f8571fd6470)\n",
      "      Indexed Inputs: \n",
      "        0: Primary (0x7f85749e6ce0)\n",
      "        1: _1 (0x7f8571fd6470)\n",
      "      Required Input Names: Primary\n",
      "      NumberOfRequiredInputs: 2\n",
      "      Outputs: \n",
      "        Primary: (0x7f85749ea290)\n",
      "      Indexed Outputs: \n",
      "        0: Primary (0x7f85749ea290)\n",
      "      NumberOfRequiredOutputs: 1\n",
      "      Number Of Threads: 4\n",
      "      ReleaseDataFlag: Off\n",
      "      ReleaseDataBeforeUpdateFlag: Off\n",
      "      AbortGenerateData: Off\n",
      "      Progress: 1\n",
      "      Multithreader: \n",
      "        RTTI typeinfo:   itk::MultiThreader\n",
      "        Reference Count: 1\n",
      "        Modified Time: 79024\n",
      "        Debug: Off\n",
      "        Object Name: \n",
      "        Observers: \n",
      "          none\n",
      "        Thread Count: 4\n",
      "        Global Maximum Number Of Threads: 128\n",
      "        Global Default Number Of Threads: 4\n",
      "      CoordinateTolerance: 1e-06\n",
      "      DirectionTolerance: 1e-06\n",
      "      BackgroundValue: 0\n",
      "      ComputeFeretDiameter: 0\n",
      "      ComputePerimeter: 1\n",
      "      ComputeHistogram: 1\n",
      "      NumberOfBins: 128\n",
      "\n"
     ]
    }
   ],
   "source": [
    "intensityFilter = sitk.LabelIntensityStatisticsImageFilter()\n",
    "intensityFilter.Execute(T1_segment,T1_image)\n",
    "print(intensityFilter)"
   ]
  },
  {
   "cell_type": "code",
   "execution_count": 120,
   "metadata": {},
   "outputs": [
    {
     "name": "stdout",
     "output_type": "stream",
     "text": [
      "0.0\n",
      "1.556761469932951\n",
      "8160.496166646768\n",
      "25.4831640794888\n",
      "0.0\n",
      "1.495268264659707\n",
      "2.2817835317254733\n",
      "1392.0\n",
      "629.2651619949036\n",
      "608.76171875\n",
      "4.0\n",
      "13735\n",
      "0\n",
      "8667.868638755748\n",
      "0.0\n",
      "0.0\n",
      "69318.42092823304\n",
      "0.9414651405951842\n",
      "0.4219332134774327\n",
      "186.72434558699783\n",
      "8642957.0\n",
      "34865.9812348926\n",
      "1.4776494409567964\n",
      "1.4643238430487697\n"
     ]
    }
   ],
   "source": [
    "print(intensityFilter.GetBackgroundValue())\n",
    "print(intensityFilter.GetElongation(1))\n",
    "#print(intensityFilter.GetEquivalentEllipsoidDiameter(1))\n",
    "print(intensityFilter.GetEquivalentSphericalPerimeter(1))\n",
    "print(intensityFilter.GetEquivalentSphericalRadius(1))\n",
    "print(intensityFilter.GetFeretDiameter(1))\n",
    "print(intensityFilter.GetFlatness(1))\n",
    "print(intensityFilter.GetKurtosis(1))\n",
    "print(intensityFilter.GetMaximum(1))\n",
    "print(intensityFilter.GetMean(1))\n",
    "print(intensityFilter.GetMedian(1))\n",
    "print(intensityFilter.GetMinimum(1))\n",
    "print(intensityFilter.GetNumberOfPixels(1))\n",
    "print(intensityFilter.GetNumberOfPixelsOnBorder(1))\n",
    "print(intensityFilter.GetPerimeter(1))\n",
    "print(intensityFilter.GetPerimeterOnBorder(1))\n",
    "print(intensityFilter.GetPerimeterOnBorderRatio(1))\n",
    "print(intensityFilter.GetPhysicalSize(1))\n",
    "print(intensityFilter.GetRoundness(1) )\n",
    "print(intensityFilter.GetSkewness(1))\n",
    "print(intensityFilter.GetStandardDeviation(1))\n",
    "print(intensityFilter.GetSum(1))\n",
    "print(intensityFilter.GetVariance(1))\n",
    "print(intensityFilter.GetWeightedElongation(1))\n",
    "print(intensityFilter.GetWeightedFlatness(1))\n"
   ]
  },
  {
   "cell_type": "code",
   "execution_count": 121,
   "metadata": {},
   "outputs": [
    {
     "name": "stdout",
     "output_type": "stream",
     "text": [
      "itk::simple::LabelIntensityStatisticsImageFilter\n",
      "  BackgroundValue: 0\n",
      "  ComputeFeretDiameter: 0\n",
      "  ComputePerimeter: 1\n",
      "  NumberOfBins: 128\n",
      "  Labels: [ 1 ]\n",
      "  Debug: 0\n",
      "  NumberOfThreads: 4\n",
      "  Commands: (none)\n",
      "  ProgressMeasurement: 0\n",
      "  ActiveProcess:\n",
      "    LabelImageToStatisticsLabelMapFilter (0x7f85746895b0)\n",
      "      RTTI typeinfo:   itk::LabelImageToStatisticsLabelMapFilter<itk::Image<long long, 3u>, itk::Image<double, 3u>, itk::LabelMap<itk::StatisticsLabelObject<long long, 3u> > >\n",
      "      Reference Count: 1\n",
      "      Modified Time: 79617\n",
      "      Debug: Off\n",
      "      Object Name: \n",
      "      Observers: \n",
      "        DeleteEvent(SimpleMemberCommand)\n",
      "      Inputs: \n",
      "        Primary: (0x7f8571ffa400) *\n",
      "        _1: (0x7f85749be720)\n",
      "      Indexed Inputs: \n",
      "        0: Primary (0x7f8571ffa400)\n",
      "        1: _1 (0x7f85749be720)\n",
      "      Required Input Names: Primary\n",
      "      NumberOfRequiredInputs: 2\n",
      "      Outputs: \n",
      "        Primary: (0x7f85746817a0)\n",
      "      Indexed Outputs: \n",
      "        0: Primary (0x7f85746817a0)\n",
      "      NumberOfRequiredOutputs: 1\n",
      "      Number Of Threads: 4\n",
      "      ReleaseDataFlag: Off\n",
      "      ReleaseDataBeforeUpdateFlag: Off\n",
      "      AbortGenerateData: Off\n",
      "      Progress: 1\n",
      "      Multithreader: \n",
      "        RTTI typeinfo:   itk::MultiThreader\n",
      "        Reference Count: 1\n",
      "        Modified Time: 79603\n",
      "        Debug: Off\n",
      "        Object Name: \n",
      "        Observers: \n",
      "          none\n",
      "        Thread Count: 4\n",
      "        Global Maximum Number Of Threads: 128\n",
      "        Global Default Number Of Threads: 4\n",
      "      CoordinateTolerance: 1e-06\n",
      "      DirectionTolerance: 1e-06\n",
      "      BackgroundValue: 0\n",
      "      ComputeFeretDiameter: 0\n",
      "      ComputePerimeter: 1\n",
      "      ComputeHistogram: 1\n",
      "      NumberOfBins: 128\n",
      "\n"
     ]
    }
   ],
   "source": [
    "#LabelIntensityStatisticsImageFilter \n",
    "intensityFilter = sitk.LabelIntensityStatisticsImageFilter()\n",
    "intensityFilter.Execute(T2_segment,T2_image)\n",
    "print(intensityFilter)"
   ]
  },
  {
   "cell_type": "code",
   "execution_count": 122,
   "metadata": {},
   "outputs": [
    {
     "name": "stdout",
     "output_type": "stream",
     "text": [
      "0.0\n",
      "1.438587141995805\n",
      "7230.7962799405195\n",
      "23.987673610033777\n",
      "0.0\n",
      "1.355442344785526\n",
      "1.4015929233358584\n",
      "1875.1350246790896\n",
      "1252.9058914778188\n",
      "1237.882080078125\n",
      "709.7511302523282\n",
      "11456\n",
      "0\n",
      "10993.561002065442\n",
      "0.0\n",
      "0.0\n",
      "57816.660367953235\n",
      "0.6577301275339279\n",
      "0.6518746760124894\n",
      "143.4022258131596\n",
      "14353289.892769892\n",
      "20564.198368168418\n",
      "1.435069213158362\n",
      "1.3511442140023882\n"
     ]
    }
   ],
   "source": [
    "print(intensityFilter.GetBackgroundValue())\n",
    "print(intensityFilter.GetElongation(1))\n",
    "#print(intensityFilter.GetEquivalentEllipsoidDiameter(1))\n",
    "print(intensityFilter.GetEquivalentSphericalPerimeter(1))\n",
    "print(intensityFilter.GetEquivalentSphericalRadius(1))\n",
    "print(intensityFilter.GetFeretDiameter(1))\n",
    "print(intensityFilter.GetFlatness(1))\n",
    "print(intensityFilter.GetKurtosis(1))\n",
    "print(intensityFilter.GetMaximum(1))\n",
    "print(intensityFilter.GetMean(1))\n",
    "print(intensityFilter.GetMedian(1))\n",
    "print(intensityFilter.GetMinimum(1))\n",
    "print(intensityFilter.GetNumberOfPixels(1))\n",
    "print(intensityFilter.GetNumberOfPixelsOnBorder(1))\n",
    "print(intensityFilter.GetPerimeter(1))\n",
    "print(intensityFilter.GetPerimeterOnBorder(1))\n",
    "print(intensityFilter.GetPerimeterOnBorderRatio(1))\n",
    "print(intensityFilter.GetPhysicalSize(1))\n",
    "print(intensityFilter.GetRoundness(1) )\n",
    "print(intensityFilter.GetSkewness(1))\n",
    "print(intensityFilter.GetStandardDeviation(1))\n",
    "print(intensityFilter.GetSum(1))\n",
    "print(intensityFilter.GetVariance(1))\n",
    "print(intensityFilter.GetWeightedElongation(1))\n",
    "print(intensityFilter.GetWeightedFlatness(1))\n"
   ]
  },
  {
   "cell_type": "code",
   "execution_count": 123,
   "metadata": {},
   "outputs": [
    {
     "name": "stdout",
     "output_type": "stream",
     "text": [
      "itk::simple::LabelIntensityStatisticsImageFilter\n",
      "  BackgroundValue: 0\n",
      "  ComputeFeretDiameter: 0\n",
      "  ComputePerimeter: 1\n",
      "  NumberOfBins: 128\n",
      "  Labels: [ 1 ]\n",
      "  Debug: 0\n",
      "  NumberOfThreads: 4\n",
      "  Commands: (none)\n",
      "  ProgressMeasurement: 0\n",
      "  ActiveProcess:\n",
      "    LabelImageToStatisticsLabelMapFilter (0x7f8574861b70)\n",
      "      RTTI typeinfo:   itk::LabelImageToStatisticsLabelMapFilter<itk::Image<long long, 3u>, itk::Image<double, 3u>, itk::LabelMap<itk::StatisticsLabelObject<long long, 3u> > >\n",
      "      Reference Count: 1\n",
      "      Modified Time: 80323\n",
      "      Debug: Off\n",
      "      Object Name: \n",
      "      Observers: \n",
      "        DeleteEvent(SimpleMemberCommand)\n",
      "      Inputs: \n",
      "        Primary: (0x7f85749e6ce0) *\n",
      "        _1: (0x7f85748de840)\n",
      "      Indexed Inputs: \n",
      "        0: Primary (0x7f85749e6ce0)\n",
      "        1: _1 (0x7f85748de840)\n",
      "      Required Input Names: Primary\n",
      "      NumberOfRequiredInputs: 2\n",
      "      Outputs: \n",
      "        Primary: (0x7f8574a0e930)\n",
      "      Indexed Outputs: \n",
      "        0: Primary (0x7f8574a0e930)\n",
      "      NumberOfRequiredOutputs: 1\n",
      "      Number Of Threads: 4\n",
      "      ReleaseDataFlag: Off\n",
      "      ReleaseDataBeforeUpdateFlag: Off\n",
      "      AbortGenerateData: Off\n",
      "      Progress: 1\n",
      "      Multithreader: \n",
      "        RTTI typeinfo:   itk::MultiThreader\n",
      "        Reference Count: 1\n",
      "        Modified Time: 80309\n",
      "        Debug: Off\n",
      "        Object Name: \n",
      "        Observers: \n",
      "          none\n",
      "        Thread Count: 4\n",
      "        Global Maximum Number Of Threads: 128\n",
      "        Global Default Number Of Threads: 4\n",
      "      CoordinateTolerance: 1e-06\n",
      "      DirectionTolerance: 1e-06\n",
      "      BackgroundValue: 0\n",
      "      ComputeFeretDiameter: 0\n",
      "      ComputePerimeter: 1\n",
      "      ComputeHistogram: 1\n",
      "      NumberOfBins: 128\n",
      "\n"
     ]
    }
   ],
   "source": [
    "intensityFilter = sitk.LabelIntensityStatisticsImageFilter()\n",
    "intensityFilter.Execute(T1_segment,Flair_tumor)\n",
    "print(intensityFilter)"
   ]
  },
  {
   "cell_type": "code",
   "execution_count": 124,
   "metadata": {},
   "outputs": [
    {
     "name": "stdout",
     "output_type": "stream",
     "text": [
      "0.0\n",
      "1.556761469932951\n",
      "8160.496166646768\n",
      "25.4831640794888\n",
      "0.0\n",
      "1.495268264659707\n",
      "8.42695013733836\n",
      "1052.2611547768513\n",
      "707.3210021454637\n",
      "727.5399169921875\n",
      "29.6433441322826\n",
      "13735\n",
      "0\n",
      "8667.868638755748\n",
      "0.0\n",
      "0.0\n",
      "69318.42092823304\n",
      "0.9414651405951842\n",
      "-2.431355235717287\n",
      "124.81023653240152\n",
      "9715053.964467945\n",
      "15577.595143274013\n",
      "1.4810665399276255\n",
      "1.5079700668097502\n"
     ]
    }
   ],
   "source": [
    "print(intensityFilter.GetBackgroundValue())\n",
    "print(intensityFilter.GetElongation(1))\n",
    "#print(intensityFilter.GetEquivalentEllipsoidDiameter(1))\n",
    "print(intensityFilter.GetEquivalentSphericalPerimeter(1))\n",
    "print(intensityFilter.GetEquivalentSphericalRadius(1))\n",
    "print(intensityFilter.GetFeretDiameter(1))\n",
    "print(intensityFilter.GetFlatness(1))\n",
    "print(intensityFilter.GetKurtosis(1))\n",
    "print(intensityFilter.GetMaximum(1))\n",
    "print(intensityFilter.GetMean(1))\n",
    "print(intensityFilter.GetMedian(1))\n",
    "print(intensityFilter.GetMinimum(1))\n",
    "print(intensityFilter.GetNumberOfPixels(1))\n",
    "print(intensityFilter.GetNumberOfPixelsOnBorder(1))\n",
    "print(intensityFilter.GetPerimeter(1))\n",
    "print(intensityFilter.GetPerimeterOnBorder(1))\n",
    "print(intensityFilter.GetPerimeterOnBorderRatio(1))\n",
    "print(intensityFilter.GetPhysicalSize(1))\n",
    "print(intensityFilter.GetRoundness(1) )\n",
    "print(intensityFilter.GetSkewness(1))\n",
    "print(intensityFilter.GetStandardDeviation(1))\n",
    "print(intensityFilter.GetSum(1))\n",
    "print(intensityFilter.GetVariance(1))\n",
    "print(intensityFilter.GetWeightedElongation(1))\n",
    "print(intensityFilter.GetWeightedFlatness(1))"
   ]
  },
  {
   "cell_type": "markdown",
   "metadata": {},
   "source": [
    "## Texture Analysis "
   ]
  },
  {
   "cell_type": "code",
   "execution_count": 125,
   "metadata": {
    "scrolled": true
   },
   "outputs": [
    {
     "name": "stdout",
     "output_type": "stream",
     "text": [
      "64-bit float\n",
      "64-bit float\n",
      "64-bit float\n",
      "64-bit float\n",
      "(512, 512, 60)\n",
      "(256, 256, 20)\n",
      "(256, 256, 20)\n",
      "(256, 256, 20)\n"
     ]
    }
   ],
   "source": [
    "#Issues encountered for texture analysis in python \n",
    "print(threeD_image.GetPixelIDTypeAsString() )\n",
    "print(T1_image.GetPixelIDTypeAsString() )\n",
    "print(T2_image.GetPixelIDTypeAsString() )\n",
    "print(Flair_image.GetPixelIDTypeAsString() )\n",
    "print(threeD_image.GetSize())\n",
    "print(T1_image.GetSize())\n",
    "print(T2_image.GetSize())\n",
    "print(Flair_image.GetSize())"
   ]
  },
  {
   "cell_type": "code",
   "execution_count": 126,
   "metadata": {
    "collapsed": true
   },
   "outputs": [],
   "source": [
    "#InputType = type(T2_image)\n",
    "#castFilter = itk.CastImageFilter[InputType, itk.Image.SS2].New()\n",
    "##castFilter.SetOutputPixelType(itk.Image.SS2)\n",
    "#castFilter.SetInput(T2_image)\n",
    "\n",
    "#T1_segment1 = castFilter.Execute(T1_segment)\n",
    "#T2_segment1 = castFilter.Execute(T2_segment)"
   ]
  },
  {
   "cell_type": "code",
   "execution_count": 127,
   "metadata": {
    "collapsed": true,
    "scrolled": false
   },
   "outputs": [],
   "source": [
    "#InputImageType  = itk.Image.SS2 \n",
    "#reader = itk.ImageFileReader[InputImageType].New()  \n",
    "#print(reader.GetOutput())\n",
    "#textureFilter = itk.ScalarImageToTextureFeaturesFilter.New()\n",
    "#textureFilter.SetInput() \n",
    "#print(textureFilter)\n",
    "#textureFilter.SetMaskImage(T1_segment_label) \n",
    "#textureFilter.SetInput(T2_segment) \n",
    "#textureFilter.SetMaskImage(T1_segment_label) \n"
   ]
  }
 ],
 "metadata": {
  "kernelspec": {
   "display_name": "Python 3",
   "language": "python",
   "name": "python3"
  },
  "language_info": {
   "codemirror_mode": {
    "name": "ipython",
    "version": 3
   },
   "file_extension": ".py",
   "mimetype": "text/x-python",
   "name": "python",
   "nbconvert_exporter": "python",
   "pygments_lexer": "ipython3",
   "version": "3.6.3"
  }
 },
 "nbformat": 4,
 "nbformat_minor": 2
}
